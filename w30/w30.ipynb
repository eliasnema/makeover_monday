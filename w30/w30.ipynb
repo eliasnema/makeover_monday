{
 "cells": [
  {
   "cell_type": "code",
   "execution_count": 5,
   "metadata": {},
   "outputs": [],
   "source": [
    "import pandas\n",
    "import plotly.express as px\n",
    "%matplotlib inline\n",
    "from pandas.plotting import scatter_matrix"
   ]
  },
  {
   "cell_type": "code",
   "execution_count": 6,
   "metadata": {},
   "outputs": [],
   "source": [
    "df = pandas.read_excel('/Users/elias.nema/Downloads/Arsenal Player Stats 2018-19.xlsx')"
   ]
  },
  {
   "cell_type": "code",
   "execution_count": 7,
   "metadata": {},
   "outputs": [
    {
     "data": {
      "text/plain": [
       "Index(['Rank', 'Player', 'Nationality', 'Metric', 'Stat'], dtype='object')"
      ]
     },
     "execution_count": 7,
     "metadata": {},
     "output_type": "execute_result"
    }
   ],
   "source": [
    "df.columns"
   ]
  },
  {
   "cell_type": "code",
   "execution_count": 8,
   "metadata": {},
   "outputs": [],
   "source": [
    "training = df.pivot(index='Player', columns='Metric', values='Stat')"
   ]
  },
  {
   "cell_type": "code",
   "execution_count": 9,
   "metadata": {},
   "outputs": [],
   "source": [
    "pandas.set_option('display.max_columns', None)"
   ]
  },
  {
   "cell_type": "code",
   "execution_count": 10,
   "metadata": {},
   "outputs": [
    {
     "data": {
      "text/html": [
       "<div>\n",
       "<style scoped>\n",
       "    .dataframe tbody tr th:only-of-type {\n",
       "        vertical-align: middle;\n",
       "    }\n",
       "\n",
       "    .dataframe tbody tr th {\n",
       "        vertical-align: top;\n",
       "    }\n",
       "\n",
       "    .dataframe thead th {\n",
       "        text-align: right;\n",
       "    }\n",
       "</style>\n",
       "<table border=\"1\" class=\"dataframe\">\n",
       "  <thead>\n",
       "    <tr style=\"text-align: right;\">\n",
       "      <th>Metric</th>\n",
       "      <th>Appearances</th>\n",
       "      <th>Assists</th>\n",
       "      <th>Big Chances Missed</th>\n",
       "      <th>Clearances</th>\n",
       "      <th>Clearances Off Line</th>\n",
       "      <th>Dispossessed</th>\n",
       "      <th>Fouls</th>\n",
       "      <th>Goals</th>\n",
       "      <th>High Claim</th>\n",
       "      <th>Hit Woodwork</th>\n",
       "      <th>Minutes Played</th>\n",
       "      <th>Offsides</th>\n",
       "      <th>Own Goal</th>\n",
       "      <th>Passes</th>\n",
       "      <th>Punches</th>\n",
       "      <th>Red Cards</th>\n",
       "      <th>Saves</th>\n",
       "      <th>Shots</th>\n",
       "      <th>Tackles</th>\n",
       "      <th>Touches</th>\n",
       "      <th>Yellow Cards</th>\n",
       "    </tr>\n",
       "    <tr>\n",
       "      <th>Player</th>\n",
       "      <th></th>\n",
       "      <th></th>\n",
       "      <th></th>\n",
       "      <th></th>\n",
       "      <th></th>\n",
       "      <th></th>\n",
       "      <th></th>\n",
       "      <th></th>\n",
       "      <th></th>\n",
       "      <th></th>\n",
       "      <th></th>\n",
       "      <th></th>\n",
       "      <th></th>\n",
       "      <th></th>\n",
       "      <th></th>\n",
       "      <th></th>\n",
       "      <th></th>\n",
       "      <th></th>\n",
       "      <th></th>\n",
       "      <th></th>\n",
       "      <th></th>\n",
       "    </tr>\n",
       "  </thead>\n",
       "  <tbody>\n",
       "    <tr>\n",
       "      <th>Aaron Ramsey</th>\n",
       "      <td>28</td>\n",
       "      <td>6</td>\n",
       "      <td>2</td>\n",
       "      <td>3</td>\n",
       "      <td>0</td>\n",
       "      <td>27</td>\n",
       "      <td>21</td>\n",
       "      <td>4</td>\n",
       "      <td>0</td>\n",
       "      <td>0</td>\n",
       "      <td>1328</td>\n",
       "      <td>4</td>\n",
       "      <td>0</td>\n",
       "      <td>773</td>\n",
       "      <td>0</td>\n",
       "      <td>0</td>\n",
       "      <td>0</td>\n",
       "      <td>33</td>\n",
       "      <td>34</td>\n",
       "      <td>1029</td>\n",
       "      <td>0</td>\n",
       "    </tr>\n",
       "    <tr>\n",
       "      <th>Ainsley Maitland-Niles</th>\n",
       "      <td>16</td>\n",
       "      <td>1</td>\n",
       "      <td>0</td>\n",
       "      <td>11</td>\n",
       "      <td>1</td>\n",
       "      <td>17</td>\n",
       "      <td>8</td>\n",
       "      <td>1</td>\n",
       "      <td>0</td>\n",
       "      <td>0</td>\n",
       "      <td>986</td>\n",
       "      <td>1</td>\n",
       "      <td>0</td>\n",
       "      <td>451</td>\n",
       "      <td>0</td>\n",
       "      <td>1</td>\n",
       "      <td>0</td>\n",
       "      <td>5</td>\n",
       "      <td>33</td>\n",
       "      <td>782</td>\n",
       "      <td>1</td>\n",
       "    </tr>\n",
       "    <tr>\n",
       "      <th>Alex Iwobi</th>\n",
       "      <td>35</td>\n",
       "      <td>6</td>\n",
       "      <td>3</td>\n",
       "      <td>10</td>\n",
       "      <td>0</td>\n",
       "      <td>56</td>\n",
       "      <td>8</td>\n",
       "      <td>3</td>\n",
       "      <td>0</td>\n",
       "      <td>0</td>\n",
       "      <td>1972</td>\n",
       "      <td>2</td>\n",
       "      <td>0</td>\n",
       "      <td>951</td>\n",
       "      <td>0</td>\n",
       "      <td>0</td>\n",
       "      <td>0</td>\n",
       "      <td>35</td>\n",
       "      <td>28</td>\n",
       "      <td>1415</td>\n",
       "      <td>0</td>\n",
       "    </tr>\n",
       "    <tr>\n",
       "      <th>Alexandre Lacazette</th>\n",
       "      <td>35</td>\n",
       "      <td>8</td>\n",
       "      <td>13</td>\n",
       "      <td>29</td>\n",
       "      <td>0</td>\n",
       "      <td>61</td>\n",
       "      <td>51</td>\n",
       "      <td>13</td>\n",
       "      <td>0</td>\n",
       "      <td>1</td>\n",
       "      <td>2505</td>\n",
       "      <td>24</td>\n",
       "      <td>0</td>\n",
       "      <td>771</td>\n",
       "      <td>0</td>\n",
       "      <td>0</td>\n",
       "      <td>0</td>\n",
       "      <td>81</td>\n",
       "      <td>35</td>\n",
       "      <td>1313</td>\n",
       "      <td>2</td>\n",
       "    </tr>\n",
       "    <tr>\n",
       "      <th>Bernd Leno</th>\n",
       "      <td>32</td>\n",
       "      <td>0</td>\n",
       "      <td>0</td>\n",
       "      <td>32</td>\n",
       "      <td>0</td>\n",
       "      <td>1</td>\n",
       "      <td>0</td>\n",
       "      <td>0</td>\n",
       "      <td>10</td>\n",
       "      <td>0</td>\n",
       "      <td>2835</td>\n",
       "      <td>0</td>\n",
       "      <td>0</td>\n",
       "      <td>922</td>\n",
       "      <td>16</td>\n",
       "      <td>0</td>\n",
       "      <td>105</td>\n",
       "      <td>0</td>\n",
       "      <td>0</td>\n",
       "      <td>1276</td>\n",
       "      <td>0</td>\n",
       "    </tr>\n",
       "  </tbody>\n",
       "</table>\n",
       "</div>"
      ],
      "text/plain": [
       "Metric                  Appearances  Assists  Big Chances Missed  Clearances  \\\n",
       "Player                                                                         \n",
       "Aaron Ramsey                     28        6                   2           3   \n",
       "Ainsley Maitland-Niles           16        1                   0          11   \n",
       "Alex Iwobi                       35        6                   3          10   \n",
       "Alexandre Lacazette              35        8                  13          29   \n",
       "Bernd Leno                       32        0                   0          32   \n",
       "\n",
       "Metric                  Clearances Off Line  Dispossessed  Fouls  Goals  \\\n",
       "Player                                                                    \n",
       "Aaron Ramsey                              0            27     21      4   \n",
       "Ainsley Maitland-Niles                    1            17      8      1   \n",
       "Alex Iwobi                                0            56      8      3   \n",
       "Alexandre Lacazette                       0            61     51     13   \n",
       "Bernd Leno                                0             1      0      0   \n",
       "\n",
       "Metric                  High Claim  Hit Woodwork  Minutes Played  Offsides  \\\n",
       "Player                                                                       \n",
       "Aaron Ramsey                     0             0            1328         4   \n",
       "Ainsley Maitland-Niles           0             0             986         1   \n",
       "Alex Iwobi                       0             0            1972         2   \n",
       "Alexandre Lacazette              0             1            2505        24   \n",
       "Bernd Leno                      10             0            2835         0   \n",
       "\n",
       "Metric                  Own Goal  Passes  Punches  Red Cards  Saves  Shots  \\\n",
       "Player                                                                       \n",
       "Aaron Ramsey                   0     773        0          0      0     33   \n",
       "Ainsley Maitland-Niles         0     451        0          1      0      5   \n",
       "Alex Iwobi                     0     951        0          0      0     35   \n",
       "Alexandre Lacazette            0     771        0          0      0     81   \n",
       "Bernd Leno                     0     922       16          0    105      0   \n",
       "\n",
       "Metric                  Tackles  Touches  Yellow Cards  \n",
       "Player                                                  \n",
       "Aaron Ramsey                 34     1029             0  \n",
       "Ainsley Maitland-Niles       33      782             1  \n",
       "Alex Iwobi                   28     1415             0  \n",
       "Alexandre Lacazette          35     1313             2  \n",
       "Bernd Leno                    0     1276             0  "
      ]
     },
     "execution_count": 10,
     "metadata": {},
     "output_type": "execute_result"
    }
   ],
   "source": [
    "training.head()"
   ]
  },
  {
   "cell_type": "markdown",
   "metadata": {},
   "source": [
    "### Adding some data on positions"
   ]
  },
  {
   "cell_type": "code",
   "execution_count": 11,
   "metadata": {},
   "outputs": [],
   "source": [
    "position_lookup = {k:'' for k in training.index.tolist()}\n",
    "\n",
    "for gk in ['Bernd Leno', 'Petr Cech']:\n",
    "    position_lookup[gk] = 'GK'\n",
    "\n",
    "for df in [\n",
    "    'Carl Jenkinson','Héctor Bellerín','Laurent Koscielny','Rob Holding','Sead Kolasinac'\n",
    "    ,'Shkodran Mustafi','Sokratis','Stephan Lichtsteiner'\n",
    "]:\n",
    "    position_lookup[df] = 'DF'\n",
    "\n",
    "for mf in [\n",
    "    'Aaron Ramsey','Ainsley Maitland-Niles','Denis Suárez','Granit Xhaka','Henrikh Mkhitaryan'\n",
    "    ,'Joe Willock','Konstantinos Mavropanos','Lucas Torreira', 'Matteo Guendouzi','Mesut Özil'\n",
    "    ,'Mohamed Elneny','Nacho Monreal',\n",
    "]:\n",
    "    position_lookup[mf] = 'MF'\n",
    "\n",
    "\n",
    "for fw in [\n",
    "    'Alex Iwobi','Alexandre Lacazette','Bukayo Saka','Danny Welbeck','Eddie Nketiah','Pierre-Emerick Aubameyang'\n",
    "]:\n",
    "    position_lookup[fw] = 'FW'\n",
    "\n",
    "training['position'] = training.index.map(position_lookup)"
   ]
  },
  {
   "cell_type": "code",
   "execution_count": 12,
   "metadata": {},
   "outputs": [
    {
     "data": {
      "text/plain": [
       "Index(['Appearances', 'Assists', 'Big Chances Missed', 'Clearances',\n",
       "       'Clearances Off Line', 'Dispossessed', 'Fouls', 'Goals', 'High Claim',\n",
       "       'Hit Woodwork', 'Minutes Played', 'Offsides', 'Own Goal', 'Passes',\n",
       "       'Punches', 'Red Cards', 'Saves', 'Shots', 'Tackles', 'Touches',\n",
       "       'Yellow Cards', 'position'],\n",
       "      dtype='object', name='Metric')"
      ]
     },
     "execution_count": 12,
     "metadata": {},
     "output_type": "execute_result"
    }
   ],
   "source": [
    "training.columns"
   ]
  },
  {
   "cell_type": "code",
   "execution_count": 13,
   "metadata": {},
   "outputs": [],
   "source": [
    "initial_columns = ['Appearances', 'Assists', 'Big Chances Missed', 'Clearances',\n",
    "       'Clearances Off Line', 'Dispossessed', 'Fouls', 'Goals', 'High Claim',\n",
    "       'Hit Woodwork', 'Minutes Played', 'Offsides', 'Own Goal', 'Passes',\n",
    "       'Punches', 'Red Cards', 'Saves', 'Shots', 'Tackles', 'Touches',\n",
    "       'Yellow Cards']"
   ]
  },
  {
   "cell_type": "code",
   "execution_count": 14,
   "metadata": {},
   "outputs": [],
   "source": [
    "data_per_position = training[initial_columns + ['position']].groupby('position').sum()"
   ]
  },
  {
   "cell_type": "code",
   "execution_count": 15,
   "metadata": {},
   "outputs": [
    {
     "data": {
      "text/html": [
       "<div>\n",
       "<style scoped>\n",
       "    .dataframe tbody tr th:only-of-type {\n",
       "        vertical-align: middle;\n",
       "    }\n",
       "\n",
       "    .dataframe tbody tr th {\n",
       "        vertical-align: top;\n",
       "    }\n",
       "\n",
       "    .dataframe thead th {\n",
       "        text-align: right;\n",
       "    }\n",
       "</style>\n",
       "<table border=\"1\" class=\"dataframe\">\n",
       "  <thead>\n",
       "    <tr style=\"text-align: right;\">\n",
       "      <th>Metric</th>\n",
       "      <th>Appearances</th>\n",
       "      <th>Assists</th>\n",
       "      <th>Big Chances Missed</th>\n",
       "      <th>Clearances</th>\n",
       "      <th>Clearances Off Line</th>\n",
       "      <th>Dispossessed</th>\n",
       "      <th>Fouls</th>\n",
       "      <th>Goals</th>\n",
       "      <th>High Claim</th>\n",
       "      <th>Hit Woodwork</th>\n",
       "      <th>Minutes Played</th>\n",
       "      <th>Offsides</th>\n",
       "      <th>Own Goal</th>\n",
       "      <th>Passes</th>\n",
       "      <th>Punches</th>\n",
       "      <th>Red Cards</th>\n",
       "      <th>Saves</th>\n",
       "      <th>Shots</th>\n",
       "      <th>Tackles</th>\n",
       "      <th>Touches</th>\n",
       "      <th>Yellow Cards</th>\n",
       "    </tr>\n",
       "    <tr>\n",
       "      <th>position</th>\n",
       "      <th></th>\n",
       "      <th></th>\n",
       "      <th></th>\n",
       "      <th></th>\n",
       "      <th></th>\n",
       "      <th></th>\n",
       "      <th></th>\n",
       "      <th></th>\n",
       "      <th></th>\n",
       "      <th></th>\n",
       "      <th></th>\n",
       "      <th></th>\n",
       "      <th></th>\n",
       "      <th></th>\n",
       "      <th></th>\n",
       "      <th></th>\n",
       "      <th></th>\n",
       "      <th></th>\n",
       "      <th></th>\n",
       "      <th></th>\n",
       "      <th></th>\n",
       "    </tr>\n",
       "  </thead>\n",
       "  <tbody>\n",
       "    <tr>\n",
       "      <th>DF</th>\n",
       "      <td>143</td>\n",
       "      <td>12</td>\n",
       "      <td>2</td>\n",
       "      <td>459</td>\n",
       "      <td>1</td>\n",
       "      <td>64</td>\n",
       "      <td>143</td>\n",
       "      <td>6</td>\n",
       "      <td>0</td>\n",
       "      <td>0</td>\n",
       "      <td>11479</td>\n",
       "      <td>17</td>\n",
       "      <td>1</td>\n",
       "      <td>6968</td>\n",
       "      <td>0</td>\n",
       "      <td>0</td>\n",
       "      <td>0</td>\n",
       "      <td>64</td>\n",
       "      <td>201</td>\n",
       "      <td>9185</td>\n",
       "      <td>34</td>\n",
       "    </tr>\n",
       "    <tr>\n",
       "      <th>FW</th>\n",
       "      <td>120</td>\n",
       "      <td>20</td>\n",
       "      <td>39</td>\n",
       "      <td>59</td>\n",
       "      <td>0</td>\n",
       "      <td>156</td>\n",
       "      <td>76</td>\n",
       "      <td>40</td>\n",
       "      <td>0</td>\n",
       "      <td>5</td>\n",
       "      <td>7425</td>\n",
       "      <td>51</td>\n",
       "      <td>0</td>\n",
       "      <td>2488</td>\n",
       "      <td>0</td>\n",
       "      <td>0</td>\n",
       "      <td>0</td>\n",
       "      <td>217</td>\n",
       "      <td>88</td>\n",
       "      <td>3984</td>\n",
       "      <td>2</td>\n",
       "    </tr>\n",
       "    <tr>\n",
       "      <th>GK</th>\n",
       "      <td>39</td>\n",
       "      <td>0</td>\n",
       "      <td>0</td>\n",
       "      <td>39</td>\n",
       "      <td>0</td>\n",
       "      <td>1</td>\n",
       "      <td>0</td>\n",
       "      <td>0</td>\n",
       "      <td>16</td>\n",
       "      <td>0</td>\n",
       "      <td>3420</td>\n",
       "      <td>0</td>\n",
       "      <td>0</td>\n",
       "      <td>1146</td>\n",
       "      <td>18</td>\n",
       "      <td>0</td>\n",
       "      <td>133</td>\n",
       "      <td>0</td>\n",
       "      <td>1</td>\n",
       "      <td>1591</td>\n",
       "      <td>0</td>\n",
       "    </tr>\n",
       "    <tr>\n",
       "      <th>MF</th>\n",
       "      <td>229</td>\n",
       "      <td>20</td>\n",
       "      <td>9</td>\n",
       "      <td>205</td>\n",
       "      <td>2</td>\n",
       "      <td>188</td>\n",
       "      <td>193</td>\n",
       "      <td>23</td>\n",
       "      <td>0</td>\n",
       "      <td>3</td>\n",
       "      <td>15241</td>\n",
       "      <td>21</td>\n",
       "      <td>0</td>\n",
       "      <td>10203</td>\n",
       "      <td>0</td>\n",
       "      <td>2</td>\n",
       "      <td>0</td>\n",
       "      <td>186</td>\n",
       "      <td>319</td>\n",
       "      <td>13366</td>\n",
       "      <td>36</td>\n",
       "    </tr>\n",
       "  </tbody>\n",
       "</table>\n",
       "</div>"
      ],
      "text/plain": [
       "Metric    Appearances  Assists  Big Chances Missed  Clearances  \\\n",
       "position                                                         \n",
       "DF                143       12                   2         459   \n",
       "FW                120       20                  39          59   \n",
       "GK                 39        0                   0          39   \n",
       "MF                229       20                   9         205   \n",
       "\n",
       "Metric    Clearances Off Line  Dispossessed  Fouls  Goals  High Claim  \\\n",
       "position                                                                \n",
       "DF                          1            64    143      6           0   \n",
       "FW                          0           156     76     40           0   \n",
       "GK                          0             1      0      0          16   \n",
       "MF                          2           188    193     23           0   \n",
       "\n",
       "Metric    Hit Woodwork  Minutes Played  Offsides  Own Goal  Passes  Punches  \\\n",
       "position                                                                      \n",
       "DF                   0           11479        17         1    6968        0   \n",
       "FW                   5            7425        51         0    2488        0   \n",
       "GK                   0            3420         0         0    1146       18   \n",
       "MF                   3           15241        21         0   10203        0   \n",
       "\n",
       "Metric    Red Cards  Saves  Shots  Tackles  Touches  Yellow Cards  \n",
       "position                                                           \n",
       "DF                0      0     64      201     9185            34  \n",
       "FW                0      0    217       88     3984             2  \n",
       "GK                0    133      0        1     1591             0  \n",
       "MF                2      0    186      319    13366            36  "
      ]
     },
     "execution_count": 15,
     "metadata": {},
     "output_type": "execute_result"
    }
   ],
   "source": [
    "data_per_position"
   ]
  },
  {
   "cell_type": "code",
   "execution_count": 16,
   "metadata": {},
   "outputs": [
    {
     "data": {
      "text/plain": [
       "Metric\n",
       "Minutes Played        37565\n",
       "Touches               28126\n",
       "Passes                20805\n",
       "Shots                   467\n",
       "Big Chances Missed       50\n",
       "Assists                  52\n",
       "Goals                    69\n",
       "Offsides                 89\n",
       "dtype: object"
      ]
     },
     "execution_count": 16,
     "metadata": {},
     "output_type": "execute_result"
    }
   ],
   "source": [
    "training.sum()[['Minutes Played', 'Touches', 'Passes', 'Shots', 'Big Chances Missed','Assists', 'Goals', 'Offsides']]\n"
   ]
  },
  {
   "cell_type": "code",
   "execution_count": 17,
   "metadata": {},
   "outputs": [],
   "source": [
    "common_kpis = ['Appearances', 'Minutes Played', 'Passes', 'Touches']\n",
    "gk_kpis = ['Clearances', 'Clearances Off Line', 'High Claim', 'Punches', 'Saves']\n",
    "df_kpis = ['Clearances', 'Clearances Off Line', 'Fouls', 'Tackles', 'Red Cards', 'Yellow Cards']\n"
   ]
  },
  {
   "cell_type": "markdown",
   "metadata": {},
   "source": [
    "### Common Metrics"
   ]
  },
  {
   "cell_type": "code",
   "execution_count": 34,
   "metadata": {},
   "outputs": [],
   "source": [
    "training['passes_per_min_played'] = training['Passes'] / training['Minutes Played']\n",
    "training['passes_per_appearance'] = training['Passes'] / training['Appearances']\n",
    "training['min_played_per_apperance'] = training['Minutes Played'] / training['Appearances']\n",
    "training['touches_per_appearance'] = training['Touches'] / training['Appearances']\n",
    "training['touches_per_min_played'] = training['Touches'] / training['Minutes Played']\n"
   ]
  },
  {
   "cell_type": "markdown",
   "metadata": {},
   "source": [
    "### GK Metrics"
   ]
  },
  {
   "cell_type": "code",
   "execution_count": 35,
   "metadata": {},
   "outputs": [],
   "source": [
    "training['high_claim_per_min_played'] = training['High Claim'] / training['Minutes Played']\n",
    "training['punches_per_min_played'] = training['Punches'] / training['Minutes Played']\n",
    "training['saves_per_min_played'] = training['Saves'] / training['Minutes Played']\n",
    "\n",
    "training['high_claim_per_appearance'] = training['High Claim'] / training['Appearances']\n",
    "training['punches_per_appearance'] = training['Punches'] / training['Appearances']\n",
    "training['saves_per_appearance'] = training['Saves'] / training['Appearances']"
   ]
  },
  {
   "cell_type": "markdown",
   "metadata": {},
   "source": [
    "### DF Metrics"
   ]
  },
  {
   "cell_type": "code",
   "execution_count": 24,
   "metadata": {},
   "outputs": [],
   "source": [
    "training['clearances_per_min_played'] = training['Clearances'] / training['Minutes Played']\n",
    "training['clearances_per_appearance'] = training['Clearances'] / training['Appearances']\n",
    "training['clearances_per_touch'] = training['Clearances'] / training['Touches']\n",
    "training['fouls_per_appearance'] = training['Fouls'] / training['Appearances']\n",
    "training['fouls_per_clearance'] = training['Fouls'] / training['Clearances']\n",
    "training['fouls_per_touch'] = training['Fouls'] / training['Touches']\n",
    "training['yc_per_min_played'] = training['Yellow Cards'] / training['Minutes Played']\n",
    "training['yc_per_tackle'] = training['Yellow Cards'] / training['Tackles']\n",
    "training['yc_per_foul'] = training['Yellow Cards'] / training['Fouls']\n",
    "training['tackles_per_appearance'] = training['Tackles'] / training['Appearances']\n",
    "training['tackles_per_min_played'] = training['Tackles'] / training['Minutes Played']"
   ]
  },
  {
   "cell_type": "markdown",
   "metadata": {},
   "source": [
    "### Midfield Metrics"
   ]
  },
  {
   "cell_type": "code",
   "execution_count": 36,
   "metadata": {},
   "outputs": [],
   "source": [
    "training['assists_per_appearance'] = training['Assists'] / training['Appearances']\n",
    "training['assists_per_min_played'] = training['Assists'] / training['Minutes Played']\n",
    "training['assists_per_pass'] = training['Assists'] / training['Passes']\n",
    "training['assists_per_touch'] = training['Assists'] / training['Touches']\n",
    "training['dispossessed_per_appearance'] = training['Dispossessed'] / training['Appearances']\n",
    "training['dispossessed_per_min_played'] = training['Dispossessed'] / training['Minutes Played']\n",
    "training['dispossessed_per_pass'] = training['Dispossessed'] / training['Passes']\n",
    "training['dispossessed_per_touch'] = training['Dispossessed'] / training['Touches']\n",
    "training['fouls_per_appearance'] = training['Fouls'] / training['Appearances']\n",
    "training['fouls_per_clearance'] = training['Fouls'] / training['Clearances']\n",
    "training['fouls_per_min_played'] = training['Fouls'] / training['Minutes Played']\n",
    "training['fouls_per_touch'] = training['Fouls'] / training['Touches']\n",
    "training['goals_per_appearance'] = training['Goals'] / training['Appearances']\n",
    "training['goals_per_min_played'] = training['Goals'] / training['Minutes Played']\n",
    "training['goals_per_shot'] = training['Goals'] / training['Shots']\n",
    "training['goals_per_touch'] = training['Goals'] / training['Touches']\n",
    "training['passes_per_appearance'] = training['Passes'] / training['Appearances']\n",
    "training['passes_per_min_played'] = training['Passes'] / training['Minutes Played']\n",
    "training['passes_per_touches'] = training['Passes'] / training['Touches']\n",
    "training['shots_per_appearance'] = training['Shots'] / training['Appearances']\n",
    "training['shots_per_min_played'] = training['Shots'] / training['Minutes Played']\n",
    "training['shots_per_touch'] = training['Shots'] / training['Touches']\n",
    "training['tackles_per_appearance'] = training['Tackles'] / training['Appearances']\n",
    "training['tackles_per_min_played'] = training['Tackles'] / training['Minutes Played']\n",
    "training['tackles_per_touch'] = training['Tackles'] / training['Touches']\n",
    "training['tackles_per_clearance'] = training['Tackles'] / training['Clearances']\n",
    "training['touches_per_apperance'] = training['Touches'] / training['Appearances']\n",
    "training['touches_per_min_played'] = training['Touches'] / training['Minutes Played']"
   ]
  },
  {
   "cell_type": "markdown",
   "metadata": {},
   "source": [
    "### Forwards' Metrics"
   ]
  },
  {
   "cell_type": "code",
   "execution_count": 37,
   "metadata": {},
   "outputs": [],
   "source": [
    "training['assists_per_min_played'] = training['Assists'] / training['Minutes Played']\n",
    "training['missed_chances_per_shot'] = training['Big Chances Missed'] / training['Shots']\n",
    "training['missed_chances_per_min_played'] = training['Big Chances Missed'] / training['Minutes Played']\n",
    "training['goals_per_min_played'] = training['Goals'] / training['Minutes Played']\n",
    "training['offsides_per_min_played'] = training['Offsides'] / training['Minutes Played']\n",
    "training['shots_per_min_played'] = training['Shots']/ training['Minutes Played']\n",
    "\n",
    "training['assists_per_appearance'] = training['Assists'] / training['Appearances']\n",
    "training['missed_chances_per_appearance'] = training['Big Chances Missed'] / training['Appearances']\n",
    "training['goals_per_appearance'] = training['Goals'] / training['Appearances']\n",
    "training['offsides_per_appearance'] = training['Offsides'] / training['Appearances']\n",
    "training['shots_per_appearance'] = training['Shots']/ training['Appearances']"
   ]
  },
  {
   "cell_type": "markdown",
   "metadata": {},
   "source": [
    "Here we want to look at some metrics that are not strongly dependent on the amount of time played."
   ]
  },
  {
   "cell_type": "code",
   "execution_count": 38,
   "metadata": {
    "scrolled": true
   },
   "outputs": [
    {
     "name": "stderr",
     "output_type": "stream",
     "text": [
      "/Users/elias.nema/miniconda3/envs/3.7/lib/python3.7/site-packages/pandas/plotting/_misc.py:108: UserWarning:\n",
      "\n",
      "Attempting to set identical left==right results\n",
      "in singular transformations; automatically expanding.\n",
      "left=0.0, right=0.0\n",
      "\n",
      "/Users/elias.nema/miniconda3/envs/3.7/lib/python3.7/site-packages/pandas/plotting/_misc.py:109: UserWarning:\n",
      "\n",
      "Attempting to set identical bottom==top results\n",
      "in singular transformations; automatically expanding.\n",
      "bottom=0.0, top=0.0\n",
      "\n",
      "/Users/elias.nema/miniconda3/envs/3.7/lib/python3.7/site-packages/pandas/plotting/_misc.py:100: UserWarning:\n",
      "\n",
      "Attempting to set identical left==right results\n",
      "in singular transformations; automatically expanding.\n",
      "left=0.0, right=0.0\n",
      "\n"
     ]
    },
    {
     "data": {
      "image/png": "[encoded data removed]",
      "text/plain": [
       "<Figure size 1440x864 with 64 Axes>"
      ]
     },
     "metadata": {
      "needs_background": "light"
     },
     "output_type": "display_data"
    }
   ],
   "source": [
    "ax = scatter_matrix(training.query(\"position == 'DF'\")[df_kpis + ['Touches', 'Minutes Played']], figsize=(20,12))"
   ]
  },
  {
   "cell_type": "markdown",
   "metadata": {},
   "source": [
    "## GK"
   ]
  },
  {
   "cell_type": "code",
   "execution_count": 50,
   "metadata": {},
   "outputs": [
    {
     "data": {
      "text/html": [
       "<div>\n",
       "<style scoped>\n",
       "    .dataframe tbody tr th:only-of-type {\n",
       "        vertical-align: middle;\n",
       "    }\n",
       "\n",
       "    .dataframe tbody tr th {\n",
       "        vertical-align: top;\n",
       "    }\n",
       "\n",
       "    .dataframe thead th {\n",
       "        text-align: right;\n",
       "    }\n",
       "</style>\n",
       "<table border=\"1\" class=\"dataframe\">\n",
       "  <thead>\n",
       "    <tr style=\"text-align: right;\">\n",
       "      <th></th>\n",
       "      <th>0</th>\n",
       "      <th>1</th>\n",
       "      <th>2</th>\n",
       "      <th>3</th>\n",
       "      <th>4</th>\n",
       "      <th>5</th>\n",
       "      <th>6</th>\n",
       "      <th>7</th>\n",
       "      <th>8</th>\n",
       "      <th>9</th>\n",
       "      <th>10</th>\n",
       "      <th>11</th>\n",
       "    </tr>\n",
       "  </thead>\n",
       "  <tbody>\n",
       "    <tr>\n",
       "      <th>kpi</th>\n",
       "      <td>High Claims</td>\n",
       "      <td>High Claims</td>\n",
       "      <td>Punches</td>\n",
       "      <td>Punches</td>\n",
       "      <td>Saves</td>\n",
       "      <td>Saves</td>\n",
       "      <td>Passes</td>\n",
       "      <td>Passes</td>\n",
       "      <td>Clearances</td>\n",
       "      <td>Clearances</td>\n",
       "      <td>Minutes Played</td>\n",
       "      <td>Minutes Played</td>\n",
       "    </tr>\n",
       "    <tr>\n",
       "      <th>name</th>\n",
       "      <td>Bernd Leno</td>\n",
       "      <td>Petr Cech</td>\n",
       "      <td>Bernd Leno</td>\n",
       "      <td>Petr Cech</td>\n",
       "      <td>Bernd Leno</td>\n",
       "      <td>Petr Cech</td>\n",
       "      <td>Bernd Leno</td>\n",
       "      <td>Petr Cech</td>\n",
       "      <td>Bernd Leno</td>\n",
       "      <td>Petr Cech</td>\n",
       "      <td>Bernd Leno</td>\n",
       "      <td>Petr Cech</td>\n",
       "    </tr>\n",
       "    <tr>\n",
       "      <th>value</th>\n",
       "      <td>0.364583</td>\n",
       "      <td>1</td>\n",
       "      <td>1</td>\n",
       "      <td>0.571429</td>\n",
       "      <td>0.820312</td>\n",
       "      <td>1</td>\n",
       "      <td>0.900391</td>\n",
       "      <td>1</td>\n",
       "      <td>1</td>\n",
       "      <td>1</td>\n",
       "      <td>1</td>\n",
       "      <td>0.206349</td>\n",
       "    </tr>\n",
       "    <tr>\n",
       "      <th>denom</th>\n",
       "      <td>0.857143</td>\n",
       "      <td>0.857143</td>\n",
       "      <td>0.5</td>\n",
       "      <td>0.5</td>\n",
       "      <td>4</td>\n",
       "      <td>4</td>\n",
       "      <td>32</td>\n",
       "      <td>32</td>\n",
       "      <td>1</td>\n",
       "      <td>1</td>\n",
       "      <td>2835</td>\n",
       "      <td>2835</td>\n",
       "    </tr>\n",
       "  </tbody>\n",
       "</table>\n",
       "</div>"
      ],
      "text/plain": [
       "                0            1           2          3           4          5   \\\n",
       "kpi    High Claims  High Claims     Punches    Punches       Saves      Saves   \n",
       "name    Bernd Leno    Petr Cech  Bernd Leno  Petr Cech  Bernd Leno  Petr Cech   \n",
       "value     0.364583            1           1   0.571429    0.820312          1   \n",
       "denom     0.857143     0.857143         0.5        0.5           4          4   \n",
       "\n",
       "               6          7           8           9               10  \\\n",
       "kpi        Passes     Passes  Clearances  Clearances  Minutes Played   \n",
       "name   Bernd Leno  Petr Cech  Bernd Leno   Petr Cech      Bernd Leno   \n",
       "value    0.900391          1           1           1               1   \n",
       "denom          32         32           1           1            2835   \n",
       "\n",
       "                   11  \n",
       "kpi    Minutes Played  \n",
       "name        Petr Cech  \n",
       "value        0.206349  \n",
       "denom            2835  "
      ]
     },
     "execution_count": 50,
     "metadata": {},
     "output_type": "execute_result"
    }
   ],
   "source": [
    "gk = training.query(\"position == 'GK'\")[\n",
    "    ['high_claim_per_appearance', 'punches_per_appearance', 'saves_per_appearance'\n",
    "    ,'passes_per_appearance','clearances_per_appearance', 'Minutes Played']\n",
    "].rename(columns={'high_claim_per_appearance':'High Claims', 'punches_per_appearance': 'Punches', \n",
    "                 'saves_per_appearance':'Saves', 'passes_per_appearance': 'Passes',\n",
    "                  'clearances_per_appearance': 'Clearances'})\n",
    "\n",
    "\n",
    "max_map = gk.max().to_dict()\n",
    "gk = pandas.DataFrame(gk.unstack()).reset_index()\n",
    "gk.columns = ['kpi', 'name', 'value']\n",
    "gk['denom'] = gk.kpi.map(max_map)\n",
    "gk['value'] = gk.value / gk.denom\n",
    "gk.T"
   ]
  },
  {
   "cell_type": "code",
   "execution_count": 42,
   "metadata": {
    "scrolled": false
   },
   "outputs": [
    {
     "data": {
      "application/vnd.plotly.v1+json": {
       "config": {
        "plotlyServerURL": "https://plot.ly"
       },
       "data": [
        {
         "hoverlabel": {
          "namelength": 0
         },
         "hovertemplate": "name=Bernd Leno<br>value=%{r}<br>kpi=%{theta}",
         "legendgroup": "name=Bernd Leno",
         "line": {
          "color": "#636efa",
          "dash": "solid",
          "width": 5
         },
         "mode": "lines",
         "name": "name=Bernd Leno",
         "r": [
          0.36458333333333337,
          1,
          0.8203125,
          0.900390625,
          1,
          1,
          0.36458333333333337
         ],
         "showlegend": true,
         "subplot": "polar",
         "theta": [
          "High Claims",
          "Punches",
          "Saves",
          "Passes",
          "Clearances",
          "Minutes Played",
          "High Claims"
         ],
         "type": "scatterpolar"
        },
        {
         "hoverlabel": {
          "namelength": 0
         },
         "hovertemplate": "name=Petr Cech<br>value=%{r}<br>kpi=%{theta}",
         "legendgroup": "name=Petr Cech",
         "line": {
          "color": "#EF553B",
          "dash": "dot",
          "width": 5
         },
         "mode": "lines",
         "name": "name=Petr Cech",
         "r": [
          1,
          0.5714285714285714,
          1,
          1,
          1,
          0.20634920634920634,
          1
         ],
         "showlegend": true,
         "subplot": "polar",
         "theta": [
          "High Claims",
          "Punches",
          "Saves",
          "Passes",
          "Clearances",
          "Minutes Played",
          "High Claims"
         ],
         "type": "scatterpolar"
        }
       ],
       "layout": {
        "height": 600,
        "legend": {
         "tracegroupgap": 0,
         "x": 0.7,
         "y": 1.1
        },
        "margin": {
         "t": 60
        },
        "polar": {
         "angularaxis": {
          "direction": "clockwise",
          "rotation": 90
         },
         "domain": {
          "x": [
           0,
           0.98
          ],
          "y": [
           0,
           1
          ]
         }
        },
        "template": {
         "data": {
          "bar": [
           {
            "error_x": {
             "color": "#2a3f5f"
            },
            "error_y": {
             "color": "#2a3f5f"
            },
            "marker": {
             "line": {
              "color": "white",
              "width": 0.5
             }
            },
            "type": "bar"
           }
          ],
          "barpolar": [
           {
            "marker": {
             "line": {
              "color": "white",
              "width": 0.5
             }
            },
            "type": "barpolar"
           }
          ],
          "carpet": [
           {
            "aaxis": {
             "endlinecolor": "#2a3f5f",
             "gridcolor": "#C8D4E3",
             "linecolor": "#C8D4E3",
             "minorgridcolor": "#C8D4E3",
             "startlinecolor": "#2a3f5f"
            },
            "baxis": {
             "endlinecolor": "#2a3f5f",
             "gridcolor": "#C8D4E3",
             "linecolor": "#C8D4E3",
             "minorgridcolor": "#C8D4E3",
             "startlinecolor": "#2a3f5f"
            },
            "type": "carpet"
           }
          ],
          "choropleth": [
           {
            "colorbar": {
             "outlinewidth": 0,
             "ticks": ""
            },
            "type": "choropleth"
           }
          ],
          "contour": [
           {
            "colorbar": {
             "outlinewidth": 0,
             "ticks": ""
            },
            "colorscale": [
             [
              0,
              "#0d0887"
             ],
             [
              0.1111111111111111,
              "#46039f"
             ],
             [
              0.2222222222222222,
              "#7201a8"
             ],
             [
              0.3333333333333333,
              "#9c179e"
             ],
             [
              0.4444444444444444,
              "#bd3786"
             ],
             [
              0.5555555555555556,
              "#d8576b"
             ],
             [
              0.6666666666666666,
              "#ed7953"
             ],
             [
              0.7777777777777778,
              "#fb9f3a"
             ],
             [
              0.8888888888888888,
              "#fdca26"
             ],
             [
              1,
              "#f0f921"
             ]
            ],
            "type": "contour"
           }
          ],
          "contourcarpet": [
           {
            "colorbar": {
             "outlinewidth": 0,
             "ticks": ""
            },
            "type": "contourcarpet"
           }
          ],
          "heatmap": [
           {
            "colorbar": {
             "outlinewidth": 0,
             "ticks": ""
            },
            "colorscale": [
             [
              0,
              "#0d0887"
             ],
             [
              0.1111111111111111,
              "#46039f"
             ],
             [
              0.2222222222222222,
              "#7201a8"
             ],
             [
              0.3333333333333333,
              "#9c179e"
             ],
             [
              0.4444444444444444,
              "#bd3786"
             ],
             [
              0.5555555555555556,
              "#d8576b"
             ],
             [
              0.6666666666666666,
              "#ed7953"
             ],
             [
              0.7777777777777778,
              "#fb9f3a"
             ],
             [
              0.8888888888888888,
              "#fdca26"
             ],
             [
              1,
              "#f0f921"
             ]
            ],
            "type": "heatmap"
           }
          ],
          "heatmapgl": [
           {
            "colorbar": {
             "outlinewidth": 0,
             "ticks": ""
            },
            "colorscale": [
             [
              0,
              "#0d0887"
             ],
             [
              0.1111111111111111,
              "#46039f"
             ],
             [
              0.2222222222222222,
              "#7201a8"
             ],
             [
              0.3333333333333333,
              "#9c179e"
             ],
             [
              0.4444444444444444,
              "#bd3786"
             ],
             [
              0.5555555555555556,
              "#d8576b"
             ],
             [
              0.6666666666666666,
              "#ed7953"
             ],
             [
              0.7777777777777778,
              "#fb9f3a"
             ],
             [
              0.8888888888888888,
              "#fdca26"
             ],
             [
              1,
              "#f0f921"
             ]
            ],
            "type": "heatmapgl"
           }
          ],
          "histogram": [
           {
            "marker": {
             "colorbar": {
              "outlinewidth": 0,
              "ticks": ""
             }
            },
            "type": "histogram"
           }
          ],
          "histogram2d": [
           {
            "colorbar": {
             "outlinewidth": 0,
             "ticks": ""
            },
            "colorscale": [
             [
              0,
              "#0d0887"
             ],
             [
              0.1111111111111111,
              "#46039f"
             ],
             [
              0.2222222222222222,
              "#7201a8"
             ],
             [
              0.3333333333333333,
              "#9c179e"
             ],
             [
              0.4444444444444444,
              "#bd3786"
             ],
             [
              0.5555555555555556,
              "#d8576b"
             ],
             [
              0.6666666666666666,
              "#ed7953"
             ],
             [
              0.7777777777777778,
              "#fb9f3a"
             ],
             [
              0.8888888888888888,
              "#fdca26"
             ],
             [
              1,
              "#f0f921"
             ]
            ],
            "type": "histogram2d"
           }
          ],
          "histogram2dcontour": [
           {
            "colorbar": {
             "outlinewidth": 0,
             "ticks": ""
            },
            "colorscale": [
             [
              0,
              "#0d0887"
             ],
             [
              0.1111111111111111,
              "#46039f"
             ],
             [
              0.2222222222222222,
              "#7201a8"
             ],
             [
              0.3333333333333333,
              "#9c179e"
             ],
             [
              0.4444444444444444,
              "#bd3786"
             ],
             [
              0.5555555555555556,
              "#d8576b"
             ],
             [
              0.6666666666666666,
              "#ed7953"
             ],
             [
              0.7777777777777778,
              "#fb9f3a"
             ],
             [
              0.8888888888888888,
              "#fdca26"
             ],
             [
              1,
              "#f0f921"
             ]
            ],
            "type": "histogram2dcontour"
           }
          ],
          "mesh3d": [
           {
            "colorbar": {
             "outlinewidth": 0,
             "ticks": ""
            },
            "type": "mesh3d"
           }
          ],
          "parcoords": [
           {
            "line": {
             "colorbar": {
              "outlinewidth": 0,
              "ticks": ""
             }
            },
            "type": "parcoords"
           }
          ],
          "scatter": [
           {
            "marker": {
             "colorbar": {
              "outlinewidth": 0,
              "ticks": ""
             }
            },
            "type": "scatter"
           }
          ],
          "scatter3d": [
           {
            "line": {
             "colorbar": {
              "outlinewidth": 0,
              "ticks": ""
             }
            },
            "marker": {
             "colorbar": {
              "outlinewidth": 0,
              "ticks": ""
             }
            },
            "type": "scatter3d"
           }
          ],
          "scattercarpet": [
           {
            "marker": {
             "colorbar": {
              "outlinewidth": 0,
              "ticks": ""
             }
            },
            "type": "scattercarpet"
           }
          ],
          "scattergeo": [
           {
            "marker": {
             "colorbar": {
              "outlinewidth": 0,
              "ticks": ""
             }
            },
            "type": "scattergeo"
           }
          ],
          "scattergl": [
           {
            "marker": {
             "colorbar": {
              "outlinewidth": 0,
              "ticks": ""
             }
            },
            "type": "scattergl"
           }
          ],
          "scattermapbox": [
           {
            "marker": {
             "colorbar": {
              "outlinewidth": 0,
              "ticks": ""
             }
            },
            "type": "scattermapbox"
           }
          ],
          "scatterpolar": [
           {
            "marker": {
             "colorbar": {
              "outlinewidth": 0,
              "ticks": ""
             }
            },
            "type": "scatterpolar"
           }
          ],
          "scatterpolargl": [
           {
            "marker": {
             "colorbar": {
              "outlinewidth": 0,
              "ticks": ""
             }
            },
            "type": "scatterpolargl"
           }
          ],
          "scatterternary": [
           {
            "marker": {
             "colorbar": {
              "outlinewidth": 0,
              "ticks": ""
             }
            },
            "type": "scatterternary"
           }
          ],
          "surface": [
           {
            "colorbar": {
             "outlinewidth": 0,
             "ticks": ""
            },
            "colorscale": [
             [
              0,
              "#0d0887"
             ],
             [
              0.1111111111111111,
              "#46039f"
             ],
             [
              0.2222222222222222,
              "#7201a8"
             ],
             [
              0.3333333333333333,
              "#9c179e"
             ],
             [
              0.4444444444444444,
              "#bd3786"
             ],
             [
              0.5555555555555556,
              "#d8576b"
             ],
             [
              0.6666666666666666,
              "#ed7953"
             ],
             [
              0.7777777777777778,
              "#fb9f3a"
             ],
             [
              0.8888888888888888,
              "#fdca26"
             ],
             [
              1,
              "#f0f921"
             ]
            ],
            "type": "surface"
           }
          ],
          "table": [
           {
            "cells": {
             "fill": {
              "color": "#EBF0F8"
             },
             "line": {
              "color": "white"
             }
            },
            "header": {
             "fill": {
              "color": "#C8D4E3"
             },
             "line": {
              "color": "white"
             }
            },
            "type": "table"
           }
          ]
         },
         "layout": {
          "annotationdefaults": {
           "arrowcolor": "#2a3f5f",
           "arrowhead": 0,
           "arrowwidth": 1
          },
          "colorscale": {
           "diverging": [
            [
             0,
             "#8e0152"
            ],
            [
             0.1,
             "#c51b7d"
            ],
            [
             0.2,
             "#de77ae"
            ],
            [
             0.3,
             "#f1b6da"
            ],
            [
             0.4,
             "#fde0ef"
            ],
            [
             0.5,
             "#f7f7f7"
            ],
            [
             0.6,
             "#e6f5d0"
            ],
            [
             0.7,
             "#b8e186"
            ],
            [
             0.8,
             "#7fbc41"
            ],
            [
             0.9,
             "#4d9221"
            ],
            [
             1,
             "#276419"
            ]
           ],
           "sequential": [
            [
             0,
             "#0d0887"
            ],
            [
             0.1111111111111111,
             "#46039f"
            ],
            [
             0.2222222222222222,
             "#7201a8"
            ],
            [
             0.3333333333333333,
             "#9c179e"
            ],
            [
             0.4444444444444444,
             "#bd3786"
            ],
            [
             0.5555555555555556,
             "#d8576b"
            ],
            [
             0.6666666666666666,
             "#ed7953"
            ],
            [
             0.7777777777777778,
             "#fb9f3a"
            ],
            [
             0.8888888888888888,
             "#fdca26"
            ],
            [
             1,
             "#f0f921"
            ]
           ],
           "sequentialminus": [
            [
             0,
             "#0d0887"
            ],
            [
             0.1111111111111111,
             "#46039f"
            ],
            [
             0.2222222222222222,
             "#7201a8"
            ],
            [
             0.3333333333333333,
             "#9c179e"
            ],
            [
             0.4444444444444444,
             "#bd3786"
            ],
            [
             0.5555555555555556,
             "#d8576b"
            ],
            [
             0.6666666666666666,
             "#ed7953"
            ],
            [
             0.7777777777777778,
             "#fb9f3a"
            ],
            [
             0.8888888888888888,
             "#fdca26"
            ],
            [
             1,
             "#f0f921"
            ]
           ]
          },
          "colorway": [
           "#636efa",
           "#EF553B",
           "#00cc96",
           "#ab63fa",
           "#FFA15A",
           "#19d3f3",
           "#FF6692",
           "#B6E880",
           "#FF97FF",
           "#FECB52"
          ],
          "font": {
           "color": "#2a3f5f"
          },
          "geo": {
           "bgcolor": "white",
           "lakecolor": "white",
           "landcolor": "white",
           "showlakes": true,
           "showland": true,
           "subunitcolor": "#C8D4E3"
          },
          "hoverlabel": {
           "align": "left"
          },
          "hovermode": "closest",
          "mapbox": {
           "style": "light"
          },
          "paper_bgcolor": "white",
          "plot_bgcolor": "white",
          "polar": {
           "angularaxis": {
            "gridcolor": "#EBF0F8",
            "linecolor": "#EBF0F8",
            "ticks": ""
           },
           "bgcolor": "white",
           "radialaxis": {
            "gridcolor": "#EBF0F8",
            "linecolor": "#EBF0F8",
            "ticks": ""
           }
          },
          "scene": {
           "xaxis": {
            "backgroundcolor": "white",
            "gridcolor": "#DFE8F3",
            "gridwidth": 2,
            "linecolor": "#EBF0F8",
            "showbackground": true,
            "ticks": "",
            "zerolinecolor": "#EBF0F8"
           },
           "yaxis": {
            "backgroundcolor": "white",
            "gridcolor": "#DFE8F3",
            "gridwidth": 2,
            "linecolor": "#EBF0F8",
            "showbackground": true,
            "ticks": "",
            "zerolinecolor": "#EBF0F8"
           },
           "zaxis": {
            "backgroundcolor": "white",
            "gridcolor": "#DFE8F3",
            "gridwidth": 2,
            "linecolor": "#EBF0F8",
            "showbackground": true,
            "ticks": "",
            "zerolinecolor": "#EBF0F8"
           }
          },
          "shapedefaults": {
           "line": {
            "color": "#2a3f5f"
           }
          },
          "ternary": {
           "aaxis": {
            "gridcolor": "#DFE8F3",
            "linecolor": "#A2B1C6",
            "ticks": ""
           },
           "baxis": {
            "gridcolor": "#DFE8F3",
            "linecolor": "#A2B1C6",
            "ticks": ""
           },
           "bgcolor": "white",
           "caxis": {
            "gridcolor": "#DFE8F3",
            "linecolor": "#A2B1C6",
            "ticks": ""
           }
          },
          "title": {
           "x": 0.05
          },
          "xaxis": {
           "automargin": true,
           "gridcolor": "#EBF0F8",
           "linecolor": "#EBF0F8",
           "ticks": "",
           "zerolinecolor": "#EBF0F8",
           "zerolinewidth": 2
          },
          "yaxis": {
           "automargin": true,
           "gridcolor": "#EBF0F8",
           "linecolor": "#EBF0F8",
           "ticks": "",
           "zerolinecolor": "#EBF0F8",
           "zerolinewidth": 2
          }
         }
        },
        "width": 800
       }
      },
      "text/html": [
       "<div>\n",
       "        \n",
       "        \n",
       "            <div id=\"da21e730-33fa-448b-adeb-e9d4b95b85ee\" class=\"plotly-graph-div\" style=\"height:600px; width:800px;\"></div>\n",
       "            <script type=\"text/javascript\">\n",
       "                require([\"plotly\"], function(Plotly) {\n",
       "                    window.PLOTLYENV=window.PLOTLYENV || {};\n",
       "                    \n",
       "                if (document.getElementById(\"da21e730-33fa-448b-adeb-e9d4b95b85ee\")) {\n",
       "                    Plotly.newPlot(\n",
       "                        'da21e730-33fa-448b-adeb-e9d4b95b85ee',\n",
       "                        [{\"hoverlabel\": {\"namelength\": 0}, \"hovertemplate\": \"name=Bernd Leno<br>value=%{r}<br>kpi=%{theta}\", \"legendgroup\": \"name=Bernd Leno\", \"line\": {\"color\": \"#636efa\", \"dash\": \"solid\", \"width\": 5}, \"mode\": \"lines\", \"name\": \"name=Bernd Leno\", \"r\": [0.36458333333333337, 1.0, 0.8203125, 0.900390625, 1.0, 1.0, 0.36458333333333337], \"showlegend\": true, \"subplot\": \"polar\", \"theta\": [\"High Claims\", \"Punches\", \"Saves\", \"Passes\", \"Clearances\", \"Minutes Played\", \"High Claims\"], \"type\": \"scatterpolar\"}, {\"hoverlabel\": {\"namelength\": 0}, \"hovertemplate\": \"name=Petr Cech<br>value=%{r}<br>kpi=%{theta}\", \"legendgroup\": \"name=Petr Cech\", \"line\": {\"color\": \"#EF553B\", \"dash\": \"dot\", \"width\": 5}, \"mode\": \"lines\", \"name\": \"name=Petr Cech\", \"r\": [1.0, 0.5714285714285714, 1.0, 1.0, 1.0, 0.20634920634920634, 1.0], \"showlegend\": true, \"subplot\": \"polar\", \"theta\": [\"High Claims\", \"Punches\", \"Saves\", \"Passes\", \"Clearances\", \"Minutes Played\", \"High Claims\"], \"type\": \"scatterpolar\"}],\n",
       "                        {\"height\": 600, \"legend\": {\"tracegroupgap\": 0, \"x\": 0.7, \"y\": 1.1}, \"margin\": {\"t\": 60}, \"polar\": {\"angularaxis\": {\"direction\": \"clockwise\", \"rotation\": 90}, \"domain\": {\"x\": [0.0, 0.98], \"y\": [0.0, 1.0]}}, \"template\": {\"data\": {\"bar\": [{\"error_x\": {\"color\": \"#2a3f5f\"}, \"error_y\": {\"color\": \"#2a3f5f\"}, \"marker\": {\"line\": {\"color\": \"white\", \"width\": 0.5}}, \"type\": \"bar\"}], \"barpolar\": [{\"marker\": {\"line\": {\"color\": \"white\", \"width\": 0.5}}, \"type\": \"barpolar\"}], \"carpet\": [{\"aaxis\": {\"endlinecolor\": \"#2a3f5f\", \"gridcolor\": \"#C8D4E3\", \"linecolor\": \"#C8D4E3\", \"minorgridcolor\": \"#C8D4E3\", \"startlinecolor\": \"#2a3f5f\"}, \"baxis\": {\"endlinecolor\": \"#2a3f5f\", \"gridcolor\": \"#C8D4E3\", \"linecolor\": \"#C8D4E3\", \"minorgridcolor\": \"#C8D4E3\", \"startlinecolor\": \"#2a3f5f\"}, \"type\": \"carpet\"}], \"choropleth\": [{\"colorbar\": {\"outlinewidth\": 0, \"ticks\": \"\"}, \"type\": \"choropleth\"}], \"contour\": [{\"colorbar\": {\"outlinewidth\": 0, \"ticks\": \"\"}, \"colorscale\": [[0.0, \"#0d0887\"], [0.1111111111111111, \"#46039f\"], [0.2222222222222222, \"#7201a8\"], [0.3333333333333333, \"#9c179e\"], [0.4444444444444444, \"#bd3786\"], [0.5555555555555556, \"#d8576b\"], [0.6666666666666666, \"#ed7953\"], [0.7777777777777778, \"#fb9f3a\"], [0.8888888888888888, \"#fdca26\"], [1.0, \"#f0f921\"]], \"type\": \"contour\"}], \"contourcarpet\": [{\"colorbar\": {\"outlinewidth\": 0, \"ticks\": \"\"}, \"type\": \"contourcarpet\"}], \"heatmap\": [{\"colorbar\": {\"outlinewidth\": 0, \"ticks\": \"\"}, \"colorscale\": [[0.0, \"#0d0887\"], [0.1111111111111111, \"#46039f\"], [0.2222222222222222, \"#7201a8\"], [0.3333333333333333, \"#9c179e\"], [0.4444444444444444, \"#bd3786\"], [0.5555555555555556, \"#d8576b\"], [0.6666666666666666, \"#ed7953\"], [0.7777777777777778, \"#fb9f3a\"], [0.8888888888888888, \"#fdca26\"], [1.0, \"#f0f921\"]], \"type\": \"heatmap\"}], \"heatmapgl\": [{\"colorbar\": {\"outlinewidth\": 0, \"ticks\": \"\"}, \"colorscale\": [[0.0, \"#0d0887\"], [0.1111111111111111, \"#46039f\"], [0.2222222222222222, \"#7201a8\"], [0.3333333333333333, \"#9c179e\"], [0.4444444444444444, \"#bd3786\"], [0.5555555555555556, \"#d8576b\"], [0.6666666666666666, \"#ed7953\"], [0.7777777777777778, \"#fb9f3a\"], [0.8888888888888888, \"#fdca26\"], [1.0, \"#f0f921\"]], \"type\": \"heatmapgl\"}], \"histogram\": [{\"marker\": {\"colorbar\": {\"outlinewidth\": 0, \"ticks\": \"\"}}, \"type\": \"histogram\"}], \"histogram2d\": [{\"colorbar\": {\"outlinewidth\": 0, \"ticks\": \"\"}, \"colorscale\": [[0.0, \"#0d0887\"], [0.1111111111111111, \"#46039f\"], [0.2222222222222222, \"#7201a8\"], [0.3333333333333333, \"#9c179e\"], [0.4444444444444444, \"#bd3786\"], [0.5555555555555556, \"#d8576b\"], [0.6666666666666666, \"#ed7953\"], [0.7777777777777778, \"#fb9f3a\"], [0.8888888888888888, \"#fdca26\"], [1.0, \"#f0f921\"]], \"type\": \"histogram2d\"}], \"histogram2dcontour\": [{\"colorbar\": {\"outlinewidth\": 0, \"ticks\": \"\"}, \"colorscale\": [[0.0, \"#0d0887\"], [0.1111111111111111, \"#46039f\"], [0.2222222222222222, \"#7201a8\"], [0.3333333333333333, \"#9c179e\"], [0.4444444444444444, \"#bd3786\"], [0.5555555555555556, \"#d8576b\"], [0.6666666666666666, \"#ed7953\"], [0.7777777777777778, \"#fb9f3a\"], [0.8888888888888888, \"#fdca26\"], [1.0, \"#f0f921\"]], \"type\": \"histogram2dcontour\"}], \"mesh3d\": [{\"colorbar\": {\"outlinewidth\": 0, \"ticks\": \"\"}, \"type\": \"mesh3d\"}], \"parcoords\": [{\"line\": {\"colorbar\": {\"outlinewidth\": 0, \"ticks\": \"\"}}, \"type\": \"parcoords\"}], \"scatter\": [{\"marker\": {\"colorbar\": {\"outlinewidth\": 0, \"ticks\": \"\"}}, \"type\": \"scatter\"}], \"scatter3d\": [{\"line\": {\"colorbar\": {\"outlinewidth\": 0, \"ticks\": \"\"}}, \"marker\": {\"colorbar\": {\"outlinewidth\": 0, \"ticks\": \"\"}}, \"type\": \"scatter3d\"}], \"scattercarpet\": [{\"marker\": {\"colorbar\": {\"outlinewidth\": 0, \"ticks\": \"\"}}, \"type\": \"scattercarpet\"}], \"scattergeo\": [{\"marker\": {\"colorbar\": {\"outlinewidth\": 0, \"ticks\": \"\"}}, \"type\": \"scattergeo\"}], \"scattergl\": [{\"marker\": {\"colorbar\": {\"outlinewidth\": 0, \"ticks\": \"\"}}, \"type\": \"scattergl\"}], \"scattermapbox\": [{\"marker\": {\"colorbar\": {\"outlinewidth\": 0, \"ticks\": \"\"}}, \"type\": \"scattermapbox\"}], \"scatterpolar\": [{\"marker\": {\"colorbar\": {\"outlinewidth\": 0, \"ticks\": \"\"}}, \"type\": \"scatterpolar\"}], \"scatterpolargl\": [{\"marker\": {\"colorbar\": {\"outlinewidth\": 0, \"ticks\": \"\"}}, \"type\": \"scatterpolargl\"}], \"scatterternary\": [{\"marker\": {\"colorbar\": {\"outlinewidth\": 0, \"ticks\": \"\"}}, \"type\": \"scatterternary\"}], \"surface\": [{\"colorbar\": {\"outlinewidth\": 0, \"ticks\": \"\"}, \"colorscale\": [[0.0, \"#0d0887\"], [0.1111111111111111, \"#46039f\"], [0.2222222222222222, \"#7201a8\"], [0.3333333333333333, \"#9c179e\"], [0.4444444444444444, \"#bd3786\"], [0.5555555555555556, \"#d8576b\"], [0.6666666666666666, \"#ed7953\"], [0.7777777777777778, \"#fb9f3a\"], [0.8888888888888888, \"#fdca26\"], [1.0, \"#f0f921\"]], \"type\": \"surface\"}], \"table\": [{\"cells\": {\"fill\": {\"color\": \"#EBF0F8\"}, \"line\": {\"color\": \"white\"}}, \"header\": {\"fill\": {\"color\": \"#C8D4E3\"}, \"line\": {\"color\": \"white\"}}, \"type\": \"table\"}]}, \"layout\": {\"annotationdefaults\": {\"arrowcolor\": \"#2a3f5f\", \"arrowhead\": 0, \"arrowwidth\": 1}, \"colorscale\": {\"diverging\": [[0, \"#8e0152\"], [0.1, \"#c51b7d\"], [0.2, \"#de77ae\"], [0.3, \"#f1b6da\"], [0.4, \"#fde0ef\"], [0.5, \"#f7f7f7\"], [0.6, \"#e6f5d0\"], [0.7, \"#b8e186\"], [0.8, \"#7fbc41\"], [0.9, \"#4d9221\"], [1, \"#276419\"]], \"sequential\": [[0.0, \"#0d0887\"], [0.1111111111111111, \"#46039f\"], [0.2222222222222222, \"#7201a8\"], [0.3333333333333333, \"#9c179e\"], [0.4444444444444444, \"#bd3786\"], [0.5555555555555556, \"#d8576b\"], [0.6666666666666666, \"#ed7953\"], [0.7777777777777778, \"#fb9f3a\"], [0.8888888888888888, \"#fdca26\"], [1.0, \"#f0f921\"]], \"sequentialminus\": [[0.0, \"#0d0887\"], [0.1111111111111111, \"#46039f\"], [0.2222222222222222, \"#7201a8\"], [0.3333333333333333, \"#9c179e\"], [0.4444444444444444, \"#bd3786\"], [0.5555555555555556, \"#d8576b\"], [0.6666666666666666, \"#ed7953\"], [0.7777777777777778, \"#fb9f3a\"], [0.8888888888888888, \"#fdca26\"], [1.0, \"#f0f921\"]]}, \"colorway\": [\"#636efa\", \"#EF553B\", \"#00cc96\", \"#ab63fa\", \"#FFA15A\", \"#19d3f3\", \"#FF6692\", \"#B6E880\", \"#FF97FF\", \"#FECB52\"], \"font\": {\"color\": \"#2a3f5f\"}, \"geo\": {\"bgcolor\": \"white\", \"lakecolor\": \"white\", \"landcolor\": \"white\", \"showlakes\": true, \"showland\": true, \"subunitcolor\": \"#C8D4E3\"}, \"hoverlabel\": {\"align\": \"left\"}, \"hovermode\": \"closest\", \"mapbox\": {\"style\": \"light\"}, \"paper_bgcolor\": \"white\", \"plot_bgcolor\": \"white\", \"polar\": {\"angularaxis\": {\"gridcolor\": \"#EBF0F8\", \"linecolor\": \"#EBF0F8\", \"ticks\": \"\"}, \"bgcolor\": \"white\", \"radialaxis\": {\"gridcolor\": \"#EBF0F8\", \"linecolor\": \"#EBF0F8\", \"ticks\": \"\"}}, \"scene\": {\"xaxis\": {\"backgroundcolor\": \"white\", \"gridcolor\": \"#DFE8F3\", \"gridwidth\": 2, \"linecolor\": \"#EBF0F8\", \"showbackground\": true, \"ticks\": \"\", \"zerolinecolor\": \"#EBF0F8\"}, \"yaxis\": {\"backgroundcolor\": \"white\", \"gridcolor\": \"#DFE8F3\", \"gridwidth\": 2, \"linecolor\": \"#EBF0F8\", \"showbackground\": true, \"ticks\": \"\", \"zerolinecolor\": \"#EBF0F8\"}, \"zaxis\": {\"backgroundcolor\": \"white\", \"gridcolor\": \"#DFE8F3\", \"gridwidth\": 2, \"linecolor\": \"#EBF0F8\", \"showbackground\": true, \"ticks\": \"\", \"zerolinecolor\": \"#EBF0F8\"}}, \"shapedefaults\": {\"line\": {\"color\": \"#2a3f5f\"}}, \"ternary\": {\"aaxis\": {\"gridcolor\": \"#DFE8F3\", \"linecolor\": \"#A2B1C6\", \"ticks\": \"\"}, \"baxis\": {\"gridcolor\": \"#DFE8F3\", \"linecolor\": \"#A2B1C6\", \"ticks\": \"\"}, \"bgcolor\": \"white\", \"caxis\": {\"gridcolor\": \"#DFE8F3\", \"linecolor\": \"#A2B1C6\", \"ticks\": \"\"}}, \"title\": {\"x\": 0.05}, \"xaxis\": {\"automargin\": true, \"gridcolor\": \"#EBF0F8\", \"linecolor\": \"#EBF0F8\", \"ticks\": \"\", \"zerolinecolor\": \"#EBF0F8\", \"zerolinewidth\": 2}, \"yaxis\": {\"automargin\": true, \"gridcolor\": \"#EBF0F8\", \"linecolor\": \"#EBF0F8\", \"ticks\": \"\", \"zerolinecolor\": \"#EBF0F8\", \"zerolinewidth\": 2}}}, \"width\": 800},\n",
       "                        {\"responsive\": true}\n",
       "                    ).then(function(){\n",
       "                            \n",
       "var gd = document.getElementById('da21e730-33fa-448b-adeb-e9d4b95b85ee');\n",
       "var x = new MutationObserver(function (mutations, observer) {{\n",
       "        var display = window.getComputedStyle(gd).display;\n",
       "        if (!display || display === 'none') {{\n",
       "            console.log([gd, 'removed!']);\n",
       "            Plotly.purge(gd);\n",
       "            observer.disconnect();\n",
       "        }}\n",
       "}});\n",
       "\n",
       "// Listen for the removal of the full notebook cells\n",
       "var notebookContainer = gd.closest('#notebook-container');\n",
       "if (notebookContainer) {{\n",
       "    x.observe(notebookContainer, {childList: true});\n",
       "}}\n",
       "\n",
       "// Listen for the clearing of the current output cell\n",
       "var outputEl = gd.closest('.output');\n",
       "if (outputEl) {{\n",
       "    x.observe(outputEl, {childList: true});\n",
       "}}\n",
       "\n",
       "                        })\n",
       "                };\n",
       "                });\n",
       "            </script>\n",
       "        </div>"
      ]
     },
     "metadata": {},
     "output_type": "display_data"
    }
   ],
   "source": [
    "fig = px.line_polar(gk, r='value', theta='kpi', line_dash='name', color='name', line_close=True\n",
    "                    , template=\"plotly_white\", width=800)\n",
    "\n",
    "fig.update_traces(mode='lines', line_width=5)\n",
    "fig.update_layout(legend=dict(x=0.7, y=1.1))\n",
    "fig.show()"
   ]
  },
  {
   "cell_type": "markdown",
   "metadata": {},
   "source": [
    "## DF"
   ]
  },
  {
   "cell_type": "code",
   "execution_count": 49,
   "metadata": {},
   "outputs": [
    {
     "data": {
      "text/html": [
       "<div>\n",
       "<style scoped>\n",
       "    .dataframe tbody tr th:only-of-type {\n",
       "        vertical-align: middle;\n",
       "    }\n",
       "\n",
       "    .dataframe tbody tr th {\n",
       "        vertical-align: top;\n",
       "    }\n",
       "\n",
       "    .dataframe thead th {\n",
       "        text-align: right;\n",
       "    }\n",
       "</style>\n",
       "<table border=\"1\" class=\"dataframe\">\n",
       "  <thead>\n",
       "    <tr style=\"text-align: right;\">\n",
       "      <th></th>\n",
       "      <th>0</th>\n",
       "      <th>1</th>\n",
       "      <th>2</th>\n",
       "      <th>3</th>\n",
       "      <th>4</th>\n",
       "      <th>5</th>\n",
       "      <th>6</th>\n",
       "      <th>7</th>\n",
       "      <th>8</th>\n",
       "      <th>9</th>\n",
       "      <th>10</th>\n",
       "      <th>11</th>\n",
       "      <th>12</th>\n",
       "      <th>13</th>\n",
       "      <th>14</th>\n",
       "      <th>15</th>\n",
       "      <th>16</th>\n",
       "      <th>17</th>\n",
       "      <th>18</th>\n",
       "      <th>19</th>\n",
       "      <th>20</th>\n",
       "      <th>21</th>\n",
       "      <th>22</th>\n",
       "      <th>23</th>\n",
       "      <th>24</th>\n",
       "      <th>25</th>\n",
       "      <th>26</th>\n",
       "      <th>27</th>\n",
       "    </tr>\n",
       "  </thead>\n",
       "  <tbody>\n",
       "    <tr>\n",
       "      <th>kpi</th>\n",
       "      <td>Clearances</td>\n",
       "      <td>Clearances</td>\n",
       "      <td>Clearances</td>\n",
       "      <td>Clearances</td>\n",
       "      <td>Fouls</td>\n",
       "      <td>Fouls</td>\n",
       "      <td>Fouls</td>\n",
       "      <td>Fouls</td>\n",
       "      <td>Yellow Cards</td>\n",
       "      <td>Yellow Cards</td>\n",
       "      <td>Yellow Cards</td>\n",
       "      <td>Yellow Cards</td>\n",
       "      <td>Tackles</td>\n",
       "      <td>Tackles</td>\n",
       "      <td>Tackles</td>\n",
       "      <td>Tackles</td>\n",
       "      <td>Passes</td>\n",
       "      <td>Passes</td>\n",
       "      <td>Passes</td>\n",
       "      <td>Passes</td>\n",
       "      <td>Minutes Played</td>\n",
       "      <td>Minutes Played</td>\n",
       "      <td>Minutes Played</td>\n",
       "      <td>Minutes Played</td>\n",
       "      <td>Assists</td>\n",
       "      <td>Assists</td>\n",
       "      <td>Assists</td>\n",
       "      <td>Assists</td>\n",
       "    </tr>\n",
       "    <tr>\n",
       "      <th>name</th>\n",
       "      <td>Héctor Bellerín</td>\n",
       "      <td>Sead Kolasinac</td>\n",
       "      <td>Shkodran Mustafi</td>\n",
       "      <td>Sokratis</td>\n",
       "      <td>Héctor Bellerín</td>\n",
       "      <td>Sead Kolasinac</td>\n",
       "      <td>Shkodran Mustafi</td>\n",
       "      <td>Sokratis</td>\n",
       "      <td>Héctor Bellerín</td>\n",
       "      <td>Sead Kolasinac</td>\n",
       "      <td>Shkodran Mustafi</td>\n",
       "      <td>Sokratis</td>\n",
       "      <td>Héctor Bellerín</td>\n",
       "      <td>Sead Kolasinac</td>\n",
       "      <td>Shkodran Mustafi</td>\n",
       "      <td>Sokratis</td>\n",
       "      <td>Héctor Bellerín</td>\n",
       "      <td>Sead Kolasinac</td>\n",
       "      <td>Shkodran Mustafi</td>\n",
       "      <td>Sokratis</td>\n",
       "      <td>Héctor Bellerín</td>\n",
       "      <td>Sead Kolasinac</td>\n",
       "      <td>Shkodran Mustafi</td>\n",
       "      <td>Sokratis</td>\n",
       "      <td>Héctor Bellerín</td>\n",
       "      <td>Sead Kolasinac</td>\n",
       "      <td>Shkodran Mustafi</td>\n",
       "      <td>Sokratis</td>\n",
       "    </tr>\n",
       "    <tr>\n",
       "      <th>value</th>\n",
       "      <td>0.349637</td>\n",
       "      <td>0.214844</td>\n",
       "      <td>1</td>\n",
       "      <td>0.797709</td>\n",
       "      <td>0.620299</td>\n",
       "      <td>0.66036</td>\n",
       "      <td>0.954555</td>\n",
       "      <td>1</td>\n",
       "      <td>0.358611</td>\n",
       "      <td>0.484788</td>\n",
       "      <td>0.630688</td>\n",
       "      <td>1</td>\n",
       "      <td>0.412695</td>\n",
       "      <td>0.758747</td>\n",
       "      <td>1</td>\n",
       "      <td>0.805571</td>\n",
       "      <td>0.758673</td>\n",
       "      <td>0.761175</td>\n",
       "      <td>1</td>\n",
       "      <td>0.934498</td>\n",
       "      <td>0.586233</td>\n",
       "      <td>0.722753</td>\n",
       "      <td>1</td>\n",
       "      <td>0.840918</td>\n",
       "      <td>1</td>\n",
       "      <td>0.811111</td>\n",
       "      <td>0</td>\n",
       "      <td>0.278854</td>\n",
       "    </tr>\n",
       "    <tr>\n",
       "      <th>denom</th>\n",
       "      <td>0.0615679</td>\n",
       "      <td>0.0615679</td>\n",
       "      <td>0.0615679</td>\n",
       "      <td>0.0615679</td>\n",
       "      <td>0.0168258</td>\n",
       "      <td>0.0168258</td>\n",
       "      <td>0.0168258</td>\n",
       "      <td>0.0168258</td>\n",
       "      <td>0.00545703</td>\n",
       "      <td>0.00545703</td>\n",
       "      <td>0.00545703</td>\n",
       "      <td>0.00545703</td>\n",
       "      <td>0.0237094</td>\n",
       "      <td>0.0237094</td>\n",
       "      <td>0.0237094</td>\n",
       "      <td>0.0237094</td>\n",
       "      <td>0.674952</td>\n",
       "      <td>0.674952</td>\n",
       "      <td>0.674952</td>\n",
       "      <td>0.674952</td>\n",
       "      <td>2615</td>\n",
       "      <td>2615</td>\n",
       "      <td>2615</td>\n",
       "      <td>2615</td>\n",
       "      <td>0.00326158</td>\n",
       "      <td>0.00326158</td>\n",
       "      <td>0.00326158</td>\n",
       "      <td>0.00326158</td>\n",
       "    </tr>\n",
       "  </tbody>\n",
       "</table>\n",
       "</div>"
      ],
      "text/plain": [
       "                    0               1                 2           3   \\\n",
       "kpi         Clearances      Clearances        Clearances  Clearances   \n",
       "name   Héctor Bellerín  Sead Kolasinac  Shkodran Mustafi    Sokratis   \n",
       "value         0.349637        0.214844                 1    0.797709   \n",
       "denom        0.0615679       0.0615679         0.0615679   0.0615679   \n",
       "\n",
       "                    4               5                 6          7   \\\n",
       "kpi              Fouls           Fouls             Fouls      Fouls   \n",
       "name   Héctor Bellerín  Sead Kolasinac  Shkodran Mustafi   Sokratis   \n",
       "value         0.620299         0.66036          0.954555          1   \n",
       "denom        0.0168258       0.0168258         0.0168258  0.0168258   \n",
       "\n",
       "                    8               9                 10            11  \\\n",
       "kpi       Yellow Cards    Yellow Cards      Yellow Cards  Yellow Cards   \n",
       "name   Héctor Bellerín  Sead Kolasinac  Shkodran Mustafi      Sokratis   \n",
       "value         0.358611        0.484788          0.630688             1   \n",
       "denom       0.00545703      0.00545703        0.00545703    0.00545703   \n",
       "\n",
       "                    12              13                14         15  \\\n",
       "kpi            Tackles         Tackles           Tackles    Tackles   \n",
       "name   Héctor Bellerín  Sead Kolasinac  Shkodran Mustafi   Sokratis   \n",
       "value         0.412695        0.758747                 1   0.805571   \n",
       "denom        0.0237094       0.0237094         0.0237094  0.0237094   \n",
       "\n",
       "                    16              17                18        19  \\\n",
       "kpi             Passes          Passes            Passes    Passes   \n",
       "name   Héctor Bellerín  Sead Kolasinac  Shkodran Mustafi  Sokratis   \n",
       "value         0.758673        0.761175                 1  0.934498   \n",
       "denom         0.674952        0.674952          0.674952  0.674952   \n",
       "\n",
       "                    20              21                22              23  \\\n",
       "kpi     Minutes Played  Minutes Played    Minutes Played  Minutes Played   \n",
       "name   Héctor Bellerín  Sead Kolasinac  Shkodran Mustafi        Sokratis   \n",
       "value         0.586233        0.722753                 1        0.840918   \n",
       "denom             2615            2615              2615            2615   \n",
       "\n",
       "                    24              25                26          27  \n",
       "kpi            Assists         Assists           Assists     Assists  \n",
       "name   Héctor Bellerín  Sead Kolasinac  Shkodran Mustafi    Sokratis  \n",
       "value                1        0.811111                 0    0.278854  \n",
       "denom       0.00326158      0.00326158        0.00326158  0.00326158  "
      ]
     },
     "execution_count": 49,
     "metadata": {},
     "output_type": "execute_result"
    }
   ],
   "source": [
    "df = training.query(\"position == 'DF' and Appearances > 18\")[\n",
    "    ['clearances_per_min_played', 'fouls_per_min_played', 'yc_per_min_played'\n",
    "    ,'tackles_per_min_played','passes_per_min_played', 'Minutes Played', 'assists_per_min_played']\n",
    "].rename(columns={'clearances_per_min_played': 'Clearances', 'fouls_per_min_played': 'Fouls'\n",
    "                  , 'yc_per_min_played': 'Yellow Cards','tackles_per_min_played': 'Tackles'\n",
    "                  ,'passes_per_min_played': 'Passes', 'assists_per_min_played':'Assists'})\n",
    "\n",
    "max_map = df.max().to_dict()\n",
    "df = pandas.DataFrame(df.unstack()).reset_index()\n",
    "df.columns = ['kpi', 'name', 'value']\n",
    "df['denom'] = df.kpi.map(max_map)\n",
    "df['value'] = df.value / df.denom\n",
    "df.T"
   ]
  },
  {
   "cell_type": "code",
   "execution_count": 44,
   "metadata": {},
   "outputs": [
    {
     "data": {
      "application/vnd.plotly.v1+json": {
       "config": {
        "plotlyServerURL": "https://plot.ly"
       },
       "data": [
        {
         "hoverlabel": {
          "namelength": 0
         },
         "hovertemplate": "name=Héctor Bellerín<br>value=%{r}<br>kpi=%{theta}",
         "legendgroup": "name=Héctor Bellerín",
         "line": {
          "color": "#636efa",
          "dash": "solid",
          "width": 4
         },
         "mode": "lines",
         "name": "name=Héctor Bellerín",
         "r": [
          0.3496371747031153,
          0.6202993600253874,
          0.35861056751467707,
          0.4126949056246449,
          0.7586727500189412,
          0.5862332695984703,
          1,
          0.3496371747031153
         ],
         "showlegend": true,
         "subplot": "polar",
         "theta": [
          "Clearances",
          "Fouls",
          "Yellow Cards",
          "Tackles",
          "Passes",
          "Minutes Played",
          "Assists",
          "Clearances"
         ],
         "type": "scatterpolar"
        },
        {
         "hoverlabel": {
          "namelength": 0
         },
         "hovertemplate": "name=Sead Kolasinac<br>value=%{r}<br>kpi=%{theta}",
         "legendgroup": "name=Sead Kolasinac",
         "line": {
          "color": "#EF553B",
          "dash": "dot",
          "width": 4
         },
         "mode": "lines",
         "name": "name=Sead Kolasinac",
         "r": [
          0.21484439186302537,
          0.6603603603603604,
          0.48478835978835977,
          0.7587472264891619,
          0.7611748130161727,
          0.722753346080306,
          0.8111111111111111,
          0.21484439186302537
         ],
         "showlegend": true,
         "subplot": "polar",
         "theta": [
          "Clearances",
          "Fouls",
          "Yellow Cards",
          "Tackles",
          "Passes",
          "Minutes Played",
          "Assists",
          "Clearances"
         ],
         "type": "scatterpolar"
        },
        {
         "hoverlabel": {
          "namelength": 0
         },
         "hovertemplate": "name=Shkodran Mustafi<br>value=%{r}<br>kpi=%{theta}",
         "legendgroup": "name=Shkodran Mustafi",
         "line": {
          "color": "#00cc96",
          "dash": "dash",
          "width": 4
         },
         "mode": "lines",
         "name": "name=Shkodran Mustafi",
         "r": [
          1,
          0.9545553201384941,
          0.6306883365200765,
          1,
          1,
          1,
          0,
          1
         ],
         "showlegend": true,
         "subplot": "polar",
         "theta": [
          "Clearances",
          "Fouls",
          "Yellow Cards",
          "Tackles",
          "Passes",
          "Minutes Played",
          "Assists",
          "Clearances"
         ],
         "type": "scatterpolar"
        },
        {
         "hoverlabel": {
          "namelength": 0
         },
         "hovertemplate": "name=Sokratis<br>value=%{r}<br>kpi=%{theta}",
         "legendgroup": "name=Sokratis",
         "line": {
          "color": "#ab63fa",
          "dash": "longdash",
          "width": 4
         },
         "mode": "lines",
         "name": "name=Sokratis",
         "r": [
          0.797708727004652,
          1,
          1,
          0.8055714474321172,
          0.9344976534530891,
          0.8409177820267686,
          0.2788540245566167,
          0.797708727004652
         ],
         "showlegend": true,
         "subplot": "polar",
         "theta": [
          "Clearances",
          "Fouls",
          "Yellow Cards",
          "Tackles",
          "Passes",
          "Minutes Played",
          "Assists",
          "Clearances"
         ],
         "type": "scatterpolar"
        }
       ],
       "layout": {
        "height": 600,
        "legend": {
         "tracegroupgap": 0,
         "x": 0,
         "y": 1.1
        },
        "margin": {
         "t": 60
        },
        "polar": {
         "angularaxis": {
          "direction": "clockwise",
          "rotation": 90
         },
         "domain": {
          "x": [
           0,
           0.98
          ],
          "y": [
           0,
           1
          ]
         }
        },
        "template": {
         "data": {
          "bar": [
           {
            "error_x": {
             "color": "#2a3f5f"
            },
            "error_y": {
             "color": "#2a3f5f"
            },
            "marker": {
             "line": {
              "color": "white",
              "width": 0.5
             }
            },
            "type": "bar"
           }
          ],
          "barpolar": [
           {
            "marker": {
             "line": {
              "color": "white",
              "width": 0.5
             }
            },
            "type": "barpolar"
           }
          ],
          "carpet": [
           {
            "aaxis": {
             "endlinecolor": "#2a3f5f",
             "gridcolor": "#C8D4E3",
             "linecolor": "#C8D4E3",
             "minorgridcolor": "#C8D4E3",
             "startlinecolor": "#2a3f5f"
            },
            "baxis": {
             "endlinecolor": "#2a3f5f",
             "gridcolor": "#C8D4E3",
             "linecolor": "#C8D4E3",
             "minorgridcolor": "#C8D4E3",
             "startlinecolor": "#2a3f5f"
            },
            "type": "carpet"
           }
          ],
          "choropleth": [
           {
            "colorbar": {
             "outlinewidth": 0,
             "ticks": ""
            },
            "type": "choropleth"
           }
          ],
          "contour": [
           {
            "colorbar": {
             "outlinewidth": 0,
             "ticks": ""
            },
            "colorscale": [
             [
              0,
              "#0d0887"
             ],
             [
              0.1111111111111111,
              "#46039f"
             ],
             [
              0.2222222222222222,
              "#7201a8"
             ],
             [
              0.3333333333333333,
              "#9c179e"
             ],
             [
              0.4444444444444444,
              "#bd3786"
             ],
             [
              0.5555555555555556,
              "#d8576b"
             ],
             [
              0.6666666666666666,
              "#ed7953"
             ],
             [
              0.7777777777777778,
              "#fb9f3a"
             ],
             [
              0.8888888888888888,
              "#fdca26"
             ],
             [
              1,
              "#f0f921"
             ]
            ],
            "type": "contour"
           }
          ],
          "contourcarpet": [
           {
            "colorbar": {
             "outlinewidth": 0,
             "ticks": ""
            },
            "type": "contourcarpet"
           }
          ],
          "heatmap": [
           {
            "colorbar": {
             "outlinewidth": 0,
             "ticks": ""
            },
            "colorscale": [
             [
              0,
              "#0d0887"
             ],
             [
              0.1111111111111111,
              "#46039f"
             ],
             [
              0.2222222222222222,
              "#7201a8"
             ],
             [
              0.3333333333333333,
              "#9c179e"
             ],
             [
              0.4444444444444444,
              "#bd3786"
             ],
             [
              0.5555555555555556,
              "#d8576b"
             ],
             [
              0.6666666666666666,
              "#ed7953"
             ],
             [
              0.7777777777777778,
              "#fb9f3a"
             ],
             [
              0.8888888888888888,
              "#fdca26"
             ],
             [
              1,
              "#f0f921"
             ]
            ],
            "type": "heatmap"
           }
          ],
          "heatmapgl": [
           {
            "colorbar": {
             "outlinewidth": 0,
             "ticks": ""
            },
            "colorscale": [
             [
              0,
              "#0d0887"
             ],
             [
              0.1111111111111111,
              "#46039f"
             ],
             [
              0.2222222222222222,
              "#7201a8"
             ],
             [
              0.3333333333333333,
              "#9c179e"
             ],
             [
              0.4444444444444444,
              "#bd3786"
             ],
             [
              0.5555555555555556,
              "#d8576b"
             ],
             [
              0.6666666666666666,
              "#ed7953"
             ],
             [
              0.7777777777777778,
              "#fb9f3a"
             ],
             [
              0.8888888888888888,
              "#fdca26"
             ],
             [
              1,
              "#f0f921"
             ]
            ],
            "type": "heatmapgl"
           }
          ],
          "histogram": [
           {
            "marker": {
             "colorbar": {
              "outlinewidth": 0,
              "ticks": ""
             }
            },
            "type": "histogram"
           }
          ],
          "histogram2d": [
           {
            "colorbar": {
             "outlinewidth": 0,
             "ticks": ""
            },
            "colorscale": [
             [
              0,
              "#0d0887"
             ],
             [
              0.1111111111111111,
              "#46039f"
             ],
             [
              0.2222222222222222,
              "#7201a8"
             ],
             [
              0.3333333333333333,
              "#9c179e"
             ],
             [
              0.4444444444444444,
              "#bd3786"
             ],
             [
              0.5555555555555556,
              "#d8576b"
             ],
             [
              0.6666666666666666,
              "#ed7953"
             ],
             [
              0.7777777777777778,
              "#fb9f3a"
             ],
             [
              0.8888888888888888,
              "#fdca26"
             ],
             [
              1,
              "#f0f921"
             ]
            ],
            "type": "histogram2d"
           }
          ],
          "histogram2dcontour": [
           {
            "colorbar": {
             "outlinewidth": 0,
             "ticks": ""
            },
            "colorscale": [
             [
              0,
              "#0d0887"
             ],
             [
              0.1111111111111111,
              "#46039f"
             ],
             [
              0.2222222222222222,
              "#7201a8"
             ],
             [
              0.3333333333333333,
              "#9c179e"
             ],
             [
              0.4444444444444444,
              "#bd3786"
             ],
             [
              0.5555555555555556,
              "#d8576b"
             ],
             [
              0.6666666666666666,
              "#ed7953"
             ],
             [
              0.7777777777777778,
              "#fb9f3a"
             ],
             [
              0.8888888888888888,
              "#fdca26"
             ],
             [
              1,
              "#f0f921"
             ]
            ],
            "type": "histogram2dcontour"
           }
          ],
          "mesh3d": [
           {
            "colorbar": {
             "outlinewidth": 0,
             "ticks": ""
            },
            "type": "mesh3d"
           }
          ],
          "parcoords": [
           {
            "line": {
             "colorbar": {
              "outlinewidth": 0,
              "ticks": ""
             }
            },
            "type": "parcoords"
           }
          ],
          "scatter": [
           {
            "marker": {
             "colorbar": {
              "outlinewidth": 0,
              "ticks": ""
             }
            },
            "type": "scatter"
           }
          ],
          "scatter3d": [
           {
            "line": {
             "colorbar": {
              "outlinewidth": 0,
              "ticks": ""
             }
            },
            "marker": {
             "colorbar": {
              "outlinewidth": 0,
              "ticks": ""
             }
            },
            "type": "scatter3d"
           }
          ],
          "scattercarpet": [
           {
            "marker": {
             "colorbar": {
              "outlinewidth": 0,
              "ticks": ""
             }
            },
            "type": "scattercarpet"
           }
          ],
          "scattergeo": [
           {
            "marker": {
             "colorbar": {
              "outlinewidth": 0,
              "ticks": ""
             }
            },
            "type": "scattergeo"
           }
          ],
          "scattergl": [
           {
            "marker": {
             "colorbar": {
              "outlinewidth": 0,
              "ticks": ""
             }
            },
            "type": "scattergl"
           }
          ],
          "scattermapbox": [
           {
            "marker": {
             "colorbar": {
              "outlinewidth": 0,
              "ticks": ""
             }
            },
            "type": "scattermapbox"
           }
          ],
          "scatterpolar": [
           {
            "marker": {
             "colorbar": {
              "outlinewidth": 0,
              "ticks": ""
             }
            },
            "type": "scatterpolar"
           }
          ],
          "scatterpolargl": [
           {
            "marker": {
             "colorbar": {
              "outlinewidth": 0,
              "ticks": ""
             }
            },
            "type": "scatterpolargl"
           }
          ],
          "scatterternary": [
           {
            "marker": {
             "colorbar": {
              "outlinewidth": 0,
              "ticks": ""
             }
            },
            "type": "scatterternary"
           }
          ],
          "surface": [
           {
            "colorbar": {
             "outlinewidth": 0,
             "ticks": ""
            },
            "colorscale": [
             [
              0,
              "#0d0887"
             ],
             [
              0.1111111111111111,
              "#46039f"
             ],
             [
              0.2222222222222222,
              "#7201a8"
             ],
             [
              0.3333333333333333,
              "#9c179e"
             ],
             [
              0.4444444444444444,
              "#bd3786"
             ],
             [
              0.5555555555555556,
              "#d8576b"
             ],
             [
              0.6666666666666666,
              "#ed7953"
             ],
             [
              0.7777777777777778,
              "#fb9f3a"
             ],
             [
              0.8888888888888888,
              "#fdca26"
             ],
             [
              1,
              "#f0f921"
             ]
            ],
            "type": "surface"
           }
          ],
          "table": [
           {
            "cells": {
             "fill": {
              "color": "#EBF0F8"
             },
             "line": {
              "color": "white"
             }
            },
            "header": {
             "fill": {
              "color": "#C8D4E3"
             },
             "line": {
              "color": "white"
             }
            },
            "type": "table"
           }
          ]
         },
         "layout": {
          "annotationdefaults": {
           "arrowcolor": "#2a3f5f",
           "arrowhead": 0,
           "arrowwidth": 1
          },
          "colorscale": {
           "diverging": [
            [
             0,
             "#8e0152"
            ],
            [
             0.1,
             "#c51b7d"
            ],
            [
             0.2,
             "#de77ae"
            ],
            [
             0.3,
             "#f1b6da"
            ],
            [
             0.4,
             "#fde0ef"
            ],
            [
             0.5,
             "#f7f7f7"
            ],
            [
             0.6,
             "#e6f5d0"
            ],
            [
             0.7,
             "#b8e186"
            ],
            [
             0.8,
             "#7fbc41"
            ],
            [
             0.9,
             "#4d9221"
            ],
            [
             1,
             "#276419"
            ]
           ],
           "sequential": [
            [
             0,
             "#0d0887"
            ],
            [
             0.1111111111111111,
             "#46039f"
            ],
            [
             0.2222222222222222,
             "#7201a8"
            ],
            [
             0.3333333333333333,
             "#9c179e"
            ],
            [
             0.4444444444444444,
             "#bd3786"
            ],
            [
             0.5555555555555556,
             "#d8576b"
            ],
            [
             0.6666666666666666,
             "#ed7953"
            ],
            [
             0.7777777777777778,
             "#fb9f3a"
            ],
            [
             0.8888888888888888,
             "#fdca26"
            ],
            [
             1,
             "#f0f921"
            ]
           ],
           "sequentialminus": [
            [
             0,
             "#0d0887"
            ],
            [
             0.1111111111111111,
             "#46039f"
            ],
            [
             0.2222222222222222,
             "#7201a8"
            ],
            [
             0.3333333333333333,
             "#9c179e"
            ],
            [
             0.4444444444444444,
             "#bd3786"
            ],
            [
             0.5555555555555556,
             "#d8576b"
            ],
            [
             0.6666666666666666,
             "#ed7953"
            ],
            [
             0.7777777777777778,
             "#fb9f3a"
            ],
            [
             0.8888888888888888,
             "#fdca26"
            ],
            [
             1,
             "#f0f921"
            ]
           ]
          },
          "colorway": [
           "#636efa",
           "#EF553B",
           "#00cc96",
           "#ab63fa",
           "#FFA15A",
           "#19d3f3",
           "#FF6692",
           "#B6E880",
           "#FF97FF",
           "#FECB52"
          ],
          "font": {
           "color": "#2a3f5f"
          },
          "geo": {
           "bgcolor": "white",
           "lakecolor": "white",
           "landcolor": "white",
           "showlakes": true,
           "showland": true,
           "subunitcolor": "#C8D4E3"
          },
          "hoverlabel": {
           "align": "left"
          },
          "hovermode": "closest",
          "mapbox": {
           "style": "light"
          },
          "paper_bgcolor": "white",
          "plot_bgcolor": "white",
          "polar": {
           "angularaxis": {
            "gridcolor": "#EBF0F8",
            "linecolor": "#EBF0F8",
            "ticks": ""
           },
           "bgcolor": "white",
           "radialaxis": {
            "gridcolor": "#EBF0F8",
            "linecolor": "#EBF0F8",
            "ticks": ""
           }
          },
          "scene": {
           "xaxis": {
            "backgroundcolor": "white",
            "gridcolor": "#DFE8F3",
            "gridwidth": 2,
            "linecolor": "#EBF0F8",
            "showbackground": true,
            "ticks": "",
            "zerolinecolor": "#EBF0F8"
           },
           "yaxis": {
            "backgroundcolor": "white",
            "gridcolor": "#DFE8F3",
            "gridwidth": 2,
            "linecolor": "#EBF0F8",
            "showbackground": true,
            "ticks": "",
            "zerolinecolor": "#EBF0F8"
           },
           "zaxis": {
            "backgroundcolor": "white",
            "gridcolor": "#DFE8F3",
            "gridwidth": 2,
            "linecolor": "#EBF0F8",
            "showbackground": true,
            "ticks": "",
            "zerolinecolor": "#EBF0F8"
           }
          },
          "shapedefaults": {
           "line": {
            "color": "#2a3f5f"
           }
          },
          "ternary": {
           "aaxis": {
            "gridcolor": "#DFE8F3",
            "linecolor": "#A2B1C6",
            "ticks": ""
           },
           "baxis": {
            "gridcolor": "#DFE8F3",
            "linecolor": "#A2B1C6",
            "ticks": ""
           },
           "bgcolor": "white",
           "caxis": {
            "gridcolor": "#DFE8F3",
            "linecolor": "#A2B1C6",
            "ticks": ""
           }
          },
          "title": {
           "x": 0.05
          },
          "xaxis": {
           "automargin": true,
           "gridcolor": "#EBF0F8",
           "linecolor": "#EBF0F8",
           "ticks": "",
           "zerolinecolor": "#EBF0F8",
           "zerolinewidth": 2
          },
          "yaxis": {
           "automargin": true,
           "gridcolor": "#EBF0F8",
           "linecolor": "#EBF0F8",
           "ticks": "",
           "zerolinecolor": "#EBF0F8",
           "zerolinewidth": 2
          }
         }
        }
       }
      },
      "text/html": [
       "<div>\n",
       "        \n",
       "        \n",
       "            <div id=\"aaa38382-8457-47b9-95c4-e5bacd677022\" class=\"plotly-graph-div\" style=\"height:600px; width:100%;\"></div>\n",
       "            <script type=\"text/javascript\">\n",
       "                require([\"plotly\"], function(Plotly) {\n",
       "                    window.PLOTLYENV=window.PLOTLYENV || {};\n",
       "                    \n",
       "                if (document.getElementById(\"aaa38382-8457-47b9-95c4-e5bacd677022\")) {\n",
       "                    Plotly.newPlot(\n",
       "                        'aaa38382-8457-47b9-95c4-e5bacd677022',\n",
       "                        [{\"hoverlabel\": {\"namelength\": 0}, \"hovertemplate\": \"name=H\\u00e9ctor Beller\\u00edn<br>value=%{r}<br>kpi=%{theta}\", \"legendgroup\": \"name=H\\u00e9ctor Beller\\u00edn\", \"line\": {\"color\": \"#636efa\", \"dash\": \"solid\", \"width\": 4}, \"mode\": \"lines\", \"name\": \"name=H\\u00e9ctor Beller\\u00edn\", \"r\": [0.3496371747031153, 0.6202993600253874, 0.35861056751467707, 0.4126949056246449, 0.7586727500189412, 0.5862332695984703, 1.0, 0.3496371747031153], \"showlegend\": true, \"subplot\": \"polar\", \"theta\": [\"Clearances\", \"Fouls\", \"Yellow Cards\", \"Tackles\", \"Passes\", \"Minutes Played\", \"Assists\", \"Clearances\"], \"type\": \"scatterpolar\"}, {\"hoverlabel\": {\"namelength\": 0}, \"hovertemplate\": \"name=Sead Kolasinac<br>value=%{r}<br>kpi=%{theta}\", \"legendgroup\": \"name=Sead Kolasinac\", \"line\": {\"color\": \"#EF553B\", \"dash\": \"dot\", \"width\": 4}, \"mode\": \"lines\", \"name\": \"name=Sead Kolasinac\", \"r\": [0.21484439186302537, 0.6603603603603604, 0.48478835978835977, 0.7587472264891619, 0.7611748130161727, 0.722753346080306, 0.8111111111111111, 0.21484439186302537], \"showlegend\": true, \"subplot\": \"polar\", \"theta\": [\"Clearances\", \"Fouls\", \"Yellow Cards\", \"Tackles\", \"Passes\", \"Minutes Played\", \"Assists\", \"Clearances\"], \"type\": \"scatterpolar\"}, {\"hoverlabel\": {\"namelength\": 0}, \"hovertemplate\": \"name=Shkodran Mustafi<br>value=%{r}<br>kpi=%{theta}\", \"legendgroup\": \"name=Shkodran Mustafi\", \"line\": {\"color\": \"#00cc96\", \"dash\": \"dash\", \"width\": 4}, \"mode\": \"lines\", \"name\": \"name=Shkodran Mustafi\", \"r\": [1.0, 0.9545553201384941, 0.6306883365200765, 1.0, 1.0, 1.0, 0.0, 1.0], \"showlegend\": true, \"subplot\": \"polar\", \"theta\": [\"Clearances\", \"Fouls\", \"Yellow Cards\", \"Tackles\", \"Passes\", \"Minutes Played\", \"Assists\", \"Clearances\"], \"type\": \"scatterpolar\"}, {\"hoverlabel\": {\"namelength\": 0}, \"hovertemplate\": \"name=Sokratis<br>value=%{r}<br>kpi=%{theta}\", \"legendgroup\": \"name=Sokratis\", \"line\": {\"color\": \"#ab63fa\", \"dash\": \"longdash\", \"width\": 4}, \"mode\": \"lines\", \"name\": \"name=Sokratis\", \"r\": [0.797708727004652, 1.0, 1.0, 0.8055714474321172, 0.9344976534530891, 0.8409177820267686, 0.2788540245566167, 0.797708727004652], \"showlegend\": true, \"subplot\": \"polar\", \"theta\": [\"Clearances\", \"Fouls\", \"Yellow Cards\", \"Tackles\", \"Passes\", \"Minutes Played\", \"Assists\", \"Clearances\"], \"type\": \"scatterpolar\"}],\n",
       "                        {\"height\": 600, \"legend\": {\"tracegroupgap\": 0, \"x\": 0, \"y\": 1.1}, \"margin\": {\"t\": 60}, \"polar\": {\"angularaxis\": {\"direction\": \"clockwise\", \"rotation\": 90}, \"domain\": {\"x\": [0.0, 0.98], \"y\": [0.0, 1.0]}}, \"template\": {\"data\": {\"bar\": [{\"error_x\": {\"color\": \"#2a3f5f\"}, \"error_y\": {\"color\": \"#2a3f5f\"}, \"marker\": {\"line\": {\"color\": \"white\", \"width\": 0.5}}, \"type\": \"bar\"}], \"barpolar\": [{\"marker\": {\"line\": {\"color\": \"white\", \"width\": 0.5}}, \"type\": \"barpolar\"}], \"carpet\": [{\"aaxis\": {\"endlinecolor\": \"#2a3f5f\", \"gridcolor\": \"#C8D4E3\", \"linecolor\": \"#C8D4E3\", \"minorgridcolor\": \"#C8D4E3\", \"startlinecolor\": \"#2a3f5f\"}, \"baxis\": {\"endlinecolor\": \"#2a3f5f\", \"gridcolor\": \"#C8D4E3\", \"linecolor\": \"#C8D4E3\", \"minorgridcolor\": \"#C8D4E3\", \"startlinecolor\": \"#2a3f5f\"}, \"type\": \"carpet\"}], \"choropleth\": [{\"colorbar\": {\"outlinewidth\": 0, \"ticks\": \"\"}, \"type\": \"choropleth\"}], \"contour\": [{\"colorbar\": {\"outlinewidth\": 0, \"ticks\": \"\"}, \"colorscale\": [[0.0, \"#0d0887\"], [0.1111111111111111, \"#46039f\"], [0.2222222222222222, \"#7201a8\"], [0.3333333333333333, \"#9c179e\"], [0.4444444444444444, \"#bd3786\"], [0.5555555555555556, \"#d8576b\"], [0.6666666666666666, \"#ed7953\"], [0.7777777777777778, \"#fb9f3a\"], [0.8888888888888888, \"#fdca26\"], [1.0, \"#f0f921\"]], \"type\": \"contour\"}], \"contourcarpet\": [{\"colorbar\": {\"outlinewidth\": 0, \"ticks\": \"\"}, \"type\": \"contourcarpet\"}], \"heatmap\": [{\"colorbar\": {\"outlinewidth\": 0, \"ticks\": \"\"}, \"colorscale\": [[0.0, \"#0d0887\"], [0.1111111111111111, \"#46039f\"], [0.2222222222222222, \"#7201a8\"], [0.3333333333333333, \"#9c179e\"], [0.4444444444444444, \"#bd3786\"], [0.5555555555555556, \"#d8576b\"], [0.6666666666666666, \"#ed7953\"], [0.7777777777777778, \"#fb9f3a\"], [0.8888888888888888, \"#fdca26\"], [1.0, \"#f0f921\"]], \"type\": \"heatmap\"}], \"heatmapgl\": [{\"colorbar\": {\"outlinewidth\": 0, \"ticks\": \"\"}, \"colorscale\": [[0.0, \"#0d0887\"], [0.1111111111111111, \"#46039f\"], [0.2222222222222222, \"#7201a8\"], [0.3333333333333333, \"#9c179e\"], [0.4444444444444444, \"#bd3786\"], [0.5555555555555556, \"#d8576b\"], [0.6666666666666666, \"#ed7953\"], [0.7777777777777778, \"#fb9f3a\"], [0.8888888888888888, \"#fdca26\"], [1.0, \"#f0f921\"]], \"type\": \"heatmapgl\"}], \"histogram\": [{\"marker\": {\"colorbar\": {\"outlinewidth\": 0, \"ticks\": \"\"}}, \"type\": \"histogram\"}], \"histogram2d\": [{\"colorbar\": {\"outlinewidth\": 0, \"ticks\": \"\"}, \"colorscale\": [[0.0, \"#0d0887\"], [0.1111111111111111, \"#46039f\"], [0.2222222222222222, \"#7201a8\"], [0.3333333333333333, \"#9c179e\"], [0.4444444444444444, \"#bd3786\"], [0.5555555555555556, \"#d8576b\"], [0.6666666666666666, \"#ed7953\"], [0.7777777777777778, \"#fb9f3a\"], [0.8888888888888888, \"#fdca26\"], [1.0, \"#f0f921\"]], \"type\": \"histogram2d\"}], \"histogram2dcontour\": [{\"colorbar\": {\"outlinewidth\": 0, \"ticks\": \"\"}, \"colorscale\": [[0.0, \"#0d0887\"], [0.1111111111111111, \"#46039f\"], [0.2222222222222222, \"#7201a8\"], [0.3333333333333333, \"#9c179e\"], [0.4444444444444444, \"#bd3786\"], [0.5555555555555556, \"#d8576b\"], [0.6666666666666666, \"#ed7953\"], [0.7777777777777778, \"#fb9f3a\"], [0.8888888888888888, \"#fdca26\"], [1.0, \"#f0f921\"]], \"type\": \"histogram2dcontour\"}], \"mesh3d\": [{\"colorbar\": {\"outlinewidth\": 0, \"ticks\": \"\"}, \"type\": \"mesh3d\"}], \"parcoords\": [{\"line\": {\"colorbar\": {\"outlinewidth\": 0, \"ticks\": \"\"}}, \"type\": \"parcoords\"}], \"scatter\": [{\"marker\": {\"colorbar\": {\"outlinewidth\": 0, \"ticks\": \"\"}}, \"type\": \"scatter\"}], \"scatter3d\": [{\"line\": {\"colorbar\": {\"outlinewidth\": 0, \"ticks\": \"\"}}, \"marker\": {\"colorbar\": {\"outlinewidth\": 0, \"ticks\": \"\"}}, \"type\": \"scatter3d\"}], \"scattercarpet\": [{\"marker\": {\"colorbar\": {\"outlinewidth\": 0, \"ticks\": \"\"}}, \"type\": \"scattercarpet\"}], \"scattergeo\": [{\"marker\": {\"colorbar\": {\"outlinewidth\": 0, \"ticks\": \"\"}}, \"type\": \"scattergeo\"}], \"scattergl\": [{\"marker\": {\"colorbar\": {\"outlinewidth\": 0, \"ticks\": \"\"}}, \"type\": \"scattergl\"}], \"scattermapbox\": [{\"marker\": {\"colorbar\": {\"outlinewidth\": 0, \"ticks\": \"\"}}, \"type\": \"scattermapbox\"}], \"scatterpolar\": [{\"marker\": {\"colorbar\": {\"outlinewidth\": 0, \"ticks\": \"\"}}, \"type\": \"scatterpolar\"}], \"scatterpolargl\": [{\"marker\": {\"colorbar\": {\"outlinewidth\": 0, \"ticks\": \"\"}}, \"type\": \"scatterpolargl\"}], \"scatterternary\": [{\"marker\": {\"colorbar\": {\"outlinewidth\": 0, \"ticks\": \"\"}}, \"type\": \"scatterternary\"}], \"surface\": [{\"colorbar\": {\"outlinewidth\": 0, \"ticks\": \"\"}, \"colorscale\": [[0.0, \"#0d0887\"], [0.1111111111111111, \"#46039f\"], [0.2222222222222222, \"#7201a8\"], [0.3333333333333333, \"#9c179e\"], [0.4444444444444444, \"#bd3786\"], [0.5555555555555556, \"#d8576b\"], [0.6666666666666666, \"#ed7953\"], [0.7777777777777778, \"#fb9f3a\"], [0.8888888888888888, \"#fdca26\"], [1.0, \"#f0f921\"]], \"type\": \"surface\"}], \"table\": [{\"cells\": {\"fill\": {\"color\": \"#EBF0F8\"}, \"line\": {\"color\": \"white\"}}, \"header\": {\"fill\": {\"color\": \"#C8D4E3\"}, \"line\": {\"color\": \"white\"}}, \"type\": \"table\"}]}, \"layout\": {\"annotationdefaults\": {\"arrowcolor\": \"#2a3f5f\", \"arrowhead\": 0, \"arrowwidth\": 1}, \"colorscale\": {\"diverging\": [[0, \"#8e0152\"], [0.1, \"#c51b7d\"], [0.2, \"#de77ae\"], [0.3, \"#f1b6da\"], [0.4, \"#fde0ef\"], [0.5, \"#f7f7f7\"], [0.6, \"#e6f5d0\"], [0.7, \"#b8e186\"], [0.8, \"#7fbc41\"], [0.9, \"#4d9221\"], [1, \"#276419\"]], \"sequential\": [[0.0, \"#0d0887\"], [0.1111111111111111, \"#46039f\"], [0.2222222222222222, \"#7201a8\"], [0.3333333333333333, \"#9c179e\"], [0.4444444444444444, \"#bd3786\"], [0.5555555555555556, \"#d8576b\"], [0.6666666666666666, \"#ed7953\"], [0.7777777777777778, \"#fb9f3a\"], [0.8888888888888888, \"#fdca26\"], [1.0, \"#f0f921\"]], \"sequentialminus\": [[0.0, \"#0d0887\"], [0.1111111111111111, \"#46039f\"], [0.2222222222222222, \"#7201a8\"], [0.3333333333333333, \"#9c179e\"], [0.4444444444444444, \"#bd3786\"], [0.5555555555555556, \"#d8576b\"], [0.6666666666666666, \"#ed7953\"], [0.7777777777777778, \"#fb9f3a\"], [0.8888888888888888, \"#fdca26\"], [1.0, \"#f0f921\"]]}, \"colorway\": [\"#636efa\", \"#EF553B\", \"#00cc96\", \"#ab63fa\", \"#FFA15A\", \"#19d3f3\", \"#FF6692\", \"#B6E880\", \"#FF97FF\", \"#FECB52\"], \"font\": {\"color\": \"#2a3f5f\"}, \"geo\": {\"bgcolor\": \"white\", \"lakecolor\": \"white\", \"landcolor\": \"white\", \"showlakes\": true, \"showland\": true, \"subunitcolor\": \"#C8D4E3\"}, \"hoverlabel\": {\"align\": \"left\"}, \"hovermode\": \"closest\", \"mapbox\": {\"style\": \"light\"}, \"paper_bgcolor\": \"white\", \"plot_bgcolor\": \"white\", \"polar\": {\"angularaxis\": {\"gridcolor\": \"#EBF0F8\", \"linecolor\": \"#EBF0F8\", \"ticks\": \"\"}, \"bgcolor\": \"white\", \"radialaxis\": {\"gridcolor\": \"#EBF0F8\", \"linecolor\": \"#EBF0F8\", \"ticks\": \"\"}}, \"scene\": {\"xaxis\": {\"backgroundcolor\": \"white\", \"gridcolor\": \"#DFE8F3\", \"gridwidth\": 2, \"linecolor\": \"#EBF0F8\", \"showbackground\": true, \"ticks\": \"\", \"zerolinecolor\": \"#EBF0F8\"}, \"yaxis\": {\"backgroundcolor\": \"white\", \"gridcolor\": \"#DFE8F3\", \"gridwidth\": 2, \"linecolor\": \"#EBF0F8\", \"showbackground\": true, \"ticks\": \"\", \"zerolinecolor\": \"#EBF0F8\"}, \"zaxis\": {\"backgroundcolor\": \"white\", \"gridcolor\": \"#DFE8F3\", \"gridwidth\": 2, \"linecolor\": \"#EBF0F8\", \"showbackground\": true, \"ticks\": \"\", \"zerolinecolor\": \"#EBF0F8\"}}, \"shapedefaults\": {\"line\": {\"color\": \"#2a3f5f\"}}, \"ternary\": {\"aaxis\": {\"gridcolor\": \"#DFE8F3\", \"linecolor\": \"#A2B1C6\", \"ticks\": \"\"}, \"baxis\": {\"gridcolor\": \"#DFE8F3\", \"linecolor\": \"#A2B1C6\", \"ticks\": \"\"}, \"bgcolor\": \"white\", \"caxis\": {\"gridcolor\": \"#DFE8F3\", \"linecolor\": \"#A2B1C6\", \"ticks\": \"\"}}, \"title\": {\"x\": 0.05}, \"xaxis\": {\"automargin\": true, \"gridcolor\": \"#EBF0F8\", \"linecolor\": \"#EBF0F8\", \"ticks\": \"\", \"zerolinecolor\": \"#EBF0F8\", \"zerolinewidth\": 2}, \"yaxis\": {\"automargin\": true, \"gridcolor\": \"#EBF0F8\", \"linecolor\": \"#EBF0F8\", \"ticks\": \"\", \"zerolinecolor\": \"#EBF0F8\", \"zerolinewidth\": 2}}}},\n",
       "                        {\"responsive\": true}\n",
       "                    ).then(function(){\n",
       "                            \n",
       "var gd = document.getElementById('aaa38382-8457-47b9-95c4-e5bacd677022');\n",
       "var x = new MutationObserver(function (mutations, observer) {{\n",
       "        var display = window.getComputedStyle(gd).display;\n",
       "        if (!display || display === 'none') {{\n",
       "            console.log([gd, 'removed!']);\n",
       "            Plotly.purge(gd);\n",
       "            observer.disconnect();\n",
       "        }}\n",
       "}});\n",
       "\n",
       "// Listen for the removal of the full notebook cells\n",
       "var notebookContainer = gd.closest('#notebook-container');\n",
       "if (notebookContainer) {{\n",
       "    x.observe(notebookContainer, {childList: true});\n",
       "}}\n",
       "\n",
       "// Listen for the clearing of the current output cell\n",
       "var outputEl = gd.closest('.output');\n",
       "if (outputEl) {{\n",
       "    x.observe(outputEl, {childList: true});\n",
       "}}\n",
       "\n",
       "                        })\n",
       "                };\n",
       "                });\n",
       "            </script>\n",
       "        </div>"
      ]
     },
     "metadata": {},
     "output_type": "display_data"
    }
   ],
   "source": [
    "fig = px.line_polar(df, r='value', theta='kpi'\n",
    "                    ,color='name', line_dash='name', line_close=True, template=\"plotly_white\")\n",
    "fig.update_traces(mode='lines', line_width=4)\n",
    "fig.update_layout(legend=dict(x=0, y=1.1))\n",
    "fig.show()"
   ]
  },
  {
   "cell_type": "markdown",
   "metadata": {},
   "source": [
    "## MF"
   ]
  },
  {
   "cell_type": "code",
   "execution_count": 51,
   "metadata": {},
   "outputs": [
    {
     "data": {
      "text/html": [
       "<div>\n",
       "<style scoped>\n",
       "    .dataframe tbody tr th:only-of-type {\n",
       "        vertical-align: middle;\n",
       "    }\n",
       "\n",
       "    .dataframe tbody tr th {\n",
       "        vertical-align: top;\n",
       "    }\n",
       "\n",
       "    .dataframe thead th {\n",
       "        text-align: right;\n",
       "    }\n",
       "</style>\n",
       "<table border=\"1\" class=\"dataframe\">\n",
       "  <thead>\n",
       "    <tr style=\"text-align: right;\">\n",
       "      <th></th>\n",
       "      <th>0</th>\n",
       "      <th>1</th>\n",
       "      <th>2</th>\n",
       "      <th>3</th>\n",
       "      <th>4</th>\n",
       "      <th>5</th>\n",
       "      <th>6</th>\n",
       "      <th>7</th>\n",
       "      <th>8</th>\n",
       "      <th>9</th>\n",
       "      <th>10</th>\n",
       "      <th>11</th>\n",
       "      <th>12</th>\n",
       "      <th>13</th>\n",
       "      <th>14</th>\n",
       "      <th>15</th>\n",
       "      <th>16</th>\n",
       "      <th>17</th>\n",
       "      <th>18</th>\n",
       "      <th>19</th>\n",
       "      <th>20</th>\n",
       "      <th>21</th>\n",
       "      <th>22</th>\n",
       "      <th>23</th>\n",
       "      <th>24</th>\n",
       "      <th>25</th>\n",
       "      <th>26</th>\n",
       "      <th>27</th>\n",
       "      <th>28</th>\n",
       "      <th>29</th>\n",
       "      <th>30</th>\n",
       "      <th>31</th>\n",
       "      <th>32</th>\n",
       "      <th>33</th>\n",
       "      <th>34</th>\n",
       "      <th>35</th>\n",
       "      <th>36</th>\n",
       "      <th>37</th>\n",
       "      <th>38</th>\n",
       "      <th>39</th>\n",
       "      <th>40</th>\n",
       "      <th>41</th>\n",
       "      <th>42</th>\n",
       "      <th>43</th>\n",
       "      <th>44</th>\n",
       "      <th>45</th>\n",
       "      <th>46</th>\n",
       "      <th>47</th>\n",
       "      <th>48</th>\n",
       "      <th>49</th>\n",
       "      <th>50</th>\n",
       "      <th>51</th>\n",
       "      <th>52</th>\n",
       "      <th>53</th>\n",
       "      <th>54</th>\n",
       "      <th>55</th>\n",
       "    </tr>\n",
       "  </thead>\n",
       "  <tbody>\n",
       "    <tr>\n",
       "      <th>kpi</th>\n",
       "      <td>Assists</td>\n",
       "      <td>Assists</td>\n",
       "      <td>Assists</td>\n",
       "      <td>Assists</td>\n",
       "      <td>Assists</td>\n",
       "      <td>Assists</td>\n",
       "      <td>Assists</td>\n",
       "      <td>Dispossessed</td>\n",
       "      <td>Dispossessed</td>\n",
       "      <td>Dispossessed</td>\n",
       "      <td>Dispossessed</td>\n",
       "      <td>Dispossessed</td>\n",
       "      <td>Dispossessed</td>\n",
       "      <td>Dispossessed</td>\n",
       "      <td>Goals</td>\n",
       "      <td>Goals</td>\n",
       "      <td>Goals</td>\n",
       "      <td>Goals</td>\n",
       "      <td>Goals</td>\n",
       "      <td>Goals</td>\n",
       "      <td>Goals</td>\n",
       "      <td>Passes</td>\n",
       "      <td>Passes</td>\n",
       "      <td>Passes</td>\n",
       "      <td>Passes</td>\n",
       "      <td>Passes</td>\n",
       "      <td>Passes</td>\n",
       "      <td>Passes</td>\n",
       "      <td>Shots</td>\n",
       "      <td>Shots</td>\n",
       "      <td>Shots</td>\n",
       "      <td>Shots</td>\n",
       "      <td>Shots</td>\n",
       "      <td>Shots</td>\n",
       "      <td>Shots</td>\n",
       "      <td>Tackles</td>\n",
       "      <td>Tackles</td>\n",
       "      <td>Tackles</td>\n",
       "      <td>Tackles</td>\n",
       "      <td>Tackles</td>\n",
       "      <td>Tackles</td>\n",
       "      <td>Tackles</td>\n",
       "      <td>Touches</td>\n",
       "      <td>Touches</td>\n",
       "      <td>Touches</td>\n",
       "      <td>Touches</td>\n",
       "      <td>Touches</td>\n",
       "      <td>Touches</td>\n",
       "      <td>Touches</td>\n",
       "      <td>Minutes Played</td>\n",
       "      <td>Minutes Played</td>\n",
       "      <td>Minutes Played</td>\n",
       "      <td>Minutes Played</td>\n",
       "      <td>Minutes Played</td>\n",
       "      <td>Minutes Played</td>\n",
       "      <td>Minutes Played</td>\n",
       "    </tr>\n",
       "    <tr>\n",
       "      <th>name</th>\n",
       "      <td>Aaron Ramsey</td>\n",
       "      <td>Granit Xhaka</td>\n",
       "      <td>Henrikh Mkhitaryan</td>\n",
       "      <td>Lucas Torreira</td>\n",
       "      <td>Matteo Guendouzi</td>\n",
       "      <td>Mesut Özil</td>\n",
       "      <td>Nacho Monreal</td>\n",
       "      <td>Aaron Ramsey</td>\n",
       "      <td>Granit Xhaka</td>\n",
       "      <td>Henrikh Mkhitaryan</td>\n",
       "      <td>Lucas Torreira</td>\n",
       "      <td>Matteo Guendouzi</td>\n",
       "      <td>Mesut Özil</td>\n",
       "      <td>Nacho Monreal</td>\n",
       "      <td>Aaron Ramsey</td>\n",
       "      <td>Granit Xhaka</td>\n",
       "      <td>Henrikh Mkhitaryan</td>\n",
       "      <td>Lucas Torreira</td>\n",
       "      <td>Matteo Guendouzi</td>\n",
       "      <td>Mesut Özil</td>\n",
       "      <td>Nacho Monreal</td>\n",
       "      <td>Aaron Ramsey</td>\n",
       "      <td>Granit Xhaka</td>\n",
       "      <td>Henrikh Mkhitaryan</td>\n",
       "      <td>Lucas Torreira</td>\n",
       "      <td>Matteo Guendouzi</td>\n",
       "      <td>Mesut Özil</td>\n",
       "      <td>Nacho Monreal</td>\n",
       "      <td>Aaron Ramsey</td>\n",
       "      <td>Granit Xhaka</td>\n",
       "      <td>Henrikh Mkhitaryan</td>\n",
       "      <td>Lucas Torreira</td>\n",
       "      <td>Matteo Guendouzi</td>\n",
       "      <td>Mesut Özil</td>\n",
       "      <td>Nacho Monreal</td>\n",
       "      <td>Aaron Ramsey</td>\n",
       "      <td>Granit Xhaka</td>\n",
       "      <td>Henrikh Mkhitaryan</td>\n",
       "      <td>Lucas Torreira</td>\n",
       "      <td>Matteo Guendouzi</td>\n",
       "      <td>Mesut Özil</td>\n",
       "      <td>Nacho Monreal</td>\n",
       "      <td>Aaron Ramsey</td>\n",
       "      <td>Granit Xhaka</td>\n",
       "      <td>Henrikh Mkhitaryan</td>\n",
       "      <td>Lucas Torreira</td>\n",
       "      <td>Matteo Guendouzi</td>\n",
       "      <td>Mesut Özil</td>\n",
       "      <td>Nacho Monreal</td>\n",
       "      <td>Aaron Ramsey</td>\n",
       "      <td>Granit Xhaka</td>\n",
       "      <td>Henrikh Mkhitaryan</td>\n",
       "      <td>Lucas Torreira</td>\n",
       "      <td>Matteo Guendouzi</td>\n",
       "      <td>Mesut Özil</td>\n",
       "      <td>Nacho Monreal</td>\n",
       "    </tr>\n",
       "    <tr>\n",
       "      <th>value</th>\n",
       "      <td>1</td>\n",
       "      <td>0.176996</td>\n",
       "      <td>0.538524</td>\n",
       "      <td>0.186073</td>\n",
       "      <td>0</td>\n",
       "      <td>0.25426</td>\n",
       "      <td>0.356797</td>\n",
       "      <td>1</td>\n",
       "      <td>0.334326</td>\n",
       "      <td>0.74795</td>\n",
       "      <td>0.578892</td>\n",
       "      <td>0.71183</td>\n",
       "      <td>0.960538</td>\n",
       "      <td>0.0792883</td>\n",
       "      <td>0.825301</td>\n",
       "      <td>0.438225</td>\n",
       "      <td>1</td>\n",
       "      <td>0.230349</td>\n",
       "      <td>0</td>\n",
       "      <td>0.786904</td>\n",
       "      <td>0.147233</td>\n",
       "      <td>0.648453</td>\n",
       "      <td>1</td>\n",
       "      <td>0.539397</td>\n",
       "      <td>0.744561</td>\n",
       "      <td>0.831103</td>\n",
       "      <td>0.715386</td>\n",
       "      <td>0.699188</td>\n",
       "      <td>0.833723</td>\n",
       "      <td>0.389036</td>\n",
       "      <td>1</td>\n",
       "      <td>0.352575</td>\n",
       "      <td>0.250615</td>\n",
       "      <td>0.211982</td>\n",
       "      <td>0.126199</td>\n",
       "      <td>0.937048</td>\n",
       "      <td>0.760976</td>\n",
       "      <td>0.623358</td>\n",
       "      <td>1</td>\n",
       "      <td>0.751821</td>\n",
       "      <td>0.252269</td>\n",
       "      <td>0.68834</td>\n",
       "      <td>0.696084</td>\n",
       "      <td>1</td>\n",
       "      <td>0.654089</td>\n",
       "      <td>0.776378</td>\n",
       "      <td>0.824114</td>\n",
       "      <td>0.714137</td>\n",
       "      <td>0.762703</td>\n",
       "      <td>0.530988</td>\n",
       "      <td>1</td>\n",
       "      <td>0.657337</td>\n",
       "      <td>0.95122</td>\n",
       "      <td>0.856457</td>\n",
       "      <td>0.696122</td>\n",
       "      <td>0.744102</td>\n",
       "    </tr>\n",
       "    <tr>\n",
       "      <th>denom</th>\n",
       "      <td>0.00451807</td>\n",
       "      <td>0.00451807</td>\n",
       "      <td>0.00451807</td>\n",
       "      <td>0.00451807</td>\n",
       "      <td>0.00451807</td>\n",
       "      <td>0.00451807</td>\n",
       "      <td>0.00451807</td>\n",
       "      <td>0.0203313</td>\n",
       "      <td>0.0203313</td>\n",
       "      <td>0.0203313</td>\n",
       "      <td>0.0203313</td>\n",
       "      <td>0.0203313</td>\n",
       "      <td>0.0203313</td>\n",
       "      <td>0.0203313</td>\n",
       "      <td>0.00364964</td>\n",
       "      <td>0.00364964</td>\n",
       "      <td>0.00364964</td>\n",
       "      <td>0.00364964</td>\n",
       "      <td>0.00364964</td>\n",
       "      <td>0.00364964</td>\n",
       "      <td>0.00364964</td>\n",
       "      <td>0.897641</td>\n",
       "      <td>0.897641</td>\n",
       "      <td>0.897641</td>\n",
       "      <td>0.897641</td>\n",
       "      <td>0.897641</td>\n",
       "      <td>0.897641</td>\n",
       "      <td>0.897641</td>\n",
       "      <td>0.0298054</td>\n",
       "      <td>0.0298054</td>\n",
       "      <td>0.0298054</td>\n",
       "      <td>0.0298054</td>\n",
       "      <td>0.0298054</td>\n",
       "      <td>0.0298054</td>\n",
       "      <td>0.0298054</td>\n",
       "      <td>0.0273224</td>\n",
       "      <td>0.0273224</td>\n",
       "      <td>0.0273224</td>\n",
       "      <td>0.0273224</td>\n",
       "      <td>0.0273224</td>\n",
       "      <td>0.0273224</td>\n",
       "      <td>0.0273224</td>\n",
       "      <td>1.11315</td>\n",
       "      <td>1.11315</td>\n",
       "      <td>1.11315</td>\n",
       "      <td>1.11315</td>\n",
       "      <td>1.11315</td>\n",
       "      <td>1.11315</td>\n",
       "      <td>1.11315</td>\n",
       "      <td>2501</td>\n",
       "      <td>2501</td>\n",
       "      <td>2501</td>\n",
       "      <td>2501</td>\n",
       "      <td>2501</td>\n",
       "      <td>2501</td>\n",
       "      <td>2501</td>\n",
       "    </tr>\n",
       "  </tbody>\n",
       "</table>\n",
       "</div>"
      ],
      "text/plain": [
       "                 0             1                   2               3   \\\n",
       "kpi         Assists       Assists             Assists         Assists   \n",
       "name   Aaron Ramsey  Granit Xhaka  Henrikh Mkhitaryan  Lucas Torreira   \n",
       "value             1      0.176996            0.538524        0.186073   \n",
       "denom    0.00451807    0.00451807          0.00451807      0.00451807   \n",
       "\n",
       "                     4           5              6             7   \\\n",
       "kpi             Assists     Assists        Assists  Dispossessed   \n",
       "name   Matteo Guendouzi  Mesut Özil  Nacho Monreal  Aaron Ramsey   \n",
       "value                 0     0.25426       0.356797             1   \n",
       "denom        0.00451807  0.00451807     0.00451807     0.0203313   \n",
       "\n",
       "                 8                   9               10                11  \\\n",
       "kpi    Dispossessed        Dispossessed    Dispossessed      Dispossessed   \n",
       "name   Granit Xhaka  Henrikh Mkhitaryan  Lucas Torreira  Matteo Guendouzi   \n",
       "value      0.334326             0.74795        0.578892           0.71183   \n",
       "denom     0.0203313           0.0203313       0.0203313         0.0203313   \n",
       "\n",
       "                 12             13            14            15  \\\n",
       "kpi    Dispossessed   Dispossessed         Goals         Goals   \n",
       "name     Mesut Özil  Nacho Monreal  Aaron Ramsey  Granit Xhaka   \n",
       "value      0.960538      0.0792883      0.825301      0.438225   \n",
       "denom     0.0203313      0.0203313    0.00364964    0.00364964   \n",
       "\n",
       "                       16              17                18          19  \\\n",
       "kpi                 Goals           Goals             Goals       Goals   \n",
       "name   Henrikh Mkhitaryan  Lucas Torreira  Matteo Guendouzi  Mesut Özil   \n",
       "value                   1        0.230349                 0    0.786904   \n",
       "denom          0.00364964      0.00364964        0.00364964  0.00364964   \n",
       "\n",
       "                  20            21            22                  23  \\\n",
       "kpi            Goals        Passes        Passes              Passes   \n",
       "name   Nacho Monreal  Aaron Ramsey  Granit Xhaka  Henrikh Mkhitaryan   \n",
       "value       0.147233      0.648453             1            0.539397   \n",
       "denom     0.00364964      0.897641      0.897641            0.897641   \n",
       "\n",
       "                   24                25          26             27  \\\n",
       "kpi            Passes            Passes      Passes         Passes   \n",
       "name   Lucas Torreira  Matteo Guendouzi  Mesut Özil  Nacho Monreal   \n",
       "value        0.744561          0.831103    0.715386       0.699188   \n",
       "denom        0.897641          0.897641    0.897641       0.897641   \n",
       "\n",
       "                 28            29                  30              31  \\\n",
       "kpi           Shots         Shots               Shots           Shots   \n",
       "name   Aaron Ramsey  Granit Xhaka  Henrikh Mkhitaryan  Lucas Torreira   \n",
       "value      0.833723      0.389036                   1        0.352575   \n",
       "denom     0.0298054     0.0298054           0.0298054       0.0298054   \n",
       "\n",
       "                     32          33             34            35  \\\n",
       "kpi               Shots       Shots          Shots       Tackles   \n",
       "name   Matteo Guendouzi  Mesut Özil  Nacho Monreal  Aaron Ramsey   \n",
       "value          0.250615    0.211982       0.126199      0.937048   \n",
       "denom         0.0298054   0.0298054      0.0298054     0.0273224   \n",
       "\n",
       "                 36                  37              38                39  \\\n",
       "kpi         Tackles             Tackles         Tackles           Tackles   \n",
       "name   Granit Xhaka  Henrikh Mkhitaryan  Lucas Torreira  Matteo Guendouzi   \n",
       "value      0.760976            0.623358               1          0.751821   \n",
       "denom     0.0273224           0.0273224       0.0273224         0.0273224   \n",
       "\n",
       "               40             41            42            43  \\\n",
       "kpi       Tackles        Tackles       Touches       Touches   \n",
       "name   Mesut Özil  Nacho Monreal  Aaron Ramsey  Granit Xhaka   \n",
       "value    0.252269        0.68834      0.696084             1   \n",
       "denom   0.0273224      0.0273224       1.11315       1.11315   \n",
       "\n",
       "                       44              45                46          47  \\\n",
       "kpi               Touches         Touches           Touches     Touches   \n",
       "name   Henrikh Mkhitaryan  Lucas Torreira  Matteo Guendouzi  Mesut Özil   \n",
       "value            0.654089        0.776378          0.824114    0.714137   \n",
       "denom             1.11315         1.11315           1.11315     1.11315   \n",
       "\n",
       "                  48              49              50                  51  \\\n",
       "kpi          Touches  Minutes Played  Minutes Played      Minutes Played   \n",
       "name   Nacho Monreal    Aaron Ramsey    Granit Xhaka  Henrikh Mkhitaryan   \n",
       "value       0.762703        0.530988               1            0.657337   \n",
       "denom        1.11315            2501            2501                2501   \n",
       "\n",
       "                   52                53              54              55  \n",
       "kpi    Minutes Played    Minutes Played  Minutes Played  Minutes Played  \n",
       "name   Lucas Torreira  Matteo Guendouzi      Mesut Özil   Nacho Monreal  \n",
       "value         0.95122          0.856457        0.696122        0.744102  \n",
       "denom            2501              2501            2501            2501  "
      ]
     },
     "execution_count": 51,
     "metadata": {},
     "output_type": "execute_result"
    }
   ],
   "source": [
    "mf = training.query(\"position == 'MF' and Appearances > 20\")[\n",
    "    ['assists_per_min_played', 'dispossessed_per_min_played'\n",
    "    ,'goals_per_min_played','passes_per_min_played','shots_per_min_played', 'tackles_per_min_played'\n",
    "    ,'touches_per_min_played', 'Minutes Played']\n",
    "].rename(columns={'assists_per_min_played':'Assists', 'dispossessed_per_min_played':'Dispossessed'\n",
    "    ,'goals_per_min_played':'Goals','passes_per_min_played':'Passes','shots_per_min_played':'Shots'\n",
    "    , 'tackles_per_min_played':'Tackles','touches_per_min_played':'Touches'})\n",
    "\n",
    "max_map = mf.max().to_dict()\n",
    "\n",
    "mf = pandas.DataFrame(mf.unstack()).reset_index()\n",
    "\n",
    "mf.columns = ['kpi', 'name', 'value']\n",
    "\n",
    "mf['denom'] = mf.kpi.map(max_map)\n",
    "\n",
    "mf['value'] = mf.value / mf.denom\n",
    "mf.T"
   ]
  },
  {
   "cell_type": "code",
   "execution_count": 52,
   "metadata": {},
   "outputs": [
    {
     "data": {
      "application/vnd.plotly.v1+json": {
       "config": {
        "plotlyServerURL": "https://plot.ly"
       },
       "data": [
        {
         "hoverlabel": {
          "namelength": 0
         },
         "hovertemplate": "name=Aaron Ramsey<br>value=%{r}<br>kpi=%{theta}",
         "legendgroup": "name=Aaron Ramsey",
         "line": {
          "color": "#636efa",
          "dash": "solid",
          "width": 5
         },
         "mode": "lines",
         "name": "name=Aaron Ramsey",
         "r": [
          1,
          1,
          0.8253012048192772,
          0.6484533903990125,
          0.8337226456847799,
          0.9370481927710843,
          0.6960841750623181,
          0.5309876049580168,
          1
         ],
         "showlegend": true,
         "subplot": "polar",
         "theta": [
          "Assists",
          "Dispossessed",
          "Goals",
          "Passes",
          "Shots",
          "Tackles",
          "Touches",
          "Minutes Played",
          "Assists"
         ],
         "type": "scatterpolar"
        },
        {
         "hoverlabel": {
          "namelength": 0
         },
         "hovertemplate": "name=Granit Xhaka<br>value=%{r}<br>kpi=%{theta}",
         "legendgroup": "name=Granit Xhaka",
         "line": {
          "color": "#EF553B",
          "dash": "dot",
          "width": 5
         },
         "mode": "lines",
         "name": "name=Granit Xhaka",
         "r": [
          0.17699586831933894,
          0.33432552904764024,
          0.43822471011595365,
          1,
          0.3890362222457956,
          0.7609756097560976,
          1,
          1,
          0.17699586831933894
         ],
         "showlegend": true,
         "subplot": "polar",
         "theta": [
          "Assists",
          "Dispossessed",
          "Goals",
          "Passes",
          "Shots",
          "Tackles",
          "Touches",
          "Minutes Played",
          "Assists"
         ],
         "type": "scatterpolar"
        },
        {
         "hoverlabel": {
          "namelength": 0
         },
         "hovertemplate": "name=Henrikh Mkhitaryan<br>value=%{r}<br>kpi=%{theta}",
         "legendgroup": "name=Henrikh Mkhitaryan",
         "line": {
          "color": "#00cc96",
          "dash": "dash",
          "width": 5
         },
         "mode": "lines",
         "name": "name=Henrikh Mkhitaryan",
         "r": [
          0.5385239253852393,
          0.7479498963683879,
          1,
          0.53939709221357,
          1,
          0.6233576642335766,
          0.6540889283916436,
          0.6573370651739304,
          0.5385239253852393
         ],
         "showlegend": true,
         "subplot": "polar",
         "theta": [
          "Assists",
          "Dispossessed",
          "Goals",
          "Passes",
          "Shots",
          "Tackles",
          "Touches",
          "Minutes Played",
          "Assists"
         ],
         "type": "scatterpolar"
        },
        {
         "hoverlabel": {
          "namelength": 0
         },
         "hovertemplate": "name=Lucas Torreira<br>value=%{r}<br>kpi=%{theta}",
         "legendgroup": "name=Lucas Torreira",
         "line": {
          "color": "#ab63fa",
          "dash": "longdash",
          "width": 5
         },
         "mode": "lines",
         "name": "name=Lucas Torreira",
         "r": [
          0.18607257951520248,
          0.5788924696028521,
          0.23034888608659101,
          0.7445605619324995,
          0.3525748256427414,
          1,
          0.7763778367226642,
          0.9512195121951219,
          0.18607257951520248
         ],
         "showlegend": true,
         "subplot": "polar",
         "theta": [
          "Assists",
          "Dispossessed",
          "Goals",
          "Passes",
          "Shots",
          "Tackles",
          "Touches",
          "Minutes Played",
          "Assists"
         ],
         "type": "scatterpolar"
        },
        {
         "hoverlabel": {
          "namelength": 0
         },
         "hovertemplate": "name=Matteo Guendouzi<br>value=%{r}<br>kpi=%{theta}",
         "legendgroup": "name=Matteo Guendouzi",
         "line": {
          "color": "#FFA15A",
          "dash": "dashdot",
          "width": 5
         },
         "mode": "lines",
         "name": "name=Matteo Guendouzi",
         "r": [
          0,
          0.7118304111768164,
          0,
          0.8311026266482837,
          0.2506145315268965,
          0.7518207282913165,
          0.8241144877491225,
          0.8564574170331867,
          0
         ],
         "showlegend": true,
         "subplot": "polar",
         "theta": [
          "Assists",
          "Dispossessed",
          "Goals",
          "Passes",
          "Shots",
          "Tackles",
          "Touches",
          "Minutes Played",
          "Assists"
         ],
         "type": "scatterpolar"
        },
        {
         "hoverlabel": {
          "namelength": 0
         },
         "hovertemplate": "name=Mesut Özil<br>value=%{r}<br>kpi=%{theta}",
         "legendgroup": "name=Mesut Özil",
         "line": {
          "color": "#19d3f3",
          "dash": "longdashdot",
          "width": 5
         },
         "mode": "lines",
         "name": "name=Mesut Özil",
         "r": [
          0.25426000382921693,
          0.9605377922437084,
          0.7869040781160254,
          0.7153859044734038,
          0.21198232308431703,
          0.25226881102814475,
          0.714137402866631,
          0.6961215513794482,
          0.25426000382921693
         ],
         "showlegend": true,
         "subplot": "polar",
         "theta": [
          "Assists",
          "Dispossessed",
          "Goals",
          "Passes",
          "Shots",
          "Tackles",
          "Touches",
          "Minutes Played",
          "Assists"
         ],
         "type": "scatterpolar"
        },
        {
         "hoverlabel": {
          "namelength": 0
         },
         "hovertemplate": "name=Nacho Monreal<br>value=%{r}<br>kpi=%{theta}",
         "legendgroup": "name=Nacho Monreal",
         "line": {
          "color": "#FF6692",
          "dash": "solid",
          "width": 5
         },
         "mode": "lines",
         "name": "name=Nacho Monreal",
         "r": [
          0.3567974207415368,
          0.07928831572034152,
          0.14723267060720044,
          0.699187758575089,
          0.12619943194902894,
          0.6883396023643202,
          0.7627025082300333,
          0.7441023590563774,
          0.3567974207415368
         ],
         "showlegend": true,
         "subplot": "polar",
         "theta": [
          "Assists",
          "Dispossessed",
          "Goals",
          "Passes",
          "Shots",
          "Tackles",
          "Touches",
          "Minutes Played",
          "Assists"
         ],
         "type": "scatterpolar"
        }
       ],
       "layout": {
        "height": 600,
        "legend": {
         "tracegroupgap": 0,
         "x": 1,
         "y": 1.1
        },
        "margin": {
         "t": 60
        },
        "polar": {
         "angularaxis": {
          "direction": "clockwise",
          "rotation": 90
         },
         "domain": {
          "x": [
           0,
           0.98
          ],
          "y": [
           0,
           1
          ]
         }
        },
        "template": {
         "data": {
          "bar": [
           {
            "error_x": {
             "color": "#2a3f5f"
            },
            "error_y": {
             "color": "#2a3f5f"
            },
            "marker": {
             "line": {
              "color": "white",
              "width": 0.5
             }
            },
            "type": "bar"
           }
          ],
          "barpolar": [
           {
            "marker": {
             "line": {
              "color": "white",
              "width": 0.5
             }
            },
            "type": "barpolar"
           }
          ],
          "carpet": [
           {
            "aaxis": {
             "endlinecolor": "#2a3f5f",
             "gridcolor": "#C8D4E3",
             "linecolor": "#C8D4E3",
             "minorgridcolor": "#C8D4E3",
             "startlinecolor": "#2a3f5f"
            },
            "baxis": {
             "endlinecolor": "#2a3f5f",
             "gridcolor": "#C8D4E3",
             "linecolor": "#C8D4E3",
             "minorgridcolor": "#C8D4E3",
             "startlinecolor": "#2a3f5f"
            },
            "type": "carpet"
           }
          ],
          "choropleth": [
           {
            "colorbar": {
             "outlinewidth": 0,
             "ticks": ""
            },
            "type": "choropleth"
           }
          ],
          "contour": [
           {
            "colorbar": {
             "outlinewidth": 0,
             "ticks": ""
            },
            "colorscale": [
             [
              0,
              "#0d0887"
             ],
             [
              0.1111111111111111,
              "#46039f"
             ],
             [
              0.2222222222222222,
              "#7201a8"
             ],
             [
              0.3333333333333333,
              "#9c179e"
             ],
             [
              0.4444444444444444,
              "#bd3786"
             ],
             [
              0.5555555555555556,
              "#d8576b"
             ],
             [
              0.6666666666666666,
              "#ed7953"
             ],
             [
              0.7777777777777778,
              "#fb9f3a"
             ],
             [
              0.8888888888888888,
              "#fdca26"
             ],
             [
              1,
              "#f0f921"
             ]
            ],
            "type": "contour"
           }
          ],
          "contourcarpet": [
           {
            "colorbar": {
             "outlinewidth": 0,
             "ticks": ""
            },
            "type": "contourcarpet"
           }
          ],
          "heatmap": [
           {
            "colorbar": {
             "outlinewidth": 0,
             "ticks": ""
            },
            "colorscale": [
             [
              0,
              "#0d0887"
             ],
             [
              0.1111111111111111,
              "#46039f"
             ],
             [
              0.2222222222222222,
              "#7201a8"
             ],
             [
              0.3333333333333333,
              "#9c179e"
             ],
             [
              0.4444444444444444,
              "#bd3786"
             ],
             [
              0.5555555555555556,
              "#d8576b"
             ],
             [
              0.6666666666666666,
              "#ed7953"
             ],
             [
              0.7777777777777778,
              "#fb9f3a"
             ],
             [
              0.8888888888888888,
              "#fdca26"
             ],
             [
              1,
              "#f0f921"
             ]
            ],
            "type": "heatmap"
           }
          ],
          "heatmapgl": [
           {
            "colorbar": {
             "outlinewidth": 0,
             "ticks": ""
            },
            "colorscale": [
             [
              0,
              "#0d0887"
             ],
             [
              0.1111111111111111,
              "#46039f"
             ],
             [
              0.2222222222222222,
              "#7201a8"
             ],
             [
              0.3333333333333333,
              "#9c179e"
             ],
             [
              0.4444444444444444,
              "#bd3786"
             ],
             [
              0.5555555555555556,
              "#d8576b"
             ],
             [
              0.6666666666666666,
              "#ed7953"
             ],
             [
              0.7777777777777778,
              "#fb9f3a"
             ],
             [
              0.8888888888888888,
              "#fdca26"
             ],
             [
              1,
              "#f0f921"
             ]
            ],
            "type": "heatmapgl"
           }
          ],
          "histogram": [
           {
            "marker": {
             "colorbar": {
              "outlinewidth": 0,
              "ticks": ""
             }
            },
            "type": "histogram"
           }
          ],
          "histogram2d": [
           {
            "colorbar": {
             "outlinewidth": 0,
             "ticks": ""
            },
            "colorscale": [
             [
              0,
              "#0d0887"
             ],
             [
              0.1111111111111111,
              "#46039f"
             ],
             [
              0.2222222222222222,
              "#7201a8"
             ],
             [
              0.3333333333333333,
              "#9c179e"
             ],
             [
              0.4444444444444444,
              "#bd3786"
             ],
             [
              0.5555555555555556,
              "#d8576b"
             ],
             [
              0.6666666666666666,
              "#ed7953"
             ],
             [
              0.7777777777777778,
              "#fb9f3a"
             ],
             [
              0.8888888888888888,
              "#fdca26"
             ],
             [
              1,
              "#f0f921"
             ]
            ],
            "type": "histogram2d"
           }
          ],
          "histogram2dcontour": [
           {
            "colorbar": {
             "outlinewidth": 0,
             "ticks": ""
            },
            "colorscale": [
             [
              0,
              "#0d0887"
             ],
             [
              0.1111111111111111,
              "#46039f"
             ],
             [
              0.2222222222222222,
              "#7201a8"
             ],
             [
              0.3333333333333333,
              "#9c179e"
             ],
             [
              0.4444444444444444,
              "#bd3786"
             ],
             [
              0.5555555555555556,
              "#d8576b"
             ],
             [
              0.6666666666666666,
              "#ed7953"
             ],
             [
              0.7777777777777778,
              "#fb9f3a"
             ],
             [
              0.8888888888888888,
              "#fdca26"
             ],
             [
              1,
              "#f0f921"
             ]
            ],
            "type": "histogram2dcontour"
           }
          ],
          "mesh3d": [
           {
            "colorbar": {
             "outlinewidth": 0,
             "ticks": ""
            },
            "type": "mesh3d"
           }
          ],
          "parcoords": [
           {
            "line": {
             "colorbar": {
              "outlinewidth": 0,
              "ticks": ""
             }
            },
            "type": "parcoords"
           }
          ],
          "scatter": [
           {
            "marker": {
             "colorbar": {
              "outlinewidth": 0,
              "ticks": ""
             }
            },
            "type": "scatter"
           }
          ],
          "scatter3d": [
           {
            "line": {
             "colorbar": {
              "outlinewidth": 0,
              "ticks": ""
             }
            },
            "marker": {
             "colorbar": {
              "outlinewidth": 0,
              "ticks": ""
             }
            },
            "type": "scatter3d"
           }
          ],
          "scattercarpet": [
           {
            "marker": {
             "colorbar": {
              "outlinewidth": 0,
              "ticks": ""
             }
            },
            "type": "scattercarpet"
           }
          ],
          "scattergeo": [
           {
            "marker": {
             "colorbar": {
              "outlinewidth": 0,
              "ticks": ""
             }
            },
            "type": "scattergeo"
           }
          ],
          "scattergl": [
           {
            "marker": {
             "colorbar": {
              "outlinewidth": 0,
              "ticks": ""
             }
            },
            "type": "scattergl"
           }
          ],
          "scattermapbox": [
           {
            "marker": {
             "colorbar": {
              "outlinewidth": 0,
              "ticks": ""
             }
            },
            "type": "scattermapbox"
           }
          ],
          "scatterpolar": [
           {
            "marker": {
             "colorbar": {
              "outlinewidth": 0,
              "ticks": ""
             }
            },
            "type": "scatterpolar"
           }
          ],
          "scatterpolargl": [
           {
            "marker": {
             "colorbar": {
              "outlinewidth": 0,
              "ticks": ""
             }
            },
            "type": "scatterpolargl"
           }
          ],
          "scatterternary": [
           {
            "marker": {
             "colorbar": {
              "outlinewidth": 0,
              "ticks": ""
             }
            },
            "type": "scatterternary"
           }
          ],
          "surface": [
           {
            "colorbar": {
             "outlinewidth": 0,
             "ticks": ""
            },
            "colorscale": [
             [
              0,
              "#0d0887"
             ],
             [
              0.1111111111111111,
              "#46039f"
             ],
             [
              0.2222222222222222,
              "#7201a8"
             ],
             [
              0.3333333333333333,
              "#9c179e"
             ],
             [
              0.4444444444444444,
              "#bd3786"
             ],
             [
              0.5555555555555556,
              "#d8576b"
             ],
             [
              0.6666666666666666,
              "#ed7953"
             ],
             [
              0.7777777777777778,
              "#fb9f3a"
             ],
             [
              0.8888888888888888,
              "#fdca26"
             ],
             [
              1,
              "#f0f921"
             ]
            ],
            "type": "surface"
           }
          ],
          "table": [
           {
            "cells": {
             "fill": {
              "color": "#EBF0F8"
             },
             "line": {
              "color": "white"
             }
            },
            "header": {
             "fill": {
              "color": "#C8D4E3"
             },
             "line": {
              "color": "white"
             }
            },
            "type": "table"
           }
          ]
         },
         "layout": {
          "annotationdefaults": {
           "arrowcolor": "#2a3f5f",
           "arrowhead": 0,
           "arrowwidth": 1
          },
          "colorscale": {
           "diverging": [
            [
             0,
             "#8e0152"
            ],
            [
             0.1,
             "#c51b7d"
            ],
            [
             0.2,
             "#de77ae"
            ],
            [
             0.3,
             "#f1b6da"
            ],
            [
             0.4,
             "#fde0ef"
            ],
            [
             0.5,
             "#f7f7f7"
            ],
            [
             0.6,
             "#e6f5d0"
            ],
            [
             0.7,
             "#b8e186"
            ],
            [
             0.8,
             "#7fbc41"
            ],
            [
             0.9,
             "#4d9221"
            ],
            [
             1,
             "#276419"
            ]
           ],
           "sequential": [
            [
             0,
             "#0d0887"
            ],
            [
             0.1111111111111111,
             "#46039f"
            ],
            [
             0.2222222222222222,
             "#7201a8"
            ],
            [
             0.3333333333333333,
             "#9c179e"
            ],
            [
             0.4444444444444444,
             "#bd3786"
            ],
            [
             0.5555555555555556,
             "#d8576b"
            ],
            [
             0.6666666666666666,
             "#ed7953"
            ],
            [
             0.7777777777777778,
             "#fb9f3a"
            ],
            [
             0.8888888888888888,
             "#fdca26"
            ],
            [
             1,
             "#f0f921"
            ]
           ],
           "sequentialminus": [
            [
             0,
             "#0d0887"
            ],
            [
             0.1111111111111111,
             "#46039f"
            ],
            [
             0.2222222222222222,
             "#7201a8"
            ],
            [
             0.3333333333333333,
             "#9c179e"
            ],
            [
             0.4444444444444444,
             "#bd3786"
            ],
            [
             0.5555555555555556,
             "#d8576b"
            ],
            [
             0.6666666666666666,
             "#ed7953"
            ],
            [
             0.7777777777777778,
             "#fb9f3a"
            ],
            [
             0.8888888888888888,
             "#fdca26"
            ],
            [
             1,
             "#f0f921"
            ]
           ]
          },
          "colorway": [
           "#636efa",
           "#EF553B",
           "#00cc96",
           "#ab63fa",
           "#FFA15A",
           "#19d3f3",
           "#FF6692",
           "#B6E880",
           "#FF97FF",
           "#FECB52"
          ],
          "font": {
           "color": "#2a3f5f"
          },
          "geo": {
           "bgcolor": "white",
           "lakecolor": "white",
           "landcolor": "white",
           "showlakes": true,
           "showland": true,
           "subunitcolor": "#C8D4E3"
          },
          "hoverlabel": {
           "align": "left"
          },
          "hovermode": "closest",
          "mapbox": {
           "style": "light"
          },
          "paper_bgcolor": "white",
          "plot_bgcolor": "white",
          "polar": {
           "angularaxis": {
            "gridcolor": "#EBF0F8",
            "linecolor": "#EBF0F8",
            "ticks": ""
           },
           "bgcolor": "white",
           "radialaxis": {
            "gridcolor": "#EBF0F8",
            "linecolor": "#EBF0F8",
            "ticks": ""
           }
          },
          "scene": {
           "xaxis": {
            "backgroundcolor": "white",
            "gridcolor": "#DFE8F3",
            "gridwidth": 2,
            "linecolor": "#EBF0F8",
            "showbackground": true,
            "ticks": "",
            "zerolinecolor": "#EBF0F8"
           },
           "yaxis": {
            "backgroundcolor": "white",
            "gridcolor": "#DFE8F3",
            "gridwidth": 2,
            "linecolor": "#EBF0F8",
            "showbackground": true,
            "ticks": "",
            "zerolinecolor": "#EBF0F8"
           },
           "zaxis": {
            "backgroundcolor": "white",
            "gridcolor": "#DFE8F3",
            "gridwidth": 2,
            "linecolor": "#EBF0F8",
            "showbackground": true,
            "ticks": "",
            "zerolinecolor": "#EBF0F8"
           }
          },
          "shapedefaults": {
           "line": {
            "color": "#2a3f5f"
           }
          },
          "ternary": {
           "aaxis": {
            "gridcolor": "#DFE8F3",
            "linecolor": "#A2B1C6",
            "ticks": ""
           },
           "baxis": {
            "gridcolor": "#DFE8F3",
            "linecolor": "#A2B1C6",
            "ticks": ""
           },
           "bgcolor": "white",
           "caxis": {
            "gridcolor": "#DFE8F3",
            "linecolor": "#A2B1C6",
            "ticks": ""
           }
          },
          "title": {
           "x": 0.05
          },
          "xaxis": {
           "automargin": true,
           "gridcolor": "#EBF0F8",
           "linecolor": "#EBF0F8",
           "ticks": "",
           "zerolinecolor": "#EBF0F8",
           "zerolinewidth": 2
          },
          "yaxis": {
           "automargin": true,
           "gridcolor": "#EBF0F8",
           "linecolor": "#EBF0F8",
           "ticks": "",
           "zerolinecolor": "#EBF0F8",
           "zerolinewidth": 2
          }
         }
        },
        "width": 800
       }
      },
      "text/html": [
       "<div>\n",
       "        \n",
       "        \n",
       "            <div id=\"91242b2a-e5af-465c-976a-3f7d27c1c012\" class=\"plotly-graph-div\" style=\"height:600px; width:800px;\"></div>\n",
       "            <script type=\"text/javascript\">\n",
       "                require([\"plotly\"], function(Plotly) {\n",
       "                    window.PLOTLYENV=window.PLOTLYENV || {};\n",
       "                    \n",
       "                if (document.getElementById(\"91242b2a-e5af-465c-976a-3f7d27c1c012\")) {\n",
       "                    Plotly.newPlot(\n",
       "                        '91242b2a-e5af-465c-976a-3f7d27c1c012',\n",
       "                        [{\"hoverlabel\": {\"namelength\": 0}, \"hovertemplate\": \"name=Aaron Ramsey<br>value=%{r}<br>kpi=%{theta}\", \"legendgroup\": \"name=Aaron Ramsey\", \"line\": {\"color\": \"#636efa\", \"dash\": \"solid\", \"width\": 5}, \"mode\": \"lines\", \"name\": \"name=Aaron Ramsey\", \"r\": [1.0, 1.0, 0.8253012048192772, 0.6484533903990125, 0.8337226456847799, 0.9370481927710843, 0.6960841750623181, 0.5309876049580168, 1.0], \"showlegend\": true, \"subplot\": \"polar\", \"theta\": [\"Assists\", \"Dispossessed\", \"Goals\", \"Passes\", \"Shots\", \"Tackles\", \"Touches\", \"Minutes Played\", \"Assists\"], \"type\": \"scatterpolar\"}, {\"hoverlabel\": {\"namelength\": 0}, \"hovertemplate\": \"name=Granit Xhaka<br>value=%{r}<br>kpi=%{theta}\", \"legendgroup\": \"name=Granit Xhaka\", \"line\": {\"color\": \"#EF553B\", \"dash\": \"dot\", \"width\": 5}, \"mode\": \"lines\", \"name\": \"name=Granit Xhaka\", \"r\": [0.17699586831933894, 0.33432552904764024, 0.43822471011595365, 1.0, 0.3890362222457956, 0.7609756097560976, 1.0, 1.0, 0.17699586831933894], \"showlegend\": true, \"subplot\": \"polar\", \"theta\": [\"Assists\", \"Dispossessed\", \"Goals\", \"Passes\", \"Shots\", \"Tackles\", \"Touches\", \"Minutes Played\", \"Assists\"], \"type\": \"scatterpolar\"}, {\"hoverlabel\": {\"namelength\": 0}, \"hovertemplate\": \"name=Henrikh Mkhitaryan<br>value=%{r}<br>kpi=%{theta}\", \"legendgroup\": \"name=Henrikh Mkhitaryan\", \"line\": {\"color\": \"#00cc96\", \"dash\": \"dash\", \"width\": 5}, \"mode\": \"lines\", \"name\": \"name=Henrikh Mkhitaryan\", \"r\": [0.5385239253852393, 0.7479498963683879, 1.0, 0.53939709221357, 1.0, 0.6233576642335766, 0.6540889283916436, 0.6573370651739304, 0.5385239253852393], \"showlegend\": true, \"subplot\": \"polar\", \"theta\": [\"Assists\", \"Dispossessed\", \"Goals\", \"Passes\", \"Shots\", \"Tackles\", \"Touches\", \"Minutes Played\", \"Assists\"], \"type\": \"scatterpolar\"}, {\"hoverlabel\": {\"namelength\": 0}, \"hovertemplate\": \"name=Lucas Torreira<br>value=%{r}<br>kpi=%{theta}\", \"legendgroup\": \"name=Lucas Torreira\", \"line\": {\"color\": \"#ab63fa\", \"dash\": \"longdash\", \"width\": 5}, \"mode\": \"lines\", \"name\": \"name=Lucas Torreira\", \"r\": [0.18607257951520248, 0.5788924696028521, 0.23034888608659101, 0.7445605619324995, 0.3525748256427414, 1.0, 0.7763778367226642, 0.9512195121951219, 0.18607257951520248], \"showlegend\": true, \"subplot\": \"polar\", \"theta\": [\"Assists\", \"Dispossessed\", \"Goals\", \"Passes\", \"Shots\", \"Tackles\", \"Touches\", \"Minutes Played\", \"Assists\"], \"type\": \"scatterpolar\"}, {\"hoverlabel\": {\"namelength\": 0}, \"hovertemplate\": \"name=Matteo Guendouzi<br>value=%{r}<br>kpi=%{theta}\", \"legendgroup\": \"name=Matteo Guendouzi\", \"line\": {\"color\": \"#FFA15A\", \"dash\": \"dashdot\", \"width\": 5}, \"mode\": \"lines\", \"name\": \"name=Matteo Guendouzi\", \"r\": [0.0, 0.7118304111768164, 0.0, 0.8311026266482837, 0.2506145315268965, 0.7518207282913165, 0.8241144877491225, 0.8564574170331867, 0.0], \"showlegend\": true, \"subplot\": \"polar\", \"theta\": [\"Assists\", \"Dispossessed\", \"Goals\", \"Passes\", \"Shots\", \"Tackles\", \"Touches\", \"Minutes Played\", \"Assists\"], \"type\": \"scatterpolar\"}, {\"hoverlabel\": {\"namelength\": 0}, \"hovertemplate\": \"name=Mesut \\u00d6zil<br>value=%{r}<br>kpi=%{theta}\", \"legendgroup\": \"name=Mesut \\u00d6zil\", \"line\": {\"color\": \"#19d3f3\", \"dash\": \"longdashdot\", \"width\": 5}, \"mode\": \"lines\", \"name\": \"name=Mesut \\u00d6zil\", \"r\": [0.25426000382921693, 0.9605377922437084, 0.7869040781160254, 0.7153859044734038, 0.21198232308431703, 0.25226881102814475, 0.714137402866631, 0.6961215513794482, 0.25426000382921693], \"showlegend\": true, \"subplot\": \"polar\", \"theta\": [\"Assists\", \"Dispossessed\", \"Goals\", \"Passes\", \"Shots\", \"Tackles\", \"Touches\", \"Minutes Played\", \"Assists\"], \"type\": \"scatterpolar\"}, {\"hoverlabel\": {\"namelength\": 0}, \"hovertemplate\": \"name=Nacho Monreal<br>value=%{r}<br>kpi=%{theta}\", \"legendgroup\": \"name=Nacho Monreal\", \"line\": {\"color\": \"#FF6692\", \"dash\": \"solid\", \"width\": 5}, \"mode\": \"lines\", \"name\": \"name=Nacho Monreal\", \"r\": [0.3567974207415368, 0.07928831572034152, 0.14723267060720044, 0.699187758575089, 0.12619943194902894, 0.6883396023643202, 0.7627025082300333, 0.7441023590563774, 0.3567974207415368], \"showlegend\": true, \"subplot\": \"polar\", \"theta\": [\"Assists\", \"Dispossessed\", \"Goals\", \"Passes\", \"Shots\", \"Tackles\", \"Touches\", \"Minutes Played\", \"Assists\"], \"type\": \"scatterpolar\"}],\n",
       "                        {\"height\": 600, \"legend\": {\"tracegroupgap\": 0, \"x\": 1, \"y\": 1.1}, \"margin\": {\"t\": 60}, \"polar\": {\"angularaxis\": {\"direction\": \"clockwise\", \"rotation\": 90}, \"domain\": {\"x\": [0.0, 0.98], \"y\": [0.0, 1.0]}}, \"template\": {\"data\": {\"bar\": [{\"error_x\": {\"color\": \"#2a3f5f\"}, \"error_y\": {\"color\": \"#2a3f5f\"}, \"marker\": {\"line\": {\"color\": \"white\", \"width\": 0.5}}, \"type\": \"bar\"}], \"barpolar\": [{\"marker\": {\"line\": {\"color\": \"white\", \"width\": 0.5}}, \"type\": \"barpolar\"}], \"carpet\": [{\"aaxis\": {\"endlinecolor\": \"#2a3f5f\", \"gridcolor\": \"#C8D4E3\", \"linecolor\": \"#C8D4E3\", \"minorgridcolor\": \"#C8D4E3\", \"startlinecolor\": \"#2a3f5f\"}, \"baxis\": {\"endlinecolor\": \"#2a3f5f\", \"gridcolor\": \"#C8D4E3\", \"linecolor\": \"#C8D4E3\", \"minorgridcolor\": \"#C8D4E3\", \"startlinecolor\": \"#2a3f5f\"}, \"type\": \"carpet\"}], \"choropleth\": [{\"colorbar\": {\"outlinewidth\": 0, \"ticks\": \"\"}, \"type\": \"choropleth\"}], \"contour\": [{\"colorbar\": {\"outlinewidth\": 0, \"ticks\": \"\"}, \"colorscale\": [[0.0, \"#0d0887\"], [0.1111111111111111, \"#46039f\"], [0.2222222222222222, \"#7201a8\"], [0.3333333333333333, \"#9c179e\"], [0.4444444444444444, \"#bd3786\"], [0.5555555555555556, \"#d8576b\"], [0.6666666666666666, \"#ed7953\"], [0.7777777777777778, \"#fb9f3a\"], [0.8888888888888888, \"#fdca26\"], [1.0, \"#f0f921\"]], \"type\": \"contour\"}], \"contourcarpet\": [{\"colorbar\": {\"outlinewidth\": 0, \"ticks\": \"\"}, \"type\": \"contourcarpet\"}], \"heatmap\": [{\"colorbar\": {\"outlinewidth\": 0, \"ticks\": \"\"}, \"colorscale\": [[0.0, \"#0d0887\"], [0.1111111111111111, \"#46039f\"], [0.2222222222222222, \"#7201a8\"], [0.3333333333333333, \"#9c179e\"], [0.4444444444444444, \"#bd3786\"], [0.5555555555555556, \"#d8576b\"], [0.6666666666666666, \"#ed7953\"], [0.7777777777777778, \"#fb9f3a\"], [0.8888888888888888, \"#fdca26\"], [1.0, \"#f0f921\"]], \"type\": \"heatmap\"}], \"heatmapgl\": [{\"colorbar\": {\"outlinewidth\": 0, \"ticks\": \"\"}, \"colorscale\": [[0.0, \"#0d0887\"], [0.1111111111111111, \"#46039f\"], [0.2222222222222222, \"#7201a8\"], [0.3333333333333333, \"#9c179e\"], [0.4444444444444444, \"#bd3786\"], [0.5555555555555556, \"#d8576b\"], [0.6666666666666666, \"#ed7953\"], [0.7777777777777778, \"#fb9f3a\"], [0.8888888888888888, \"#fdca26\"], [1.0, \"#f0f921\"]], \"type\": \"heatmapgl\"}], \"histogram\": [{\"marker\": {\"colorbar\": {\"outlinewidth\": 0, \"ticks\": \"\"}}, \"type\": \"histogram\"}], \"histogram2d\": [{\"colorbar\": {\"outlinewidth\": 0, \"ticks\": \"\"}, \"colorscale\": [[0.0, \"#0d0887\"], [0.1111111111111111, \"#46039f\"], [0.2222222222222222, \"#7201a8\"], [0.3333333333333333, \"#9c179e\"], [0.4444444444444444, \"#bd3786\"], [0.5555555555555556, \"#d8576b\"], [0.6666666666666666, \"#ed7953\"], [0.7777777777777778, \"#fb9f3a\"], [0.8888888888888888, \"#fdca26\"], [1.0, \"#f0f921\"]], \"type\": \"histogram2d\"}], \"histogram2dcontour\": [{\"colorbar\": {\"outlinewidth\": 0, \"ticks\": \"\"}, \"colorscale\": [[0.0, \"#0d0887\"], [0.1111111111111111, \"#46039f\"], [0.2222222222222222, \"#7201a8\"], [0.3333333333333333, \"#9c179e\"], [0.4444444444444444, \"#bd3786\"], [0.5555555555555556, \"#d8576b\"], [0.6666666666666666, \"#ed7953\"], [0.7777777777777778, \"#fb9f3a\"], [0.8888888888888888, \"#fdca26\"], [1.0, \"#f0f921\"]], \"type\": \"histogram2dcontour\"}], \"mesh3d\": [{\"colorbar\": {\"outlinewidth\": 0, \"ticks\": \"\"}, \"type\": \"mesh3d\"}], \"parcoords\": [{\"line\": {\"colorbar\": {\"outlinewidth\": 0, \"ticks\": \"\"}}, \"type\": \"parcoords\"}], \"scatter\": [{\"marker\": {\"colorbar\": {\"outlinewidth\": 0, \"ticks\": \"\"}}, \"type\": \"scatter\"}], \"scatter3d\": [{\"line\": {\"colorbar\": {\"outlinewidth\": 0, \"ticks\": \"\"}}, \"marker\": {\"colorbar\": {\"outlinewidth\": 0, \"ticks\": \"\"}}, \"type\": \"scatter3d\"}], \"scattercarpet\": [{\"marker\": {\"colorbar\": {\"outlinewidth\": 0, \"ticks\": \"\"}}, \"type\": \"scattercarpet\"}], \"scattergeo\": [{\"marker\": {\"colorbar\": {\"outlinewidth\": 0, \"ticks\": \"\"}}, \"type\": \"scattergeo\"}], \"scattergl\": [{\"marker\": {\"colorbar\": {\"outlinewidth\": 0, \"ticks\": \"\"}}, \"type\": \"scattergl\"}], \"scattermapbox\": [{\"marker\": {\"colorbar\": {\"outlinewidth\": 0, \"ticks\": \"\"}}, \"type\": \"scattermapbox\"}], \"scatterpolar\": [{\"marker\": {\"colorbar\": {\"outlinewidth\": 0, \"ticks\": \"\"}}, \"type\": \"scatterpolar\"}], \"scatterpolargl\": [{\"marker\": {\"colorbar\": {\"outlinewidth\": 0, \"ticks\": \"\"}}, \"type\": \"scatterpolargl\"}], \"scatterternary\": [{\"marker\": {\"colorbar\": {\"outlinewidth\": 0, \"ticks\": \"\"}}, \"type\": \"scatterternary\"}], \"surface\": [{\"colorbar\": {\"outlinewidth\": 0, \"ticks\": \"\"}, \"colorscale\": [[0.0, \"#0d0887\"], [0.1111111111111111, \"#46039f\"], [0.2222222222222222, \"#7201a8\"], [0.3333333333333333, \"#9c179e\"], [0.4444444444444444, \"#bd3786\"], [0.5555555555555556, \"#d8576b\"], [0.6666666666666666, \"#ed7953\"], [0.7777777777777778, \"#fb9f3a\"], [0.8888888888888888, \"#fdca26\"], [1.0, \"#f0f921\"]], \"type\": \"surface\"}], \"table\": [{\"cells\": {\"fill\": {\"color\": \"#EBF0F8\"}, \"line\": {\"color\": \"white\"}}, \"header\": {\"fill\": {\"color\": \"#C8D4E3\"}, \"line\": {\"color\": \"white\"}}, \"type\": \"table\"}]}, \"layout\": {\"annotationdefaults\": {\"arrowcolor\": \"#2a3f5f\", \"arrowhead\": 0, \"arrowwidth\": 1}, \"colorscale\": {\"diverging\": [[0, \"#8e0152\"], [0.1, \"#c51b7d\"], [0.2, \"#de77ae\"], [0.3, \"#f1b6da\"], [0.4, \"#fde0ef\"], [0.5, \"#f7f7f7\"], [0.6, \"#e6f5d0\"], [0.7, \"#b8e186\"], [0.8, \"#7fbc41\"], [0.9, \"#4d9221\"], [1, \"#276419\"]], \"sequential\": [[0.0, \"#0d0887\"], [0.1111111111111111, \"#46039f\"], [0.2222222222222222, \"#7201a8\"], [0.3333333333333333, \"#9c179e\"], [0.4444444444444444, \"#bd3786\"], [0.5555555555555556, \"#d8576b\"], [0.6666666666666666, \"#ed7953\"], [0.7777777777777778, \"#fb9f3a\"], [0.8888888888888888, \"#fdca26\"], [1.0, \"#f0f921\"]], \"sequentialminus\": [[0.0, \"#0d0887\"], [0.1111111111111111, \"#46039f\"], [0.2222222222222222, \"#7201a8\"], [0.3333333333333333, \"#9c179e\"], [0.4444444444444444, \"#bd3786\"], [0.5555555555555556, \"#d8576b\"], [0.6666666666666666, \"#ed7953\"], [0.7777777777777778, \"#fb9f3a\"], [0.8888888888888888, \"#fdca26\"], [1.0, \"#f0f921\"]]}, \"colorway\": [\"#636efa\", \"#EF553B\", \"#00cc96\", \"#ab63fa\", \"#FFA15A\", \"#19d3f3\", \"#FF6692\", \"#B6E880\", \"#FF97FF\", \"#FECB52\"], \"font\": {\"color\": \"#2a3f5f\"}, \"geo\": {\"bgcolor\": \"white\", \"lakecolor\": \"white\", \"landcolor\": \"white\", \"showlakes\": true, \"showland\": true, \"subunitcolor\": \"#C8D4E3\"}, \"hoverlabel\": {\"align\": \"left\"}, \"hovermode\": \"closest\", \"mapbox\": {\"style\": \"light\"}, \"paper_bgcolor\": \"white\", \"plot_bgcolor\": \"white\", \"polar\": {\"angularaxis\": {\"gridcolor\": \"#EBF0F8\", \"linecolor\": \"#EBF0F8\", \"ticks\": \"\"}, \"bgcolor\": \"white\", \"radialaxis\": {\"gridcolor\": \"#EBF0F8\", \"linecolor\": \"#EBF0F8\", \"ticks\": \"\"}}, \"scene\": {\"xaxis\": {\"backgroundcolor\": \"white\", \"gridcolor\": \"#DFE8F3\", \"gridwidth\": 2, \"linecolor\": \"#EBF0F8\", \"showbackground\": true, \"ticks\": \"\", \"zerolinecolor\": \"#EBF0F8\"}, \"yaxis\": {\"backgroundcolor\": \"white\", \"gridcolor\": \"#DFE8F3\", \"gridwidth\": 2, \"linecolor\": \"#EBF0F8\", \"showbackground\": true, \"ticks\": \"\", \"zerolinecolor\": \"#EBF0F8\"}, \"zaxis\": {\"backgroundcolor\": \"white\", \"gridcolor\": \"#DFE8F3\", \"gridwidth\": 2, \"linecolor\": \"#EBF0F8\", \"showbackground\": true, \"ticks\": \"\", \"zerolinecolor\": \"#EBF0F8\"}}, \"shapedefaults\": {\"line\": {\"color\": \"#2a3f5f\"}}, \"ternary\": {\"aaxis\": {\"gridcolor\": \"#DFE8F3\", \"linecolor\": \"#A2B1C6\", \"ticks\": \"\"}, \"baxis\": {\"gridcolor\": \"#DFE8F3\", \"linecolor\": \"#A2B1C6\", \"ticks\": \"\"}, \"bgcolor\": \"white\", \"caxis\": {\"gridcolor\": \"#DFE8F3\", \"linecolor\": \"#A2B1C6\", \"ticks\": \"\"}}, \"title\": {\"x\": 0.05}, \"xaxis\": {\"automargin\": true, \"gridcolor\": \"#EBF0F8\", \"linecolor\": \"#EBF0F8\", \"ticks\": \"\", \"zerolinecolor\": \"#EBF0F8\", \"zerolinewidth\": 2}, \"yaxis\": {\"automargin\": true, \"gridcolor\": \"#EBF0F8\", \"linecolor\": \"#EBF0F8\", \"ticks\": \"\", \"zerolinecolor\": \"#EBF0F8\", \"zerolinewidth\": 2}}}, \"width\": 800},\n",
       "                        {\"responsive\": true}\n",
       "                    ).then(function(){\n",
       "                            \n",
       "var gd = document.getElementById('91242b2a-e5af-465c-976a-3f7d27c1c012');\n",
       "var x = new MutationObserver(function (mutations, observer) {{\n",
       "        var display = window.getComputedStyle(gd).display;\n",
       "        if (!display || display === 'none') {{\n",
       "            console.log([gd, 'removed!']);\n",
       "            Plotly.purge(gd);\n",
       "            observer.disconnect();\n",
       "        }}\n",
       "}});\n",
       "\n",
       "// Listen for the removal of the full notebook cells\n",
       "var notebookContainer = gd.closest('#notebook-container');\n",
       "if (notebookContainer) {{\n",
       "    x.observe(notebookContainer, {childList: true});\n",
       "}}\n",
       "\n",
       "// Listen for the clearing of the current output cell\n",
       "var outputEl = gd.closest('.output');\n",
       "if (outputEl) {{\n",
       "    x.observe(outputEl, {childList: true});\n",
       "}}\n",
       "\n",
       "                        })\n",
       "                };\n",
       "                });\n",
       "            </script>\n",
       "        </div>"
      ]
     },
     "metadata": {},
     "output_type": "display_data"
    }
   ],
   "source": [
    "fig = px.line_polar(mf, r='value', theta='kpi', color='name', line_dash='name',\n",
    "                    line_close=True, template=\"plotly_white\",\n",
    "                    width=800) # , color_discrete_sequence= px.colors.sequential.Plasma[-3::-1])\n",
    "\n",
    "fig.update_traces(mode='lines', line_width=5)\n",
    "fig.update_layout(legend=dict(x=1, y=1.1))\n",
    "fig.show()"
   ]
  },
  {
   "cell_type": "code",
   "execution_count": 53,
   "metadata": {},
   "outputs": [
    {
     "data": {
      "application/vnd.plotly.v1+json": {
       "config": {
        "plotlyServerURL": "https://plot.ly"
       },
       "data": [
        {
         "hoverlabel": {
          "namelength": 0
         },
         "hovertemplate": "name=Aaron Ramsey<br>value=%{r}<br>kpi=%{theta}",
         "legendgroup": "name=Aaron Ramsey",
         "line": {
          "color": "#636efa",
          "dash": "solid",
          "width": 5
         },
         "mode": "lines",
         "name": "name=Aaron Ramsey",
         "r": [
          1,
          1,
          0.8253012048192772,
          0.6484533903990125,
          0.8337226456847799,
          0.9370481927710843,
          0.6960841750623181,
          0.5309876049580168,
          1
         ],
         "showlegend": true,
         "subplot": "polar",
         "theta": [
          "Assists",
          "Dispossessed",
          "Goals",
          "Passes",
          "Shots",
          "Tackles",
          "Touches",
          "Minutes Played",
          "Assists"
         ],
         "type": "scatterpolar"
        },
        {
         "hoverlabel": {
          "namelength": 0
         },
         "hovertemplate": "name=Granit Xhaka<br>value=%{r}<br>kpi=%{theta}",
         "legendgroup": "name=Granit Xhaka",
         "line": {
          "color": "#EF553B",
          "dash": "dot",
          "width": 5
         },
         "mode": "lines",
         "name": "name=Granit Xhaka",
         "r": [
          0.17699586831933894,
          0.33432552904764024,
          0.43822471011595365,
          1,
          0.3890362222457956,
          0.7609756097560976,
          1,
          1,
          0.17699586831933894
         ],
         "showlegend": true,
         "subplot": "polar",
         "theta": [
          "Assists",
          "Dispossessed",
          "Goals",
          "Passes",
          "Shots",
          "Tackles",
          "Touches",
          "Minutes Played",
          "Assists"
         ],
         "type": "scatterpolar"
        },
        {
         "hoverlabel": {
          "namelength": 0
         },
         "hovertemplate": "name=Henrikh Mkhitaryan<br>value=%{r}<br>kpi=%{theta}",
         "legendgroup": "name=Henrikh Mkhitaryan",
         "line": {
          "color": "#00cc96",
          "dash": "dash",
          "width": 5
         },
         "mode": "lines",
         "name": "name=Henrikh Mkhitaryan",
         "r": [
          0.5385239253852393,
          0.7479498963683879,
          1,
          0.53939709221357,
          1,
          0.6233576642335766,
          0.6540889283916436,
          0.6573370651739304,
          0.5385239253852393
         ],
         "showlegend": true,
         "subplot": "polar",
         "theta": [
          "Assists",
          "Dispossessed",
          "Goals",
          "Passes",
          "Shots",
          "Tackles",
          "Touches",
          "Minutes Played",
          "Assists"
         ],
         "type": "scatterpolar"
        },
        {
         "hoverlabel": {
          "namelength": 0
         },
         "hovertemplate": "name=Lucas Torreira<br>value=%{r}<br>kpi=%{theta}",
         "legendgroup": "name=Lucas Torreira",
         "line": {
          "color": "#ab63fa",
          "dash": "longdash",
          "width": 5
         },
         "mode": "lines",
         "name": "name=Lucas Torreira",
         "r": [
          0.18607257951520248,
          0.5788924696028521,
          0.23034888608659101,
          0.7445605619324995,
          0.3525748256427414,
          1,
          0.7763778367226642,
          0.9512195121951219,
          0.18607257951520248
         ],
         "showlegend": true,
         "subplot": "polar",
         "theta": [
          "Assists",
          "Dispossessed",
          "Goals",
          "Passes",
          "Shots",
          "Tackles",
          "Touches",
          "Minutes Played",
          "Assists"
         ],
         "type": "scatterpolar"
        },
        {
         "hoverlabel": {
          "namelength": 0
         },
         "hovertemplate": "name=Matteo Guendouzi<br>value=%{r}<br>kpi=%{theta}",
         "legendgroup": "name=Matteo Guendouzi",
         "line": {
          "color": "#FFA15A",
          "dash": "dashdot",
          "width": 5
         },
         "mode": "lines",
         "name": "name=Matteo Guendouzi",
         "r": [
          0,
          0.7118304111768164,
          0,
          0.8311026266482837,
          0.2506145315268965,
          0.7518207282913165,
          0.8241144877491225,
          0.8564574170331867,
          0
         ],
         "showlegend": true,
         "subplot": "polar",
         "theta": [
          "Assists",
          "Dispossessed",
          "Goals",
          "Passes",
          "Shots",
          "Tackles",
          "Touches",
          "Minutes Played",
          "Assists"
         ],
         "type": "scatterpolar"
        },
        {
         "hoverlabel": {
          "namelength": 0
         },
         "hovertemplate": "name=Mesut Özil<br>value=%{r}<br>kpi=%{theta}",
         "legendgroup": "name=Mesut Özil",
         "line": {
          "color": "#19d3f3",
          "dash": "longdashdot",
          "width": 5
         },
         "mode": "lines",
         "name": "name=Mesut Özil",
         "r": [
          0.25426000382921693,
          0.9605377922437084,
          0.7869040781160254,
          0.7153859044734038,
          0.21198232308431703,
          0.25226881102814475,
          0.714137402866631,
          0.6961215513794482,
          0.25426000382921693
         ],
         "showlegend": true,
         "subplot": "polar",
         "theta": [
          "Assists",
          "Dispossessed",
          "Goals",
          "Passes",
          "Shots",
          "Tackles",
          "Touches",
          "Minutes Played",
          "Assists"
         ],
         "type": "scatterpolar"
        },
        {
         "hoverlabel": {
          "namelength": 0
         },
         "hovertemplate": "name=Nacho Monreal<br>value=%{r}<br>kpi=%{theta}",
         "legendgroup": "name=Nacho Monreal",
         "line": {
          "color": "#FF6692",
          "dash": "solid",
          "width": 5
         },
         "mode": "lines",
         "name": "name=Nacho Monreal",
         "r": [
          0.3567974207415368,
          0.07928831572034152,
          0.14723267060720044,
          0.699187758575089,
          0.12619943194902894,
          0.6883396023643202,
          0.7627025082300333,
          0.7441023590563774,
          0.3567974207415368
         ],
         "showlegend": true,
         "subplot": "polar",
         "theta": [
          "Assists",
          "Dispossessed",
          "Goals",
          "Passes",
          "Shots",
          "Tackles",
          "Touches",
          "Minutes Played",
          "Assists"
         ],
         "type": "scatterpolar"
        }
       ],
       "layout": {
        "height": 600,
        "legend": {
         "tracegroupgap": 0,
         "x": -0.4,
         "y": 0.1
        },
        "margin": {
         "t": 60
        },
        "polar": {
         "angularaxis": {
          "direction": "clockwise",
          "rotation": 90
         },
         "domain": {
          "x": [
           0,
           0.98
          ],
          "y": [
           0,
           1
          ]
         }
        },
        "template": {
         "data": {
          "bar": [
           {
            "error_x": {
             "color": "#2a3f5f"
            },
            "error_y": {
             "color": "#2a3f5f"
            },
            "marker": {
             "line": {
              "color": "white",
              "width": 0.5
             }
            },
            "type": "bar"
           }
          ],
          "barpolar": [
           {
            "marker": {
             "line": {
              "color": "white",
              "width": 0.5
             }
            },
            "type": "barpolar"
           }
          ],
          "carpet": [
           {
            "aaxis": {
             "endlinecolor": "#2a3f5f",
             "gridcolor": "#C8D4E3",
             "linecolor": "#C8D4E3",
             "minorgridcolor": "#C8D4E3",
             "startlinecolor": "#2a3f5f"
            },
            "baxis": {
             "endlinecolor": "#2a3f5f",
             "gridcolor": "#C8D4E3",
             "linecolor": "#C8D4E3",
             "minorgridcolor": "#C8D4E3",
             "startlinecolor": "#2a3f5f"
            },
            "type": "carpet"
           }
          ],
          "choropleth": [
           {
            "colorbar": {
             "outlinewidth": 0,
             "ticks": ""
            },
            "type": "choropleth"
           }
          ],
          "contour": [
           {
            "colorbar": {
             "outlinewidth": 0,
             "ticks": ""
            },
            "colorscale": [
             [
              0,
              "#0d0887"
             ],
             [
              0.1111111111111111,
              "#46039f"
             ],
             [
              0.2222222222222222,
              "#7201a8"
             ],
             [
              0.3333333333333333,
              "#9c179e"
             ],
             [
              0.4444444444444444,
              "#bd3786"
             ],
             [
              0.5555555555555556,
              "#d8576b"
             ],
             [
              0.6666666666666666,
              "#ed7953"
             ],
             [
              0.7777777777777778,
              "#fb9f3a"
             ],
             [
              0.8888888888888888,
              "#fdca26"
             ],
             [
              1,
              "#f0f921"
             ]
            ],
            "type": "contour"
           }
          ],
          "contourcarpet": [
           {
            "colorbar": {
             "outlinewidth": 0,
             "ticks": ""
            },
            "type": "contourcarpet"
           }
          ],
          "heatmap": [
           {
            "colorbar": {
             "outlinewidth": 0,
             "ticks": ""
            },
            "colorscale": [
             [
              0,
              "#0d0887"
             ],
             [
              0.1111111111111111,
              "#46039f"
             ],
             [
              0.2222222222222222,
              "#7201a8"
             ],
             [
              0.3333333333333333,
              "#9c179e"
             ],
             [
              0.4444444444444444,
              "#bd3786"
             ],
             [
              0.5555555555555556,
              "#d8576b"
             ],
             [
              0.6666666666666666,
              "#ed7953"
             ],
             [
              0.7777777777777778,
              "#fb9f3a"
             ],
             [
              0.8888888888888888,
              "#fdca26"
             ],
             [
              1,
              "#f0f921"
             ]
            ],
            "type": "heatmap"
           }
          ],
          "heatmapgl": [
           {
            "colorbar": {
             "outlinewidth": 0,
             "ticks": ""
            },
            "colorscale": [
             [
              0,
              "#0d0887"
             ],
             [
              0.1111111111111111,
              "#46039f"
             ],
             [
              0.2222222222222222,
              "#7201a8"
             ],
             [
              0.3333333333333333,
              "#9c179e"
             ],
             [
              0.4444444444444444,
              "#bd3786"
             ],
             [
              0.5555555555555556,
              "#d8576b"
             ],
             [
              0.6666666666666666,
              "#ed7953"
             ],
             [
              0.7777777777777778,
              "#fb9f3a"
             ],
             [
              0.8888888888888888,
              "#fdca26"
             ],
             [
              1,
              "#f0f921"
             ]
            ],
            "type": "heatmapgl"
           }
          ],
          "histogram": [
           {
            "marker": {
             "colorbar": {
              "outlinewidth": 0,
              "ticks": ""
             }
            },
            "type": "histogram"
           }
          ],
          "histogram2d": [
           {
            "colorbar": {
             "outlinewidth": 0,
             "ticks": ""
            },
            "colorscale": [
             [
              0,
              "#0d0887"
             ],
             [
              0.1111111111111111,
              "#46039f"
             ],
             [
              0.2222222222222222,
              "#7201a8"
             ],
             [
              0.3333333333333333,
              "#9c179e"
             ],
             [
              0.4444444444444444,
              "#bd3786"
             ],
             [
              0.5555555555555556,
              "#d8576b"
             ],
             [
              0.6666666666666666,
              "#ed7953"
             ],
             [
              0.7777777777777778,
              "#fb9f3a"
             ],
             [
              0.8888888888888888,
              "#fdca26"
             ],
             [
              1,
              "#f0f921"
             ]
            ],
            "type": "histogram2d"
           }
          ],
          "histogram2dcontour": [
           {
            "colorbar": {
             "outlinewidth": 0,
             "ticks": ""
            },
            "colorscale": [
             [
              0,
              "#0d0887"
             ],
             [
              0.1111111111111111,
              "#46039f"
             ],
             [
              0.2222222222222222,
              "#7201a8"
             ],
             [
              0.3333333333333333,
              "#9c179e"
             ],
             [
              0.4444444444444444,
              "#bd3786"
             ],
             [
              0.5555555555555556,
              "#d8576b"
             ],
             [
              0.6666666666666666,
              "#ed7953"
             ],
             [
              0.7777777777777778,
              "#fb9f3a"
             ],
             [
              0.8888888888888888,
              "#fdca26"
             ],
             [
              1,
              "#f0f921"
             ]
            ],
            "type": "histogram2dcontour"
           }
          ],
          "mesh3d": [
           {
            "colorbar": {
             "outlinewidth": 0,
             "ticks": ""
            },
            "type": "mesh3d"
           }
          ],
          "parcoords": [
           {
            "line": {
             "colorbar": {
              "outlinewidth": 0,
              "ticks": ""
             }
            },
            "type": "parcoords"
           }
          ],
          "scatter": [
           {
            "marker": {
             "colorbar": {
              "outlinewidth": 0,
              "ticks": ""
             }
            },
            "type": "scatter"
           }
          ],
          "scatter3d": [
           {
            "line": {
             "colorbar": {
              "outlinewidth": 0,
              "ticks": ""
             }
            },
            "marker": {
             "colorbar": {
              "outlinewidth": 0,
              "ticks": ""
             }
            },
            "type": "scatter3d"
           }
          ],
          "scattercarpet": [
           {
            "marker": {
             "colorbar": {
              "outlinewidth": 0,
              "ticks": ""
             }
            },
            "type": "scattercarpet"
           }
          ],
          "scattergeo": [
           {
            "marker": {
             "colorbar": {
              "outlinewidth": 0,
              "ticks": ""
             }
            },
            "type": "scattergeo"
           }
          ],
          "scattergl": [
           {
            "marker": {
             "colorbar": {
              "outlinewidth": 0,
              "ticks": ""
             }
            },
            "type": "scattergl"
           }
          ],
          "scattermapbox": [
           {
            "marker": {
             "colorbar": {
              "outlinewidth": 0,
              "ticks": ""
             }
            },
            "type": "scattermapbox"
           }
          ],
          "scatterpolar": [
           {
            "marker": {
             "colorbar": {
              "outlinewidth": 0,
              "ticks": ""
             }
            },
            "type": "scatterpolar"
           }
          ],
          "scatterpolargl": [
           {
            "marker": {
             "colorbar": {
              "outlinewidth": 0,
              "ticks": ""
             }
            },
            "type": "scatterpolargl"
           }
          ],
          "scatterternary": [
           {
            "marker": {
             "colorbar": {
              "outlinewidth": 0,
              "ticks": ""
             }
            },
            "type": "scatterternary"
           }
          ],
          "surface": [
           {
            "colorbar": {
             "outlinewidth": 0,
             "ticks": ""
            },
            "colorscale": [
             [
              0,
              "#0d0887"
             ],
             [
              0.1111111111111111,
              "#46039f"
             ],
             [
              0.2222222222222222,
              "#7201a8"
             ],
             [
              0.3333333333333333,
              "#9c179e"
             ],
             [
              0.4444444444444444,
              "#bd3786"
             ],
             [
              0.5555555555555556,
              "#d8576b"
             ],
             [
              0.6666666666666666,
              "#ed7953"
             ],
             [
              0.7777777777777778,
              "#fb9f3a"
             ],
             [
              0.8888888888888888,
              "#fdca26"
             ],
             [
              1,
              "#f0f921"
             ]
            ],
            "type": "surface"
           }
          ],
          "table": [
           {
            "cells": {
             "fill": {
              "color": "#EBF0F8"
             },
             "line": {
              "color": "white"
             }
            },
            "header": {
             "fill": {
              "color": "#C8D4E3"
             },
             "line": {
              "color": "white"
             }
            },
            "type": "table"
           }
          ]
         },
         "layout": {
          "annotationdefaults": {
           "arrowcolor": "#2a3f5f",
           "arrowhead": 0,
           "arrowwidth": 1
          },
          "colorscale": {
           "diverging": [
            [
             0,
             "#8e0152"
            ],
            [
             0.1,
             "#c51b7d"
            ],
            [
             0.2,
             "#de77ae"
            ],
            [
             0.3,
             "#f1b6da"
            ],
            [
             0.4,
             "#fde0ef"
            ],
            [
             0.5,
             "#f7f7f7"
            ],
            [
             0.6,
             "#e6f5d0"
            ],
            [
             0.7,
             "#b8e186"
            ],
            [
             0.8,
             "#7fbc41"
            ],
            [
             0.9,
             "#4d9221"
            ],
            [
             1,
             "#276419"
            ]
           ],
           "sequential": [
            [
             0,
             "#0d0887"
            ],
            [
             0.1111111111111111,
             "#46039f"
            ],
            [
             0.2222222222222222,
             "#7201a8"
            ],
            [
             0.3333333333333333,
             "#9c179e"
            ],
            [
             0.4444444444444444,
             "#bd3786"
            ],
            [
             0.5555555555555556,
             "#d8576b"
            ],
            [
             0.6666666666666666,
             "#ed7953"
            ],
            [
             0.7777777777777778,
             "#fb9f3a"
            ],
            [
             0.8888888888888888,
             "#fdca26"
            ],
            [
             1,
             "#f0f921"
            ]
           ],
           "sequentialminus": [
            [
             0,
             "#0d0887"
            ],
            [
             0.1111111111111111,
             "#46039f"
            ],
            [
             0.2222222222222222,
             "#7201a8"
            ],
            [
             0.3333333333333333,
             "#9c179e"
            ],
            [
             0.4444444444444444,
             "#bd3786"
            ],
            [
             0.5555555555555556,
             "#d8576b"
            ],
            [
             0.6666666666666666,
             "#ed7953"
            ],
            [
             0.7777777777777778,
             "#fb9f3a"
            ],
            [
             0.8888888888888888,
             "#fdca26"
            ],
            [
             1,
             "#f0f921"
            ]
           ]
          },
          "colorway": [
           "#636efa",
           "#EF553B",
           "#00cc96",
           "#ab63fa",
           "#FFA15A",
           "#19d3f3",
           "#FF6692",
           "#B6E880",
           "#FF97FF",
           "#FECB52"
          ],
          "font": {
           "color": "#2a3f5f"
          },
          "geo": {
           "bgcolor": "white",
           "lakecolor": "white",
           "landcolor": "white",
           "showlakes": true,
           "showland": true,
           "subunitcolor": "#C8D4E3"
          },
          "hoverlabel": {
           "align": "left"
          },
          "hovermode": "closest",
          "mapbox": {
           "style": "light"
          },
          "paper_bgcolor": "white",
          "plot_bgcolor": "white",
          "polar": {
           "angularaxis": {
            "gridcolor": "#EBF0F8",
            "linecolor": "#EBF0F8",
            "ticks": ""
           },
           "bgcolor": "white",
           "radialaxis": {
            "gridcolor": "#EBF0F8",
            "linecolor": "#EBF0F8",
            "ticks": ""
           }
          },
          "scene": {
           "xaxis": {
            "backgroundcolor": "white",
            "gridcolor": "#DFE8F3",
            "gridwidth": 2,
            "linecolor": "#EBF0F8",
            "showbackground": true,
            "ticks": "",
            "zerolinecolor": "#EBF0F8"
           },
           "yaxis": {
            "backgroundcolor": "white",
            "gridcolor": "#DFE8F3",
            "gridwidth": 2,
            "linecolor": "#EBF0F8",
            "showbackground": true,
            "ticks": "",
            "zerolinecolor": "#EBF0F8"
           },
           "zaxis": {
            "backgroundcolor": "white",
            "gridcolor": "#DFE8F3",
            "gridwidth": 2,
            "linecolor": "#EBF0F8",
            "showbackground": true,
            "ticks": "",
            "zerolinecolor": "#EBF0F8"
           }
          },
          "shapedefaults": {
           "line": {
            "color": "#2a3f5f"
           }
          },
          "ternary": {
           "aaxis": {
            "gridcolor": "#DFE8F3",
            "linecolor": "#A2B1C6",
            "ticks": ""
           },
           "baxis": {
            "gridcolor": "#DFE8F3",
            "linecolor": "#A2B1C6",
            "ticks": ""
           },
           "bgcolor": "white",
           "caxis": {
            "gridcolor": "#DFE8F3",
            "linecolor": "#A2B1C6",
            "ticks": ""
           }
          },
          "title": {
           "x": 0.05
          },
          "xaxis": {
           "automargin": true,
           "gridcolor": "#EBF0F8",
           "linecolor": "#EBF0F8",
           "ticks": "",
           "zerolinecolor": "#EBF0F8",
           "zerolinewidth": 2
          },
          "yaxis": {
           "automargin": true,
           "gridcolor": "#EBF0F8",
           "linecolor": "#EBF0F8",
           "ticks": "",
           "zerolinecolor": "#EBF0F8",
           "zerolinewidth": 2
          }
         }
        },
        "width": 800
       }
      },
      "text/html": [
       "<div>\n",
       "        \n",
       "        \n",
       "            <div id=\"571b7dfa-7353-4495-9eaa-4aa9edf72042\" class=\"plotly-graph-div\" style=\"height:600px; width:800px;\"></div>\n",
       "            <script type=\"text/javascript\">\n",
       "                require([\"plotly\"], function(Plotly) {\n",
       "                    window.PLOTLYENV=window.PLOTLYENV || {};\n",
       "                    \n",
       "                if (document.getElementById(\"571b7dfa-7353-4495-9eaa-4aa9edf72042\")) {\n",
       "                    Plotly.newPlot(\n",
       "                        '571b7dfa-7353-4495-9eaa-4aa9edf72042',\n",
       "                        [{\"hoverlabel\": {\"namelength\": 0}, \"hovertemplate\": \"name=Aaron Ramsey<br>value=%{r}<br>kpi=%{theta}\", \"legendgroup\": \"name=Aaron Ramsey\", \"line\": {\"color\": \"#636efa\", \"dash\": \"solid\", \"width\": 5}, \"mode\": \"lines\", \"name\": \"name=Aaron Ramsey\", \"r\": [1.0, 1.0, 0.8253012048192772, 0.6484533903990125, 0.8337226456847799, 0.9370481927710843, 0.6960841750623181, 0.5309876049580168, 1.0], \"showlegend\": true, \"subplot\": \"polar\", \"theta\": [\"Assists\", \"Dispossessed\", \"Goals\", \"Passes\", \"Shots\", \"Tackles\", \"Touches\", \"Minutes Played\", \"Assists\"], \"type\": \"scatterpolar\"}, {\"hoverlabel\": {\"namelength\": 0}, \"hovertemplate\": \"name=Granit Xhaka<br>value=%{r}<br>kpi=%{theta}\", \"legendgroup\": \"name=Granit Xhaka\", \"line\": {\"color\": \"#EF553B\", \"dash\": \"dot\", \"width\": 5}, \"mode\": \"lines\", \"name\": \"name=Granit Xhaka\", \"r\": [0.17699586831933894, 0.33432552904764024, 0.43822471011595365, 1.0, 0.3890362222457956, 0.7609756097560976, 1.0, 1.0, 0.17699586831933894], \"showlegend\": true, \"subplot\": \"polar\", \"theta\": [\"Assists\", \"Dispossessed\", \"Goals\", \"Passes\", \"Shots\", \"Tackles\", \"Touches\", \"Minutes Played\", \"Assists\"], \"type\": \"scatterpolar\"}, {\"hoverlabel\": {\"namelength\": 0}, \"hovertemplate\": \"name=Henrikh Mkhitaryan<br>value=%{r}<br>kpi=%{theta}\", \"legendgroup\": \"name=Henrikh Mkhitaryan\", \"line\": {\"color\": \"#00cc96\", \"dash\": \"dash\", \"width\": 5}, \"mode\": \"lines\", \"name\": \"name=Henrikh Mkhitaryan\", \"r\": [0.5385239253852393, 0.7479498963683879, 1.0, 0.53939709221357, 1.0, 0.6233576642335766, 0.6540889283916436, 0.6573370651739304, 0.5385239253852393], \"showlegend\": true, \"subplot\": \"polar\", \"theta\": [\"Assists\", \"Dispossessed\", \"Goals\", \"Passes\", \"Shots\", \"Tackles\", \"Touches\", \"Minutes Played\", \"Assists\"], \"type\": \"scatterpolar\"}, {\"hoverlabel\": {\"namelength\": 0}, \"hovertemplate\": \"name=Lucas Torreira<br>value=%{r}<br>kpi=%{theta}\", \"legendgroup\": \"name=Lucas Torreira\", \"line\": {\"color\": \"#ab63fa\", \"dash\": \"longdash\", \"width\": 5}, \"mode\": \"lines\", \"name\": \"name=Lucas Torreira\", \"r\": [0.18607257951520248, 0.5788924696028521, 0.23034888608659101, 0.7445605619324995, 0.3525748256427414, 1.0, 0.7763778367226642, 0.9512195121951219, 0.18607257951520248], \"showlegend\": true, \"subplot\": \"polar\", \"theta\": [\"Assists\", \"Dispossessed\", \"Goals\", \"Passes\", \"Shots\", \"Tackles\", \"Touches\", \"Minutes Played\", \"Assists\"], \"type\": \"scatterpolar\"}, {\"hoverlabel\": {\"namelength\": 0}, \"hovertemplate\": \"name=Matteo Guendouzi<br>value=%{r}<br>kpi=%{theta}\", \"legendgroup\": \"name=Matteo Guendouzi\", \"line\": {\"color\": \"#FFA15A\", \"dash\": \"dashdot\", \"width\": 5}, \"mode\": \"lines\", \"name\": \"name=Matteo Guendouzi\", \"r\": [0.0, 0.7118304111768164, 0.0, 0.8311026266482837, 0.2506145315268965, 0.7518207282913165, 0.8241144877491225, 0.8564574170331867, 0.0], \"showlegend\": true, \"subplot\": \"polar\", \"theta\": [\"Assists\", \"Dispossessed\", \"Goals\", \"Passes\", \"Shots\", \"Tackles\", \"Touches\", \"Minutes Played\", \"Assists\"], \"type\": \"scatterpolar\"}, {\"hoverlabel\": {\"namelength\": 0}, \"hovertemplate\": \"name=Mesut \\u00d6zil<br>value=%{r}<br>kpi=%{theta}\", \"legendgroup\": \"name=Mesut \\u00d6zil\", \"line\": {\"color\": \"#19d3f3\", \"dash\": \"longdashdot\", \"width\": 5}, \"mode\": \"lines\", \"name\": \"name=Mesut \\u00d6zil\", \"r\": [0.25426000382921693, 0.9605377922437084, 0.7869040781160254, 0.7153859044734038, 0.21198232308431703, 0.25226881102814475, 0.714137402866631, 0.6961215513794482, 0.25426000382921693], \"showlegend\": true, \"subplot\": \"polar\", \"theta\": [\"Assists\", \"Dispossessed\", \"Goals\", \"Passes\", \"Shots\", \"Tackles\", \"Touches\", \"Minutes Played\", \"Assists\"], \"type\": \"scatterpolar\"}, {\"hoverlabel\": {\"namelength\": 0}, \"hovertemplate\": \"name=Nacho Monreal<br>value=%{r}<br>kpi=%{theta}\", \"legendgroup\": \"name=Nacho Monreal\", \"line\": {\"color\": \"#FF6692\", \"dash\": \"solid\", \"width\": 5}, \"mode\": \"lines\", \"name\": \"name=Nacho Monreal\", \"r\": [0.3567974207415368, 0.07928831572034152, 0.14723267060720044, 0.699187758575089, 0.12619943194902894, 0.6883396023643202, 0.7627025082300333, 0.7441023590563774, 0.3567974207415368], \"showlegend\": true, \"subplot\": \"polar\", \"theta\": [\"Assists\", \"Dispossessed\", \"Goals\", \"Passes\", \"Shots\", \"Tackles\", \"Touches\", \"Minutes Played\", \"Assists\"], \"type\": \"scatterpolar\"}],\n",
       "                        {\"height\": 600, \"legend\": {\"tracegroupgap\": 0, \"x\": -0.4, \"y\": 0.1}, \"margin\": {\"t\": 60}, \"polar\": {\"angularaxis\": {\"direction\": \"clockwise\", \"rotation\": 90}, \"domain\": {\"x\": [0.0, 0.98], \"y\": [0.0, 1.0]}}, \"template\": {\"data\": {\"bar\": [{\"error_x\": {\"color\": \"#2a3f5f\"}, \"error_y\": {\"color\": \"#2a3f5f\"}, \"marker\": {\"line\": {\"color\": \"white\", \"width\": 0.5}}, \"type\": \"bar\"}], \"barpolar\": [{\"marker\": {\"line\": {\"color\": \"white\", \"width\": 0.5}}, \"type\": \"barpolar\"}], \"carpet\": [{\"aaxis\": {\"endlinecolor\": \"#2a3f5f\", \"gridcolor\": \"#C8D4E3\", \"linecolor\": \"#C8D4E3\", \"minorgridcolor\": \"#C8D4E3\", \"startlinecolor\": \"#2a3f5f\"}, \"baxis\": {\"endlinecolor\": \"#2a3f5f\", \"gridcolor\": \"#C8D4E3\", \"linecolor\": \"#C8D4E3\", \"minorgridcolor\": \"#C8D4E3\", \"startlinecolor\": \"#2a3f5f\"}, \"type\": \"carpet\"}], \"choropleth\": [{\"colorbar\": {\"outlinewidth\": 0, \"ticks\": \"\"}, \"type\": \"choropleth\"}], \"contour\": [{\"colorbar\": {\"outlinewidth\": 0, \"ticks\": \"\"}, \"colorscale\": [[0.0, \"#0d0887\"], [0.1111111111111111, \"#46039f\"], [0.2222222222222222, \"#7201a8\"], [0.3333333333333333, \"#9c179e\"], [0.4444444444444444, \"#bd3786\"], [0.5555555555555556, \"#d8576b\"], [0.6666666666666666, \"#ed7953\"], [0.7777777777777778, \"#fb9f3a\"], [0.8888888888888888, \"#fdca26\"], [1.0, \"#f0f921\"]], \"type\": \"contour\"}], \"contourcarpet\": [{\"colorbar\": {\"outlinewidth\": 0, \"ticks\": \"\"}, \"type\": \"contourcarpet\"}], \"heatmap\": [{\"colorbar\": {\"outlinewidth\": 0, \"ticks\": \"\"}, \"colorscale\": [[0.0, \"#0d0887\"], [0.1111111111111111, \"#46039f\"], [0.2222222222222222, \"#7201a8\"], [0.3333333333333333, \"#9c179e\"], [0.4444444444444444, \"#bd3786\"], [0.5555555555555556, \"#d8576b\"], [0.6666666666666666, \"#ed7953\"], [0.7777777777777778, \"#fb9f3a\"], [0.8888888888888888, \"#fdca26\"], [1.0, \"#f0f921\"]], \"type\": \"heatmap\"}], \"heatmapgl\": [{\"colorbar\": {\"outlinewidth\": 0, \"ticks\": \"\"}, \"colorscale\": [[0.0, \"#0d0887\"], [0.1111111111111111, \"#46039f\"], [0.2222222222222222, \"#7201a8\"], [0.3333333333333333, \"#9c179e\"], [0.4444444444444444, \"#bd3786\"], [0.5555555555555556, \"#d8576b\"], [0.6666666666666666, \"#ed7953\"], [0.7777777777777778, \"#fb9f3a\"], [0.8888888888888888, \"#fdca26\"], [1.0, \"#f0f921\"]], \"type\": \"heatmapgl\"}], \"histogram\": [{\"marker\": {\"colorbar\": {\"outlinewidth\": 0, \"ticks\": \"\"}}, \"type\": \"histogram\"}], \"histogram2d\": [{\"colorbar\": {\"outlinewidth\": 0, \"ticks\": \"\"}, \"colorscale\": [[0.0, \"#0d0887\"], [0.1111111111111111, \"#46039f\"], [0.2222222222222222, \"#7201a8\"], [0.3333333333333333, \"#9c179e\"], [0.4444444444444444, \"#bd3786\"], [0.5555555555555556, \"#d8576b\"], [0.6666666666666666, \"#ed7953\"], [0.7777777777777778, \"#fb9f3a\"], [0.8888888888888888, \"#fdca26\"], [1.0, \"#f0f921\"]], \"type\": \"histogram2d\"}], \"histogram2dcontour\": [{\"colorbar\": {\"outlinewidth\": 0, \"ticks\": \"\"}, \"colorscale\": [[0.0, \"#0d0887\"], [0.1111111111111111, \"#46039f\"], [0.2222222222222222, \"#7201a8\"], [0.3333333333333333, \"#9c179e\"], [0.4444444444444444, \"#bd3786\"], [0.5555555555555556, \"#d8576b\"], [0.6666666666666666, \"#ed7953\"], [0.7777777777777778, \"#fb9f3a\"], [0.8888888888888888, \"#fdca26\"], [1.0, \"#f0f921\"]], \"type\": \"histogram2dcontour\"}], \"mesh3d\": [{\"colorbar\": {\"outlinewidth\": 0, \"ticks\": \"\"}, \"type\": \"mesh3d\"}], \"parcoords\": [{\"line\": {\"colorbar\": {\"outlinewidth\": 0, \"ticks\": \"\"}}, \"type\": \"parcoords\"}], \"scatter\": [{\"marker\": {\"colorbar\": {\"outlinewidth\": 0, \"ticks\": \"\"}}, \"type\": \"scatter\"}], \"scatter3d\": [{\"line\": {\"colorbar\": {\"outlinewidth\": 0, \"ticks\": \"\"}}, \"marker\": {\"colorbar\": {\"outlinewidth\": 0, \"ticks\": \"\"}}, \"type\": \"scatter3d\"}], \"scattercarpet\": [{\"marker\": {\"colorbar\": {\"outlinewidth\": 0, \"ticks\": \"\"}}, \"type\": \"scattercarpet\"}], \"scattergeo\": [{\"marker\": {\"colorbar\": {\"outlinewidth\": 0, \"ticks\": \"\"}}, \"type\": \"scattergeo\"}], \"scattergl\": [{\"marker\": {\"colorbar\": {\"outlinewidth\": 0, \"ticks\": \"\"}}, \"type\": \"scattergl\"}], \"scattermapbox\": [{\"marker\": {\"colorbar\": {\"outlinewidth\": 0, \"ticks\": \"\"}}, \"type\": \"scattermapbox\"}], \"scatterpolar\": [{\"marker\": {\"colorbar\": {\"outlinewidth\": 0, \"ticks\": \"\"}}, \"type\": \"scatterpolar\"}], \"scatterpolargl\": [{\"marker\": {\"colorbar\": {\"outlinewidth\": 0, \"ticks\": \"\"}}, \"type\": \"scatterpolargl\"}], \"scatterternary\": [{\"marker\": {\"colorbar\": {\"outlinewidth\": 0, \"ticks\": \"\"}}, \"type\": \"scatterternary\"}], \"surface\": [{\"colorbar\": {\"outlinewidth\": 0, \"ticks\": \"\"}, \"colorscale\": [[0.0, \"#0d0887\"], [0.1111111111111111, \"#46039f\"], [0.2222222222222222, \"#7201a8\"], [0.3333333333333333, \"#9c179e\"], [0.4444444444444444, \"#bd3786\"], [0.5555555555555556, \"#d8576b\"], [0.6666666666666666, \"#ed7953\"], [0.7777777777777778, \"#fb9f3a\"], [0.8888888888888888, \"#fdca26\"], [1.0, \"#f0f921\"]], \"type\": \"surface\"}], \"table\": [{\"cells\": {\"fill\": {\"color\": \"#EBF0F8\"}, \"line\": {\"color\": \"white\"}}, \"header\": {\"fill\": {\"color\": \"#C8D4E3\"}, \"line\": {\"color\": \"white\"}}, \"type\": \"table\"}]}, \"layout\": {\"annotationdefaults\": {\"arrowcolor\": \"#2a3f5f\", \"arrowhead\": 0, \"arrowwidth\": 1}, \"colorscale\": {\"diverging\": [[0, \"#8e0152\"], [0.1, \"#c51b7d\"], [0.2, \"#de77ae\"], [0.3, \"#f1b6da\"], [0.4, \"#fde0ef\"], [0.5, \"#f7f7f7\"], [0.6, \"#e6f5d0\"], [0.7, \"#b8e186\"], [0.8, \"#7fbc41\"], [0.9, \"#4d9221\"], [1, \"#276419\"]], \"sequential\": [[0.0, \"#0d0887\"], [0.1111111111111111, \"#46039f\"], [0.2222222222222222, \"#7201a8\"], [0.3333333333333333, \"#9c179e\"], [0.4444444444444444, \"#bd3786\"], [0.5555555555555556, \"#d8576b\"], [0.6666666666666666, \"#ed7953\"], [0.7777777777777778, \"#fb9f3a\"], [0.8888888888888888, \"#fdca26\"], [1.0, \"#f0f921\"]], \"sequentialminus\": [[0.0, \"#0d0887\"], [0.1111111111111111, \"#46039f\"], [0.2222222222222222, \"#7201a8\"], [0.3333333333333333, \"#9c179e\"], [0.4444444444444444, \"#bd3786\"], [0.5555555555555556, \"#d8576b\"], [0.6666666666666666, \"#ed7953\"], [0.7777777777777778, \"#fb9f3a\"], [0.8888888888888888, \"#fdca26\"], [1.0, \"#f0f921\"]]}, \"colorway\": [\"#636efa\", \"#EF553B\", \"#00cc96\", \"#ab63fa\", \"#FFA15A\", \"#19d3f3\", \"#FF6692\", \"#B6E880\", \"#FF97FF\", \"#FECB52\"], \"font\": {\"color\": \"#2a3f5f\"}, \"geo\": {\"bgcolor\": \"white\", \"lakecolor\": \"white\", \"landcolor\": \"white\", \"showlakes\": true, \"showland\": true, \"subunitcolor\": \"#C8D4E3\"}, \"hoverlabel\": {\"align\": \"left\"}, \"hovermode\": \"closest\", \"mapbox\": {\"style\": \"light\"}, \"paper_bgcolor\": \"white\", \"plot_bgcolor\": \"white\", \"polar\": {\"angularaxis\": {\"gridcolor\": \"#EBF0F8\", \"linecolor\": \"#EBF0F8\", \"ticks\": \"\"}, \"bgcolor\": \"white\", \"radialaxis\": {\"gridcolor\": \"#EBF0F8\", \"linecolor\": \"#EBF0F8\", \"ticks\": \"\"}}, \"scene\": {\"xaxis\": {\"backgroundcolor\": \"white\", \"gridcolor\": \"#DFE8F3\", \"gridwidth\": 2, \"linecolor\": \"#EBF0F8\", \"showbackground\": true, \"ticks\": \"\", \"zerolinecolor\": \"#EBF0F8\"}, \"yaxis\": {\"backgroundcolor\": \"white\", \"gridcolor\": \"#DFE8F3\", \"gridwidth\": 2, \"linecolor\": \"#EBF0F8\", \"showbackground\": true, \"ticks\": \"\", \"zerolinecolor\": \"#EBF0F8\"}, \"zaxis\": {\"backgroundcolor\": \"white\", \"gridcolor\": \"#DFE8F3\", \"gridwidth\": 2, \"linecolor\": \"#EBF0F8\", \"showbackground\": true, \"ticks\": \"\", \"zerolinecolor\": \"#EBF0F8\"}}, \"shapedefaults\": {\"line\": {\"color\": \"#2a3f5f\"}}, \"ternary\": {\"aaxis\": {\"gridcolor\": \"#DFE8F3\", \"linecolor\": \"#A2B1C6\", \"ticks\": \"\"}, \"baxis\": {\"gridcolor\": \"#DFE8F3\", \"linecolor\": \"#A2B1C6\", \"ticks\": \"\"}, \"bgcolor\": \"white\", \"caxis\": {\"gridcolor\": \"#DFE8F3\", \"linecolor\": \"#A2B1C6\", \"ticks\": \"\"}}, \"title\": {\"x\": 0.05}, \"xaxis\": {\"automargin\": true, \"gridcolor\": \"#EBF0F8\", \"linecolor\": \"#EBF0F8\", \"ticks\": \"\", \"zerolinecolor\": \"#EBF0F8\", \"zerolinewidth\": 2}, \"yaxis\": {\"automargin\": true, \"gridcolor\": \"#EBF0F8\", \"linecolor\": \"#EBF0F8\", \"ticks\": \"\", \"zerolinecolor\": \"#EBF0F8\", \"zerolinewidth\": 2}}}, \"width\": 800},\n",
       "                        {\"responsive\": true}\n",
       "                    ).then(function(){\n",
       "                            \n",
       "var gd = document.getElementById('571b7dfa-7353-4495-9eaa-4aa9edf72042');\n",
       "var x = new MutationObserver(function (mutations, observer) {{\n",
       "        var display = window.getComputedStyle(gd).display;\n",
       "        if (!display || display === 'none') {{\n",
       "            console.log([gd, 'removed!']);\n",
       "            Plotly.purge(gd);\n",
       "            observer.disconnect();\n",
       "        }}\n",
       "}});\n",
       "\n",
       "// Listen for the removal of the full notebook cells\n",
       "var notebookContainer = gd.closest('#notebook-container');\n",
       "if (notebookContainer) {{\n",
       "    x.observe(notebookContainer, {childList: true});\n",
       "}}\n",
       "\n",
       "// Listen for the clearing of the current output cell\n",
       "var outputEl = gd.closest('.output');\n",
       "if (outputEl) {{\n",
       "    x.observe(outputEl, {childList: true});\n",
       "}}\n",
       "\n",
       "                        })\n",
       "                };\n",
       "                });\n",
       "            </script>\n",
       "        </div>"
      ]
     },
     "metadata": {},
     "output_type": "display_data"
    }
   ],
   "source": [
    "fig = px.line_polar(mf, r='value', theta='kpi', color='name', line_dash='name',\n",
    "                    line_close=True, template=\"plotly_white\", width=800 )\n",
    "\n",
    "fig.update_traces(mode='lines', line_width=5)\n",
    "fig.update_layout(legend=dict(x=-.4, y=.1))\n",
    "fig.show()"
   ]
  },
  {
   "cell_type": "markdown",
   "metadata": {},
   "source": [
    "## FW"
   ]
  },
  {
   "cell_type": "code",
   "execution_count": 60,
   "metadata": {},
   "outputs": [
    {
     "data": {
      "text/html": [
       "<div>\n",
       "<style scoped>\n",
       "    .dataframe tbody tr th:only-of-type {\n",
       "        vertical-align: middle;\n",
       "    }\n",
       "\n",
       "    .dataframe tbody tr th {\n",
       "        vertical-align: top;\n",
       "    }\n",
       "\n",
       "    .dataframe thead th {\n",
       "        text-align: right;\n",
       "    }\n",
       "</style>\n",
       "<table border=\"1\" class=\"dataframe\">\n",
       "  <thead>\n",
       "    <tr style=\"text-align: right;\">\n",
       "      <th></th>\n",
       "      <th>0</th>\n",
       "      <th>1</th>\n",
       "      <th>2</th>\n",
       "      <th>3</th>\n",
       "      <th>4</th>\n",
       "      <th>5</th>\n",
       "      <th>6</th>\n",
       "      <th>7</th>\n",
       "      <th>8</th>\n",
       "      <th>9</th>\n",
       "      <th>10</th>\n",
       "      <th>11</th>\n",
       "      <th>12</th>\n",
       "      <th>13</th>\n",
       "      <th>14</th>\n",
       "      <th>15</th>\n",
       "      <th>16</th>\n",
       "      <th>17</th>\n",
       "      <th>18</th>\n",
       "      <th>19</th>\n",
       "      <th>20</th>\n",
       "    </tr>\n",
       "  </thead>\n",
       "  <tbody>\n",
       "    <tr>\n",
       "      <th>kpi</th>\n",
       "      <td>Assists</td>\n",
       "      <td>Assists</td>\n",
       "      <td>Assists</td>\n",
       "      <td>Missed Chances</td>\n",
       "      <td>Missed Chances</td>\n",
       "      <td>Missed Chances</td>\n",
       "      <td>Goals</td>\n",
       "      <td>Goals</td>\n",
       "      <td>Goals</td>\n",
       "      <td>Offsides</td>\n",
       "      <td>Offsides</td>\n",
       "      <td>Offsides</td>\n",
       "      <td>Shots</td>\n",
       "      <td>Shots</td>\n",
       "      <td>Shots</td>\n",
       "      <td>Dispossessed</td>\n",
       "      <td>Dispossessed</td>\n",
       "      <td>Dispossessed</td>\n",
       "      <td>Fouls</td>\n",
       "      <td>Fouls</td>\n",
       "      <td>Fouls</td>\n",
       "    </tr>\n",
       "    <tr>\n",
       "      <th>name</th>\n",
       "      <td>Alex Iwobi</td>\n",
       "      <td>Alexandre Lacazette</td>\n",
       "      <td>Pierre-Emerick Aubameyang</td>\n",
       "      <td>Alex Iwobi</td>\n",
       "      <td>Alexandre Lacazette</td>\n",
       "      <td>Pierre-Emerick Aubameyang</td>\n",
       "      <td>Alex Iwobi</td>\n",
       "      <td>Alexandre Lacazette</td>\n",
       "      <td>Pierre-Emerick Aubameyang</td>\n",
       "      <td>Alex Iwobi</td>\n",
       "      <td>Alexandre Lacazette</td>\n",
       "      <td>Pierre-Emerick Aubameyang</td>\n",
       "      <td>Alex Iwobi</td>\n",
       "      <td>Alexandre Lacazette</td>\n",
       "      <td>Pierre-Emerick Aubameyang</td>\n",
       "      <td>Alex Iwobi</td>\n",
       "      <td>Alexandre Lacazette</td>\n",
       "      <td>Pierre-Emerick Aubameyang</td>\n",
       "      <td>Alex Iwobi</td>\n",
       "      <td>Alexandre Lacazette</td>\n",
       "      <td>Pierre-Emerick Aubameyang</td>\n",
       "    </tr>\n",
       "    <tr>\n",
       "      <th>value</th>\n",
       "      <td>0.952713</td>\n",
       "      <td>1</td>\n",
       "      <td>0.573279</td>\n",
       "      <td>0.180638</td>\n",
       "      <td>0.616211</td>\n",
       "      <td>1</td>\n",
       "      <td>0.188848</td>\n",
       "      <td>0.644221</td>\n",
       "      <td>1</td>\n",
       "      <td>0.105857</td>\n",
       "      <td>1</td>\n",
       "      <td>0.879028</td>\n",
       "      <td>0.51565</td>\n",
       "      <td>0.939445</td>\n",
       "      <td>1</td>\n",
       "      <td>1</td>\n",
       "      <td>0.857514</td>\n",
       "      <td>0.425511</td>\n",
       "      <td>0.19926</td>\n",
       "      <td>1</td>\n",
       "      <td>0.233808</td>\n",
       "    </tr>\n",
       "    <tr>\n",
       "      <th>denom</th>\n",
       "      <td>0.00319361</td>\n",
       "      <td>0.00319361</td>\n",
       "      <td>0.00319361</td>\n",
       "      <td>0.00842182</td>\n",
       "      <td>0.00842182</td>\n",
       "      <td>0.00842182</td>\n",
       "      <td>0.00805566</td>\n",
       "      <td>0.00805566</td>\n",
       "      <td>0.00805566</td>\n",
       "      <td>0.00958084</td>\n",
       "      <td>0.00958084</td>\n",
       "      <td>0.00958084</td>\n",
       "      <td>0.0344196</td>\n",
       "      <td>0.0344196</td>\n",
       "      <td>0.0344196</td>\n",
       "      <td>0.0283976</td>\n",
       "      <td>0.0283976</td>\n",
       "      <td>0.0283976</td>\n",
       "      <td>0.0203593</td>\n",
       "      <td>0.0203593</td>\n",
       "      <td>0.0203593</td>\n",
       "    </tr>\n",
       "  </tbody>\n",
       "</table>\n",
       "</div>"
      ],
      "text/plain": [
       "               0                    1                          2   \\\n",
       "kpi       Assists              Assists                    Assists   \n",
       "name   Alex Iwobi  Alexandre Lacazette  Pierre-Emerick Aubameyang   \n",
       "value    0.952713                    1                   0.573279   \n",
       "denom  0.00319361           0.00319361                 0.00319361   \n",
       "\n",
       "                   3                    4                          5   \\\n",
       "kpi    Missed Chances       Missed Chances             Missed Chances   \n",
       "name       Alex Iwobi  Alexandre Lacazette  Pierre-Emerick Aubameyang   \n",
       "value        0.180638             0.616211                          1   \n",
       "denom      0.00842182           0.00842182                 0.00842182   \n",
       "\n",
       "               6                    7                          8           9   \\\n",
       "kpi         Goals                Goals                      Goals    Offsides   \n",
       "name   Alex Iwobi  Alexandre Lacazette  Pierre-Emerick Aubameyang  Alex Iwobi   \n",
       "value    0.188848             0.644221                          1    0.105857   \n",
       "denom  0.00805566           0.00805566                 0.00805566  0.00958084   \n",
       "\n",
       "                        10                         11          12  \\\n",
       "kpi               Offsides                   Offsides       Shots   \n",
       "name   Alexandre Lacazette  Pierre-Emerick Aubameyang  Alex Iwobi   \n",
       "value                    1                   0.879028     0.51565   \n",
       "denom           0.00958084                 0.00958084   0.0344196   \n",
       "\n",
       "                        13                         14            15  \\\n",
       "kpi                  Shots                      Shots  Dispossessed   \n",
       "name   Alexandre Lacazette  Pierre-Emerick Aubameyang    Alex Iwobi   \n",
       "value             0.939445                          1             1   \n",
       "denom            0.0344196                  0.0344196     0.0283976   \n",
       "\n",
       "                        16                         17          18  \\\n",
       "kpi           Dispossessed               Dispossessed       Fouls   \n",
       "name   Alexandre Lacazette  Pierre-Emerick Aubameyang  Alex Iwobi   \n",
       "value             0.857514                   0.425511     0.19926   \n",
       "denom            0.0283976                  0.0283976   0.0203593   \n",
       "\n",
       "                        19                         20  \n",
       "kpi                  Fouls                      Fouls  \n",
       "name   Alexandre Lacazette  Pierre-Emerick Aubameyang  \n",
       "value                    1                   0.233808  \n",
       "denom            0.0203593                  0.0203593  "
      ]
     },
     "execution_count": 60,
     "metadata": {},
     "output_type": "execute_result"
    }
   ],
   "source": [
    "fw = training.query(\"position == 'FW' and Appearances > 10\")[\n",
    "    ['assists_per_min_played', 'missed_chances_per_min_played', 'goals_per_min_played'\n",
    "    ,'offsides_per_min_played', 'shots_per_min_played', 'dispossessed_per_min_played'\n",
    "     ,'fouls_per_min_played']\n",
    "].rename(columns={'assists_per_min_played':'Assists', 'missed_chances_per_min_played':'Missed Chances'\n",
    "                 ,'goals_per_min_played':'Goals', 'offsides_per_min_played': 'Offsides'\n",
    "                 ,'shots_per_min_played':'Shots', 'dispossessed_per_min_played':'Dispossessed'\n",
    "                 ,'fouls_per_min_played':'Fouls'})\n",
    "\n",
    "max_map = fw.max().to_dict()\n",
    "fw = pandas.DataFrame(fw.unstack()).reset_index()\n",
    "fw.columns = ['kpi', 'name', 'value']\n",
    "fw['denom'] = fw.kpi.map(max_map)\n",
    "fw['value'] = fw.value / fw.denom\n",
    "fw.T"
   ]
  },
  {
   "cell_type": "code",
   "execution_count": 61,
   "metadata": {},
   "outputs": [
    {
     "data": {
      "application/vnd.plotly.v1+json": {
       "config": {
        "plotlyServerURL": "https://plot.ly"
       },
       "data": [
        {
         "hoverlabel": {
          "namelength": 0
         },
         "hovertemplate": "name=Alex Iwobi<br>value=%{text}<br>kpi=%{theta}",
         "legendgroup": "name=Alex Iwobi",
         "line": {
          "color": "#636efa",
          "dash": "solid",
          "width": 5
         },
         "mode": "lines",
         "name": "name=Alex Iwobi",
         "r": [
          0.952712981744422,
          0.18063762236528794,
          0.18884842338189195,
          0.10585699797160243,
          0.5156499503689957,
          1,
          0.1992602314759575,
          0.952712981744422
         ],
         "showlegend": true,
         "subplot": "polar",
         "text": [
          0.952712981744422,
          0.18063762236528794,
          0.18884842338189195,
          0.10585699797160243,
          0.5156499503689957,
          1,
          0.1992602314759575,
          0.952712981744422
         ],
         "theta": [
          "Assists",
          "Missed Chances",
          "Goals",
          "Offsides",
          "Shots",
          "Dispossessed",
          "Fouls",
          "Assists"
         ],
         "type": "scatterpolar"
        },
        {
         "hoverlabel": {
          "namelength": 0
         },
         "hovertemplate": "name=Alexandre Lacazette<br>value=%{text}<br>kpi=%{theta}",
         "legendgroup": "name=Alexandre Lacazette",
         "line": {
          "color": "#EF553B",
          "dash": "dot",
          "width": 5
         },
         "mode": "lines",
         "name": "name=Alexandre Lacazette",
         "r": [
          1,
          0.6162110561485724,
          0.6442206496098711,
          1,
          0.9394445152248695,
          0.8575135443398917,
          1,
          1
         ],
         "showlegend": true,
         "subplot": "polar",
         "text": [
          1,
          0.6162110561485724,
          0.6442206496098711,
          1,
          0.9394445152248695,
          0.8575135443398917,
          1,
          1
         ],
         "theta": [
          "Assists",
          "Missed Chances",
          "Goals",
          "Offsides",
          "Shots",
          "Dispossessed",
          "Fouls",
          "Assists"
         ],
         "type": "scatterpolar"
        },
        {
         "hoverlabel": {
          "namelength": 0
         },
         "hovertemplate": "name=Pierre-Emerick Aubameyang<br>value=%{text}<br>kpi=%{theta}",
         "legendgroup": "name=Pierre-Emerick Aubameyang",
         "line": {
          "color": "#00cc96",
          "dash": "dash",
          "width": 5
         },
         "mode": "lines",
         "name": "name=Pierre-Emerick Aubameyang",
         "r": [
          0.5732790186744783,
          1,
          1,
          0.8790278286341999,
          1,
          0.4255113249986923,
          0.23380791349861071,
          0.5732790186744783
         ],
         "showlegend": true,
         "subplot": "polar",
         "text": [
          0.5732790186744783,
          1,
          1,
          0.8790278286341999,
          1,
          0.4255113249986923,
          0.23380791349861071,
          0.5732790186744783
         ],
         "theta": [
          "Assists",
          "Missed Chances",
          "Goals",
          "Offsides",
          "Shots",
          "Dispossessed",
          "Fouls",
          "Assists"
         ],
         "type": "scatterpolar"
        }
       ],
       "layout": {
        "height": 600,
        "legend": {
         "tracegroupgap": 0,
         "x": 0.8,
         "y": 1.1
        },
        "margin": {
         "t": 60
        },
        "polar": {
         "angularaxis": {
          "direction": "clockwise",
          "rotation": 90
         },
         "domain": {
          "x": [
           0,
           0.98
          ],
          "y": [
           0,
           1
          ]
         }
        },
        "template": {
         "data": {
          "bar": [
           {
            "error_x": {
             "color": "#2a3f5f"
            },
            "error_y": {
             "color": "#2a3f5f"
            },
            "marker": {
             "line": {
              "color": "white",
              "width": 0.5
             }
            },
            "type": "bar"
           }
          ],
          "barpolar": [
           {
            "marker": {
             "line": {
              "color": "white",
              "width": 0.5
             }
            },
            "type": "barpolar"
           }
          ],
          "carpet": [
           {
            "aaxis": {
             "endlinecolor": "#2a3f5f",
             "gridcolor": "#C8D4E3",
             "linecolor": "#C8D4E3",
             "minorgridcolor": "#C8D4E3",
             "startlinecolor": "#2a3f5f"
            },
            "baxis": {
             "endlinecolor": "#2a3f5f",
             "gridcolor": "#C8D4E3",
             "linecolor": "#C8D4E3",
             "minorgridcolor": "#C8D4E3",
             "startlinecolor": "#2a3f5f"
            },
            "type": "carpet"
           }
          ],
          "choropleth": [
           {
            "colorbar": {
             "outlinewidth": 0,
             "ticks": ""
            },
            "type": "choropleth"
           }
          ],
          "contour": [
           {
            "colorbar": {
             "outlinewidth": 0,
             "ticks": ""
            },
            "colorscale": [
             [
              0,
              "#0d0887"
             ],
             [
              0.1111111111111111,
              "#46039f"
             ],
             [
              0.2222222222222222,
              "#7201a8"
             ],
             [
              0.3333333333333333,
              "#9c179e"
             ],
             [
              0.4444444444444444,
              "#bd3786"
             ],
             [
              0.5555555555555556,
              "#d8576b"
             ],
             [
              0.6666666666666666,
              "#ed7953"
             ],
             [
              0.7777777777777778,
              "#fb9f3a"
             ],
             [
              0.8888888888888888,
              "#fdca26"
             ],
             [
              1,
              "#f0f921"
             ]
            ],
            "type": "contour"
           }
          ],
          "contourcarpet": [
           {
            "colorbar": {
             "outlinewidth": 0,
             "ticks": ""
            },
            "type": "contourcarpet"
           }
          ],
          "heatmap": [
           {
            "colorbar": {
             "outlinewidth": 0,
             "ticks": ""
            },
            "colorscale": [
             [
              0,
              "#0d0887"
             ],
             [
              0.1111111111111111,
              "#46039f"
             ],
             [
              0.2222222222222222,
              "#7201a8"
             ],
             [
              0.3333333333333333,
              "#9c179e"
             ],
             [
              0.4444444444444444,
              "#bd3786"
             ],
             [
              0.5555555555555556,
              "#d8576b"
             ],
             [
              0.6666666666666666,
              "#ed7953"
             ],
             [
              0.7777777777777778,
              "#fb9f3a"
             ],
             [
              0.8888888888888888,
              "#fdca26"
             ],
             [
              1,
              "#f0f921"
             ]
            ],
            "type": "heatmap"
           }
          ],
          "heatmapgl": [
           {
            "colorbar": {
             "outlinewidth": 0,
             "ticks": ""
            },
            "colorscale": [
             [
              0,
              "#0d0887"
             ],
             [
              0.1111111111111111,
              "#46039f"
             ],
             [
              0.2222222222222222,
              "#7201a8"
             ],
             [
              0.3333333333333333,
              "#9c179e"
             ],
             [
              0.4444444444444444,
              "#bd3786"
             ],
             [
              0.5555555555555556,
              "#d8576b"
             ],
             [
              0.6666666666666666,
              "#ed7953"
             ],
             [
              0.7777777777777778,
              "#fb9f3a"
             ],
             [
              0.8888888888888888,
              "#fdca26"
             ],
             [
              1,
              "#f0f921"
             ]
            ],
            "type": "heatmapgl"
           }
          ],
          "histogram": [
           {
            "marker": {
             "colorbar": {
              "outlinewidth": 0,
              "ticks": ""
             }
            },
            "type": "histogram"
           }
          ],
          "histogram2d": [
           {
            "colorbar": {
             "outlinewidth": 0,
             "ticks": ""
            },
            "colorscale": [
             [
              0,
              "#0d0887"
             ],
             [
              0.1111111111111111,
              "#46039f"
             ],
             [
              0.2222222222222222,
              "#7201a8"
             ],
             [
              0.3333333333333333,
              "#9c179e"
             ],
             [
              0.4444444444444444,
              "#bd3786"
             ],
             [
              0.5555555555555556,
              "#d8576b"
             ],
             [
              0.6666666666666666,
              "#ed7953"
             ],
             [
              0.7777777777777778,
              "#fb9f3a"
             ],
             [
              0.8888888888888888,
              "#fdca26"
             ],
             [
              1,
              "#f0f921"
             ]
            ],
            "type": "histogram2d"
           }
          ],
          "histogram2dcontour": [
           {
            "colorbar": {
             "outlinewidth": 0,
             "ticks": ""
            },
            "colorscale": [
             [
              0,
              "#0d0887"
             ],
             [
              0.1111111111111111,
              "#46039f"
             ],
             [
              0.2222222222222222,
              "#7201a8"
             ],
             [
              0.3333333333333333,
              "#9c179e"
             ],
             [
              0.4444444444444444,
              "#bd3786"
             ],
             [
              0.5555555555555556,
              "#d8576b"
             ],
             [
              0.6666666666666666,
              "#ed7953"
             ],
             [
              0.7777777777777778,
              "#fb9f3a"
             ],
             [
              0.8888888888888888,
              "#fdca26"
             ],
             [
              1,
              "#f0f921"
             ]
            ],
            "type": "histogram2dcontour"
           }
          ],
          "mesh3d": [
           {
            "colorbar": {
             "outlinewidth": 0,
             "ticks": ""
            },
            "type": "mesh3d"
           }
          ],
          "parcoords": [
           {
            "line": {
             "colorbar": {
              "outlinewidth": 0,
              "ticks": ""
             }
            },
            "type": "parcoords"
           }
          ],
          "scatter": [
           {
            "marker": {
             "colorbar": {
              "outlinewidth": 0,
              "ticks": ""
             }
            },
            "type": "scatter"
           }
          ],
          "scatter3d": [
           {
            "line": {
             "colorbar": {
              "outlinewidth": 0,
              "ticks": ""
             }
            },
            "marker": {
             "colorbar": {
              "outlinewidth": 0,
              "ticks": ""
             }
            },
            "type": "scatter3d"
           }
          ],
          "scattercarpet": [
           {
            "marker": {
             "colorbar": {
              "outlinewidth": 0,
              "ticks": ""
             }
            },
            "type": "scattercarpet"
           }
          ],
          "scattergeo": [
           {
            "marker": {
             "colorbar": {
              "outlinewidth": 0,
              "ticks": ""
             }
            },
            "type": "scattergeo"
           }
          ],
          "scattergl": [
           {
            "marker": {
             "colorbar": {
              "outlinewidth": 0,
              "ticks": ""
             }
            },
            "type": "scattergl"
           }
          ],
          "scattermapbox": [
           {
            "marker": {
             "colorbar": {
              "outlinewidth": 0,
              "ticks": ""
             }
            },
            "type": "scattermapbox"
           }
          ],
          "scatterpolar": [
           {
            "marker": {
             "colorbar": {
              "outlinewidth": 0,
              "ticks": ""
             }
            },
            "type": "scatterpolar"
           }
          ],
          "scatterpolargl": [
           {
            "marker": {
             "colorbar": {
              "outlinewidth": 0,
              "ticks": ""
             }
            },
            "type": "scatterpolargl"
           }
          ],
          "scatterternary": [
           {
            "marker": {
             "colorbar": {
              "outlinewidth": 0,
              "ticks": ""
             }
            },
            "type": "scatterternary"
           }
          ],
          "surface": [
           {
            "colorbar": {
             "outlinewidth": 0,
             "ticks": ""
            },
            "colorscale": [
             [
              0,
              "#0d0887"
             ],
             [
              0.1111111111111111,
              "#46039f"
             ],
             [
              0.2222222222222222,
              "#7201a8"
             ],
             [
              0.3333333333333333,
              "#9c179e"
             ],
             [
              0.4444444444444444,
              "#bd3786"
             ],
             [
              0.5555555555555556,
              "#d8576b"
             ],
             [
              0.6666666666666666,
              "#ed7953"
             ],
             [
              0.7777777777777778,
              "#fb9f3a"
             ],
             [
              0.8888888888888888,
              "#fdca26"
             ],
             [
              1,
              "#f0f921"
             ]
            ],
            "type": "surface"
           }
          ],
          "table": [
           {
            "cells": {
             "fill": {
              "color": "#EBF0F8"
             },
             "line": {
              "color": "white"
             }
            },
            "header": {
             "fill": {
              "color": "#C8D4E3"
             },
             "line": {
              "color": "white"
             }
            },
            "type": "table"
           }
          ]
         },
         "layout": {
          "annotationdefaults": {
           "arrowcolor": "#2a3f5f",
           "arrowhead": 0,
           "arrowwidth": 1
          },
          "colorscale": {
           "diverging": [
            [
             0,
             "#8e0152"
            ],
            [
             0.1,
             "#c51b7d"
            ],
            [
             0.2,
             "#de77ae"
            ],
            [
             0.3,
             "#f1b6da"
            ],
            [
             0.4,
             "#fde0ef"
            ],
            [
             0.5,
             "#f7f7f7"
            ],
            [
             0.6,
             "#e6f5d0"
            ],
            [
             0.7,
             "#b8e186"
            ],
            [
             0.8,
             "#7fbc41"
            ],
            [
             0.9,
             "#4d9221"
            ],
            [
             1,
             "#276419"
            ]
           ],
           "sequential": [
            [
             0,
             "#0d0887"
            ],
            [
             0.1111111111111111,
             "#46039f"
            ],
            [
             0.2222222222222222,
             "#7201a8"
            ],
            [
             0.3333333333333333,
             "#9c179e"
            ],
            [
             0.4444444444444444,
             "#bd3786"
            ],
            [
             0.5555555555555556,
             "#d8576b"
            ],
            [
             0.6666666666666666,
             "#ed7953"
            ],
            [
             0.7777777777777778,
             "#fb9f3a"
            ],
            [
             0.8888888888888888,
             "#fdca26"
            ],
            [
             1,
             "#f0f921"
            ]
           ],
           "sequentialminus": [
            [
             0,
             "#0d0887"
            ],
            [
             0.1111111111111111,
             "#46039f"
            ],
            [
             0.2222222222222222,
             "#7201a8"
            ],
            [
             0.3333333333333333,
             "#9c179e"
            ],
            [
             0.4444444444444444,
             "#bd3786"
            ],
            [
             0.5555555555555556,
             "#d8576b"
            ],
            [
             0.6666666666666666,
             "#ed7953"
            ],
            [
             0.7777777777777778,
             "#fb9f3a"
            ],
            [
             0.8888888888888888,
             "#fdca26"
            ],
            [
             1,
             "#f0f921"
            ]
           ]
          },
          "colorway": [
           "#636efa",
           "#EF553B",
           "#00cc96",
           "#ab63fa",
           "#FFA15A",
           "#19d3f3",
           "#FF6692",
           "#B6E880",
           "#FF97FF",
           "#FECB52"
          ],
          "font": {
           "color": "#2a3f5f"
          },
          "geo": {
           "bgcolor": "white",
           "lakecolor": "white",
           "landcolor": "white",
           "showlakes": true,
           "showland": true,
           "subunitcolor": "#C8D4E3"
          },
          "hoverlabel": {
           "align": "left"
          },
          "hovermode": "closest",
          "mapbox": {
           "style": "light"
          },
          "paper_bgcolor": "white",
          "plot_bgcolor": "white",
          "polar": {
           "angularaxis": {
            "gridcolor": "#EBF0F8",
            "linecolor": "#EBF0F8",
            "ticks": ""
           },
           "bgcolor": "white",
           "radialaxis": {
            "gridcolor": "#EBF0F8",
            "linecolor": "#EBF0F8",
            "ticks": ""
           }
          },
          "scene": {
           "xaxis": {
            "backgroundcolor": "white",
            "gridcolor": "#DFE8F3",
            "gridwidth": 2,
            "linecolor": "#EBF0F8",
            "showbackground": true,
            "ticks": "",
            "zerolinecolor": "#EBF0F8"
           },
           "yaxis": {
            "backgroundcolor": "white",
            "gridcolor": "#DFE8F3",
            "gridwidth": 2,
            "linecolor": "#EBF0F8",
            "showbackground": true,
            "ticks": "",
            "zerolinecolor": "#EBF0F8"
           },
           "zaxis": {
            "backgroundcolor": "white",
            "gridcolor": "#DFE8F3",
            "gridwidth": 2,
            "linecolor": "#EBF0F8",
            "showbackground": true,
            "ticks": "",
            "zerolinecolor": "#EBF0F8"
           }
          },
          "shapedefaults": {
           "line": {
            "color": "#2a3f5f"
           }
          },
          "ternary": {
           "aaxis": {
            "gridcolor": "#DFE8F3",
            "linecolor": "#A2B1C6",
            "ticks": ""
           },
           "baxis": {
            "gridcolor": "#DFE8F3",
            "linecolor": "#A2B1C6",
            "ticks": ""
           },
           "bgcolor": "white",
           "caxis": {
            "gridcolor": "#DFE8F3",
            "linecolor": "#A2B1C6",
            "ticks": ""
           }
          },
          "title": {
           "x": 0.05
          },
          "xaxis": {
           "automargin": true,
           "gridcolor": "#EBF0F8",
           "linecolor": "#EBF0F8",
           "ticks": "",
           "zerolinecolor": "#EBF0F8",
           "zerolinewidth": 2
          },
          "yaxis": {
           "automargin": true,
           "gridcolor": "#EBF0F8",
           "linecolor": "#EBF0F8",
           "ticks": "",
           "zerolinecolor": "#EBF0F8",
           "zerolinewidth": 2
          }
         }
        },
        "width": 800
       }
      },
      "text/html": [
       "<div>\n",
       "        \n",
       "        \n",
       "            <div id=\"ac45cf63-b181-4ad1-ad36-5b18efb4cca5\" class=\"plotly-graph-div\" style=\"height:600px; width:800px;\"></div>\n",
       "            <script type=\"text/javascript\">\n",
       "                require([\"plotly\"], function(Plotly) {\n",
       "                    window.PLOTLYENV=window.PLOTLYENV || {};\n",
       "                    \n",
       "                if (document.getElementById(\"ac45cf63-b181-4ad1-ad36-5b18efb4cca5\")) {\n",
       "                    Plotly.newPlot(\n",
       "                        'ac45cf63-b181-4ad1-ad36-5b18efb4cca5',\n",
       "                        [{\"hoverlabel\": {\"namelength\": 0}, \"hovertemplate\": \"name=Alex Iwobi<br>value=%{text}<br>kpi=%{theta}\", \"legendgroup\": \"name=Alex Iwobi\", \"line\": {\"color\": \"#636efa\", \"dash\": \"solid\", \"width\": 5}, \"mode\": \"lines\", \"name\": \"name=Alex Iwobi\", \"r\": [0.952712981744422, 0.18063762236528794, 0.18884842338189195, 0.10585699797160243, 0.5156499503689957, 1.0, 0.1992602314759575, 0.952712981744422], \"showlegend\": true, \"subplot\": \"polar\", \"text\": [0.952712981744422, 0.18063762236528794, 0.18884842338189195, 0.10585699797160243, 0.5156499503689957, 1.0, 0.1992602314759575, 0.952712981744422], \"theta\": [\"Assists\", \"Missed Chances\", \"Goals\", \"Offsides\", \"Shots\", \"Dispossessed\", \"Fouls\", \"Assists\"], \"type\": \"scatterpolar\"}, {\"hoverlabel\": {\"namelength\": 0}, \"hovertemplate\": \"name=Alexandre Lacazette<br>value=%{text}<br>kpi=%{theta}\", \"legendgroup\": \"name=Alexandre Lacazette\", \"line\": {\"color\": \"#EF553B\", \"dash\": \"dot\", \"width\": 5}, \"mode\": \"lines\", \"name\": \"name=Alexandre Lacazette\", \"r\": [1.0, 0.6162110561485724, 0.6442206496098711, 1.0, 0.9394445152248695, 0.8575135443398917, 1.0, 1.0], \"showlegend\": true, \"subplot\": \"polar\", \"text\": [1.0, 0.6162110561485724, 0.6442206496098711, 1.0, 0.9394445152248695, 0.8575135443398917, 1.0, 1.0], \"theta\": [\"Assists\", \"Missed Chances\", \"Goals\", \"Offsides\", \"Shots\", \"Dispossessed\", \"Fouls\", \"Assists\"], \"type\": \"scatterpolar\"}, {\"hoverlabel\": {\"namelength\": 0}, \"hovertemplate\": \"name=Pierre-Emerick Aubameyang<br>value=%{text}<br>kpi=%{theta}\", \"legendgroup\": \"name=Pierre-Emerick Aubameyang\", \"line\": {\"color\": \"#00cc96\", \"dash\": \"dash\", \"width\": 5}, \"mode\": \"lines\", \"name\": \"name=Pierre-Emerick Aubameyang\", \"r\": [0.5732790186744783, 1.0, 1.0, 0.8790278286341999, 1.0, 0.4255113249986923, 0.23380791349861071, 0.5732790186744783], \"showlegend\": true, \"subplot\": \"polar\", \"text\": [0.5732790186744783, 1.0, 1.0, 0.8790278286341999, 1.0, 0.4255113249986923, 0.23380791349861071, 0.5732790186744783], \"theta\": [\"Assists\", \"Missed Chances\", \"Goals\", \"Offsides\", \"Shots\", \"Dispossessed\", \"Fouls\", \"Assists\"], \"type\": \"scatterpolar\"}],\n",
       "                        {\"height\": 600, \"legend\": {\"tracegroupgap\": 0, \"x\": 0.8, \"y\": 1.1}, \"margin\": {\"t\": 60}, \"polar\": {\"angularaxis\": {\"direction\": \"clockwise\", \"rotation\": 90}, \"domain\": {\"x\": [0.0, 0.98], \"y\": [0.0, 1.0]}}, \"template\": {\"data\": {\"bar\": [{\"error_x\": {\"color\": \"#2a3f5f\"}, \"error_y\": {\"color\": \"#2a3f5f\"}, \"marker\": {\"line\": {\"color\": \"white\", \"width\": 0.5}}, \"type\": \"bar\"}], \"barpolar\": [{\"marker\": {\"line\": {\"color\": \"white\", \"width\": 0.5}}, \"type\": \"barpolar\"}], \"carpet\": [{\"aaxis\": {\"endlinecolor\": \"#2a3f5f\", \"gridcolor\": \"#C8D4E3\", \"linecolor\": \"#C8D4E3\", \"minorgridcolor\": \"#C8D4E3\", \"startlinecolor\": \"#2a3f5f\"}, \"baxis\": {\"endlinecolor\": \"#2a3f5f\", \"gridcolor\": \"#C8D4E3\", \"linecolor\": \"#C8D4E3\", \"minorgridcolor\": \"#C8D4E3\", \"startlinecolor\": \"#2a3f5f\"}, \"type\": \"carpet\"}], \"choropleth\": [{\"colorbar\": {\"outlinewidth\": 0, \"ticks\": \"\"}, \"type\": \"choropleth\"}], \"contour\": [{\"colorbar\": {\"outlinewidth\": 0, \"ticks\": \"\"}, \"colorscale\": [[0.0, \"#0d0887\"], [0.1111111111111111, \"#46039f\"], [0.2222222222222222, \"#7201a8\"], [0.3333333333333333, \"#9c179e\"], [0.4444444444444444, \"#bd3786\"], [0.5555555555555556, \"#d8576b\"], [0.6666666666666666, \"#ed7953\"], [0.7777777777777778, \"#fb9f3a\"], [0.8888888888888888, \"#fdca26\"], [1.0, \"#f0f921\"]], \"type\": \"contour\"}], \"contourcarpet\": [{\"colorbar\": {\"outlinewidth\": 0, \"ticks\": \"\"}, \"type\": \"contourcarpet\"}], \"heatmap\": [{\"colorbar\": {\"outlinewidth\": 0, \"ticks\": \"\"}, \"colorscale\": [[0.0, \"#0d0887\"], [0.1111111111111111, \"#46039f\"], [0.2222222222222222, \"#7201a8\"], [0.3333333333333333, \"#9c179e\"], [0.4444444444444444, \"#bd3786\"], [0.5555555555555556, \"#d8576b\"], [0.6666666666666666, \"#ed7953\"], [0.7777777777777778, \"#fb9f3a\"], [0.8888888888888888, \"#fdca26\"], [1.0, \"#f0f921\"]], \"type\": \"heatmap\"}], \"heatmapgl\": [{\"colorbar\": {\"outlinewidth\": 0, \"ticks\": \"\"}, \"colorscale\": [[0.0, \"#0d0887\"], [0.1111111111111111, \"#46039f\"], [0.2222222222222222, \"#7201a8\"], [0.3333333333333333, \"#9c179e\"], [0.4444444444444444, \"#bd3786\"], [0.5555555555555556, \"#d8576b\"], [0.6666666666666666, \"#ed7953\"], [0.7777777777777778, \"#fb9f3a\"], [0.8888888888888888, \"#fdca26\"], [1.0, \"#f0f921\"]], \"type\": \"heatmapgl\"}], \"histogram\": [{\"marker\": {\"colorbar\": {\"outlinewidth\": 0, \"ticks\": \"\"}}, \"type\": \"histogram\"}], \"histogram2d\": [{\"colorbar\": {\"outlinewidth\": 0, \"ticks\": \"\"}, \"colorscale\": [[0.0, \"#0d0887\"], [0.1111111111111111, \"#46039f\"], [0.2222222222222222, \"#7201a8\"], [0.3333333333333333, \"#9c179e\"], [0.4444444444444444, \"#bd3786\"], [0.5555555555555556, \"#d8576b\"], [0.6666666666666666, \"#ed7953\"], [0.7777777777777778, \"#fb9f3a\"], [0.8888888888888888, \"#fdca26\"], [1.0, \"#f0f921\"]], \"type\": \"histogram2d\"}], \"histogram2dcontour\": [{\"colorbar\": {\"outlinewidth\": 0, \"ticks\": \"\"}, \"colorscale\": [[0.0, \"#0d0887\"], [0.1111111111111111, \"#46039f\"], [0.2222222222222222, \"#7201a8\"], [0.3333333333333333, \"#9c179e\"], [0.4444444444444444, \"#bd3786\"], [0.5555555555555556, \"#d8576b\"], [0.6666666666666666, \"#ed7953\"], [0.7777777777777778, \"#fb9f3a\"], [0.8888888888888888, \"#fdca26\"], [1.0, \"#f0f921\"]], \"type\": \"histogram2dcontour\"}], \"mesh3d\": [{\"colorbar\": {\"outlinewidth\": 0, \"ticks\": \"\"}, \"type\": \"mesh3d\"}], \"parcoords\": [{\"line\": {\"colorbar\": {\"outlinewidth\": 0, \"ticks\": \"\"}}, \"type\": \"parcoords\"}], \"scatter\": [{\"marker\": {\"colorbar\": {\"outlinewidth\": 0, \"ticks\": \"\"}}, \"type\": \"scatter\"}], \"scatter3d\": [{\"line\": {\"colorbar\": {\"outlinewidth\": 0, \"ticks\": \"\"}}, \"marker\": {\"colorbar\": {\"outlinewidth\": 0, \"ticks\": \"\"}}, \"type\": \"scatter3d\"}], \"scattercarpet\": [{\"marker\": {\"colorbar\": {\"outlinewidth\": 0, \"ticks\": \"\"}}, \"type\": \"scattercarpet\"}], \"scattergeo\": [{\"marker\": {\"colorbar\": {\"outlinewidth\": 0, \"ticks\": \"\"}}, \"type\": \"scattergeo\"}], \"scattergl\": [{\"marker\": {\"colorbar\": {\"outlinewidth\": 0, \"ticks\": \"\"}}, \"type\": \"scattergl\"}], \"scattermapbox\": [{\"marker\": {\"colorbar\": {\"outlinewidth\": 0, \"ticks\": \"\"}}, \"type\": \"scattermapbox\"}], \"scatterpolar\": [{\"marker\": {\"colorbar\": {\"outlinewidth\": 0, \"ticks\": \"\"}}, \"type\": \"scatterpolar\"}], \"scatterpolargl\": [{\"marker\": {\"colorbar\": {\"outlinewidth\": 0, \"ticks\": \"\"}}, \"type\": \"scatterpolargl\"}], \"scatterternary\": [{\"marker\": {\"colorbar\": {\"outlinewidth\": 0, \"ticks\": \"\"}}, \"type\": \"scatterternary\"}], \"surface\": [{\"colorbar\": {\"outlinewidth\": 0, \"ticks\": \"\"}, \"colorscale\": [[0.0, \"#0d0887\"], [0.1111111111111111, \"#46039f\"], [0.2222222222222222, \"#7201a8\"], [0.3333333333333333, \"#9c179e\"], [0.4444444444444444, \"#bd3786\"], [0.5555555555555556, \"#d8576b\"], [0.6666666666666666, \"#ed7953\"], [0.7777777777777778, \"#fb9f3a\"], [0.8888888888888888, \"#fdca26\"], [1.0, \"#f0f921\"]], \"type\": \"surface\"}], \"table\": [{\"cells\": {\"fill\": {\"color\": \"#EBF0F8\"}, \"line\": {\"color\": \"white\"}}, \"header\": {\"fill\": {\"color\": \"#C8D4E3\"}, \"line\": {\"color\": \"white\"}}, \"type\": \"table\"}]}, \"layout\": {\"annotationdefaults\": {\"arrowcolor\": \"#2a3f5f\", \"arrowhead\": 0, \"arrowwidth\": 1}, \"colorscale\": {\"diverging\": [[0, \"#8e0152\"], [0.1, \"#c51b7d\"], [0.2, \"#de77ae\"], [0.3, \"#f1b6da\"], [0.4, \"#fde0ef\"], [0.5, \"#f7f7f7\"], [0.6, \"#e6f5d0\"], [0.7, \"#b8e186\"], [0.8, \"#7fbc41\"], [0.9, \"#4d9221\"], [1, \"#276419\"]], \"sequential\": [[0.0, \"#0d0887\"], [0.1111111111111111, \"#46039f\"], [0.2222222222222222, \"#7201a8\"], [0.3333333333333333, \"#9c179e\"], [0.4444444444444444, \"#bd3786\"], [0.5555555555555556, \"#d8576b\"], [0.6666666666666666, \"#ed7953\"], [0.7777777777777778, \"#fb9f3a\"], [0.8888888888888888, \"#fdca26\"], [1.0, \"#f0f921\"]], \"sequentialminus\": [[0.0, \"#0d0887\"], [0.1111111111111111, \"#46039f\"], [0.2222222222222222, \"#7201a8\"], [0.3333333333333333, \"#9c179e\"], [0.4444444444444444, \"#bd3786\"], [0.5555555555555556, \"#d8576b\"], [0.6666666666666666, \"#ed7953\"], [0.7777777777777778, \"#fb9f3a\"], [0.8888888888888888, \"#fdca26\"], [1.0, \"#f0f921\"]]}, \"colorway\": [\"#636efa\", \"#EF553B\", \"#00cc96\", \"#ab63fa\", \"#FFA15A\", \"#19d3f3\", \"#FF6692\", \"#B6E880\", \"#FF97FF\", \"#FECB52\"], \"font\": {\"color\": \"#2a3f5f\"}, \"geo\": {\"bgcolor\": \"white\", \"lakecolor\": \"white\", \"landcolor\": \"white\", \"showlakes\": true, \"showland\": true, \"subunitcolor\": \"#C8D4E3\"}, \"hoverlabel\": {\"align\": \"left\"}, \"hovermode\": \"closest\", \"mapbox\": {\"style\": \"light\"}, \"paper_bgcolor\": \"white\", \"plot_bgcolor\": \"white\", \"polar\": {\"angularaxis\": {\"gridcolor\": \"#EBF0F8\", \"linecolor\": \"#EBF0F8\", \"ticks\": \"\"}, \"bgcolor\": \"white\", \"radialaxis\": {\"gridcolor\": \"#EBF0F8\", \"linecolor\": \"#EBF0F8\", \"ticks\": \"\"}}, \"scene\": {\"xaxis\": {\"backgroundcolor\": \"white\", \"gridcolor\": \"#DFE8F3\", \"gridwidth\": 2, \"linecolor\": \"#EBF0F8\", \"showbackground\": true, \"ticks\": \"\", \"zerolinecolor\": \"#EBF0F8\"}, \"yaxis\": {\"backgroundcolor\": \"white\", \"gridcolor\": \"#DFE8F3\", \"gridwidth\": 2, \"linecolor\": \"#EBF0F8\", \"showbackground\": true, \"ticks\": \"\", \"zerolinecolor\": \"#EBF0F8\"}, \"zaxis\": {\"backgroundcolor\": \"white\", \"gridcolor\": \"#DFE8F3\", \"gridwidth\": 2, \"linecolor\": \"#EBF0F8\", \"showbackground\": true, \"ticks\": \"\", \"zerolinecolor\": \"#EBF0F8\"}}, \"shapedefaults\": {\"line\": {\"color\": \"#2a3f5f\"}}, \"ternary\": {\"aaxis\": {\"gridcolor\": \"#DFE8F3\", \"linecolor\": \"#A2B1C6\", \"ticks\": \"\"}, \"baxis\": {\"gridcolor\": \"#DFE8F3\", \"linecolor\": \"#A2B1C6\", \"ticks\": \"\"}, \"bgcolor\": \"white\", \"caxis\": {\"gridcolor\": \"#DFE8F3\", \"linecolor\": \"#A2B1C6\", \"ticks\": \"\"}}, \"title\": {\"x\": 0.05}, \"xaxis\": {\"automargin\": true, \"gridcolor\": \"#EBF0F8\", \"linecolor\": \"#EBF0F8\", \"ticks\": \"\", \"zerolinecolor\": \"#EBF0F8\", \"zerolinewidth\": 2}, \"yaxis\": {\"automargin\": true, \"gridcolor\": \"#EBF0F8\", \"linecolor\": \"#EBF0F8\", \"ticks\": \"\", \"zerolinecolor\": \"#EBF0F8\", \"zerolinewidth\": 2}}}, \"width\": 800},\n",
       "                        {\"responsive\": true}\n",
       "                    ).then(function(){\n",
       "                            \n",
       "var gd = document.getElementById('ac45cf63-b181-4ad1-ad36-5b18efb4cca5');\n",
       "var x = new MutationObserver(function (mutations, observer) {{\n",
       "        var display = window.getComputedStyle(gd).display;\n",
       "        if (!display || display === 'none') {{\n",
       "            console.log([gd, 'removed!']);\n",
       "            Plotly.purge(gd);\n",
       "            observer.disconnect();\n",
       "        }}\n",
       "}});\n",
       "\n",
       "// Listen for the removal of the full notebook cells\n",
       "var notebookContainer = gd.closest('#notebook-container');\n",
       "if (notebookContainer) {{\n",
       "    x.observe(notebookContainer, {childList: true});\n",
       "}}\n",
       "\n",
       "// Listen for the clearing of the current output cell\n",
       "var outputEl = gd.closest('.output');\n",
       "if (outputEl) {{\n",
       "    x.observe(outputEl, {childList: true});\n",
       "}}\n",
       "\n",
       "                        })\n",
       "                };\n",
       "                });\n",
       "            </script>\n",
       "        </div>"
      ]
     },
     "metadata": {},
     "output_type": "display_data"
    }
   ],
   "source": [
    "fig = px.line_polar(fw, r='value', theta='kpi', color='name', line_dash='name',\n",
    "                    line_close=True, template=\"plotly_white\",\n",
    "                    width=800, text='value')\n",
    "fig.update_traces(mode='lines', line_width=5)\n",
    "fig.update_layout(legend=dict(x=.8, y=1.1))\n",
    "fig.show()"
   ]
  },
  {
   "cell_type": "code",
   "execution_count": null,
   "metadata": {},
   "outputs": [],
   "source": []
  }
 ],
 "metadata": {
  "kernelspec": {
   "display_name": "Python 3",
   "language": "python",
   "name": "python3"
  },
  "language_info": {
   "codemirror_mode": {
    "name": "ipython",
    "version": 3
   },
   "file_extension": ".py",
   "mimetype": "text/x-python",
   "name": "python",
   "nbconvert_exporter": "python",
   "pygments_lexer": "ipython3",
   "version": "3.7.3"
  }
 },
 "nbformat": 4,
 "nbformat_minor": 2
}
